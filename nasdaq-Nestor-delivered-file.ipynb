{
  "nbformat": 4,
  "nbformat_minor": 0,
  "metadata": {
    "colab": {
      "name": "Untitled3.ipynb",
      "provenance": [],
      "collapsed_sections": [],
      "authorship_tag": "ABX9TyOxShpdV5t/srhd2Ep+rEHq",
      "include_colab_link": true
    },
    "kernelspec": {
      "display_name": "Python 3",
      "name": "python3"
    },
    "language_info": {
      "name": "python"
    }
  },
  "cells": [
    {
      "cell_type": "markdown",
      "metadata": {
        "id": "view-in-github",
        "colab_type": "text"
      },
      "source": [
        "<a href=\"https://colab.research.google.com/github/Ali-Saud/ML-in-PE/blob/master/nasdaq-Nestor-delivered-file.ipynb\" target=\"_parent\"><img src=\"https://colab.research.google.com/assets/colab-badge.svg\" alt=\"Open In Colab\"/></a>"
      ]
    },
    {
      "cell_type": "code",
      "metadata": {
        "id": "UQqpYPd3XSZI"
      },
      "source": [
        "import numpy as np\n",
        "from tensorflow.keras.models import Sequential\n",
        "from tensorflow.keras.layers import LSTM\n",
        "from tensorflow.keras.layers import Dense, Dropout\n",
        "import pandas as pd\n",
        "from matplotlib import pyplot as plt\n",
        "from sklearn.preprocessing import StandardScaler\n",
        "import seaborn as sns\n",
        "import math"
      ],
      "execution_count": 1709,
      "outputs": []
    },
    {
      "cell_type": "code",
      "metadata": {
        "id": "Pr694L2RXdce"
      },
      "source": [
        "df = pd.read_csv('nasdaq-21-y.csv')\n",
        "cols = list(df)[1:6]"
      ],
      "execution_count": 1710,
      "outputs": []
    },
    {
      "cell_type": "code",
      "metadata": {
        "colab": {
          "base_uri": "https://localhost:8080/",
          "height": 265
        },
        "id": "zG8IYcGqYPtp",
        "outputId": "60eba03a-05d6-4feb-b6f8-0ef54a250e73"
      },
      "source": [
        "#New dataframe with only training data - 5 columns\n",
        "df_for_training = df[cols].astype(float)\n",
        "\n",
        "df_for_plot=df_for_training['Close'].tail(5000)\n",
        "df_for_plot.plot.line()\n",
        "\n",
        "#LSTM uses sigmoid and tanh that are sensitive to magnitude so values need to be normalized\n",
        "# normalize the dataset\n",
        "scaler = StandardScaler()\n",
        "scaler = scaler.fit(df_for_training)\n",
        "df_for_training_scaled = scaler.transform(df_for_training)"
      ],
      "execution_count": 1711,
      "outputs": [
        {
          "output_type": "display_data",
          "data": {
            "image/png": "[encoded data removed]",
            "text/plain": [
              "<Figure size 432x288 with 1 Axes>"
            ]
          },
          "metadata": {
            "needs_background": "light"
          }
        }
      ]
    },
    {
      "cell_type": "markdown",
      "metadata": {
        "id": "UunnceqhXSoy"
      },
      "source": [
        "Prediction *Variables*:"
      ]
    },
    {
      "cell_type": "code",
      "metadata": {
        "id": "aSfSiuoi_Fkw"
      },
      "source": [
        "last_original_date = '2021-08-13'"
      ],
      "execution_count": 1712,
      "outputs": []
    },
    {
      "cell_type": "code",
      "metadata": {
        "id": "aoCixQCVXbp3"
      },
      "source": [
        "n_future = 1   # Number of days we want to look into the future based on the past days.\n",
        "n_past = 5  # Number of past days we want to use to predict the future."
      ],
      "execution_count": 1713,
      "outputs": []
    },
    {
      "cell_type": "code",
      "metadata": {
        "colab": {
          "base_uri": "https://localhost:8080/"
        },
        "id": "yJgypICHYVP_",
        "outputId": "3129648e-748a-49c7-b90a-8f75d9b501e5"
      },
      "source": [
        "#As required for LSTM networks, we require to reshape an input data into n_samples x timesteps x n_features. \n",
        "#In this example, the n_features is 5. We will make timesteps = 14 (past days data used for training). \n",
        "\n",
        "#Empty lists to be populated using formatted training data\n",
        "trainX = []\n",
        "trainY = []\n",
        "\n",
        "\n",
        "#Reformat input data into a shape: (n_samples x timesteps x n_features)\n",
        "#In my example, my df_for_training_scaled has a shape (12823, 5)\n",
        "#12823 refers to the number of data points and 5 refers to the columns (multi-variables).\n",
        "for i in range(n_past, len(df_for_training_scaled) - n_future +1):\n",
        "    trainX.append(df_for_training_scaled[i - n_past:i, 0:df_for_training.shape[1]])\n",
        "    trainY.append(df_for_training_scaled[i + n_future - 1:i + n_future, 0])\n",
        "\n",
        "trainX, trainY = np.array(trainX), np.array(trainY)\n",
        "\n",
        "print('trainX shape == {}.'.format(trainX.shape))\n",
        "print('trainY shape == {}.'.format(trainY.shape))"
      ],
      "execution_count": 1714,
      "outputs": [
        {
          "output_type": "stream",
          "text": [
            "trainX shape == (5277, 5, 5).\n",
            "trainY shape == (5277, 1).\n"
          ],
          "name": "stdout"
        }
      ]
    },
    {
      "cell_type": "code",
      "metadata": {
        "colab": {
          "base_uri": "https://localhost:8080/"
        },
        "id": "4b48gD2aYybc",
        "outputId": "e882e4a8-3e7e-4849-e8d2-ddb2498a9022"
      },
      "source": [
        "# define the Autoencoder model\n",
        "\n",
        "model = Sequential()\n",
        "model.add(LSTM(64, activation='relu', input_shape=(trainX.shape[1], trainX.shape[2]), return_sequences=True))\n",
        "model.add(LSTM(32, activation='relu', return_sequences=False))\n",
        "model.add(Dropout(0.2))\n",
        "model.add(Dense(trainY.shape[1]))\n",
        "\n",
        "model.compile(optimizer='adam', loss='mse')\n",
        "model.summary()"
      ],
      "execution_count": 1715,
      "outputs": [
        {
          "output_type": "stream",
          "text": [
            "Model: \"sequential_28\"\n",
            "_________________________________________________________________\n",
            "Layer (type)                 Output Shape              Param #   \n",
            "=================================================================\n",
            "lstm_56 (LSTM)               (None, 5, 64)             17920     \n",
            "_________________________________________________________________\n",
            "lstm_57 (LSTM)               (None, 32)                12416     \n",
            "_________________________________________________________________\n",
            "dropout_28 (Dropout)         (None, 32)                0         \n",
            "_________________________________________________________________\n",
            "dense_28 (Dense)             (None, 1)                 33        \n",
            "=================================================================\n",
            "Total params: 30,369\n",
            "Trainable params: 30,369\n",
            "Non-trainable params: 0\n",
            "_________________________________________________________________\n"
          ],
          "name": "stdout"
        }
      ]
    },
    {
      "cell_type": "code",
      "metadata": {
        "colab": {
          "base_uri": "https://localhost:8080/",
          "height": 560
        },
        "id": "GUG4l7PDMKe3",
        "outputId": "ed4ff6ad-a024-4f52-ceaa-1efbad8321e5"
      },
      "source": [
        "# fit the model\n",
        "history = model.fit(trainX, trainY, epochs=8, batch_size=64, validation_split=0.1, verbose=1)\n",
        "\n",
        "plt.plot(history.history['loss'], label='Training loss')\n",
        "plt.plot(history.history['val_loss'], label='Validation loss')\n",
        "plt.legend()"
      ],
      "execution_count": 1716,
      "outputs": [
        {
          "output_type": "stream",
          "text": [
            "Epoch 1/8\n",
            "75/75 [==============================] - 4s 14ms/step - loss: 0.0941 - val_loss: 1.0913\n",
            "Epoch 2/8\n",
            "75/75 [==============================] - 1s 9ms/step - loss: 0.0153 - val_loss: 0.3117\n",
            "Epoch 3/8\n",
            "75/75 [==============================] - 1s 9ms/step - loss: 0.0120 - val_loss: 0.1251\n",
            "Epoch 4/8\n",
            "75/75 [==============================] - 1s 9ms/step - loss: 0.0121 - val_loss: 0.2812\n",
            "Epoch 5/8\n",
            "75/75 [==============================] - 1s 9ms/step - loss: 0.0120 - val_loss: 0.0071\n",
            "Epoch 6/8\n",
            "75/75 [==============================] - 1s 9ms/step - loss: 0.0109 - val_loss: 0.0056\n",
            "Epoch 7/8\n",
            "75/75 [==============================] - 1s 9ms/step - loss: 0.0110 - val_loss: 0.0058\n",
            "Epoch 8/8\n",
            "75/75 [==============================] - 1s 9ms/step - loss: 0.0102 - val_loss: 0.0108\n"
          ],
          "name": "stdout"
        },
        {
          "output_type": "execute_result",
          "data": {
            "text/plain": [
              "<matplotlib.legend.Legend at 0x7f7e83b3d090>"
            ]
          },
          "metadata": {},
          "execution_count": 1716
        },
        {
          "output_type": "display_data",
          "data": {
            "image/png": "[encoded data removed]",
            "text/plain": [
              "<Figure size 432x288 with 1 Axes>"
            ]
          },
          "metadata": {
            "needs_background": "light"
          }
        }
      ]
    },
    {
      "cell_type": "code",
      "metadata": {
        "colab": {
          "base_uri": "https://localhost:8080/"
        },
        "id": "1VVE4FePosp0",
        "outputId": "d2084029-c967-4d51-adec-64849c4c5fbc"
      },
      "source": [
        "print(history.history['loss'])\n",
        "#print(history.history['acc'])"
      ],
      "execution_count": 1717,
      "outputs": [
        {
          "output_type": "stream",
          "text": [
            "[0.09406542032957077, 0.015270830132067204, 0.012015830725431442, 0.012088553048670292, 0.012025529518723488, 0.010869237594306469, 0.01100065466016531, 0.010217451490461826]\n"
          ],
          "name": "stdout"
        }
      ]
    },
    {
      "cell_type": "code",
      "metadata": {
        "id": "5PEtnpyeVnT8"
      },
      "source": [
        "#loss, acc = new_model.evaluate(trainX, trainY, verbose=2)\n",
        "#print('Restored model, accuracy: {:5.2f}%'.format(100 * acc))"
      ],
      "execution_count": 1718,
      "outputs": []
    },
    {
      "cell_type": "markdown",
      "metadata": {
        "id": "azMtAcG-X-kG"
      },
      "source": [
        "## Define Days in the past used to predict how many days in future:"
      ]
    },
    {
      "cell_type": "code",
      "metadata": {
        "id": "RrHKAD0_X9ED"
      },
      "source": [
        "n_past = 5  # best value is 5 days for best accuracy\n",
        "n_days_for_prediction= 20 # For best directional accuracy don't put > 20"
      ],
      "execution_count": 1719,
      "outputs": []
    },
    {
      "cell_type": "code",
      "metadata": {
        "colab": {
          "base_uri": "https://localhost:8080/"
        },
        "id": "qtMRtONPYy68",
        "outputId": "2447a9ad-34af-4571-dc3f-e5e734e7b79d"
      },
      "source": [
        "#Predicting...\n",
        "#Libraries that will help us extract only business days in the US.\n",
        "#Otherwise our dates would be wrong when we look back (or forward).  \n",
        "from pandas.tseries.holiday import USFederalHolidayCalendar\n",
        "from pandas.tseries.offsets import CustomBusinessDay\n",
        "us_bd = CustomBusinessDay(calendar=USFederalHolidayCalendar())\n",
        "train_dates = pd.to_datetime(df['Date'])\n",
        "#Remember that we can only predict one day in future as our model needs 5 variables\n",
        "#as inputs for prediction. We only have all 5 variables until the last day in our dataset.\n",
        "\n",
        "\n",
        "predict_period_dates = pd.date_range(list(train_dates)[-n_past], periods=n_days_for_prediction, freq=us_bd).tolist()\n",
        "print(predict_period_dates)"
      ],
      "execution_count": 1720,
      "outputs": [
        {
          "output_type": "stream",
          "text": [
            "[Timestamp('2021-08-09 00:00:00', freq='C'), Timestamp('2021-08-10 00:00:00', freq='C'), Timestamp('2021-08-11 00:00:00', freq='C'), Timestamp('2021-08-12 00:00:00', freq='C'), Timestamp('2021-08-13 00:00:00', freq='C'), Timestamp('2021-08-16 00:00:00', freq='C'), Timestamp('2021-08-17 00:00:00', freq='C'), Timestamp('2021-08-18 00:00:00', freq='C'), Timestamp('2021-08-19 00:00:00', freq='C'), Timestamp('2021-08-20 00:00:00', freq='C'), Timestamp('2021-08-23 00:00:00', freq='C'), Timestamp('2021-08-24 00:00:00', freq='C'), Timestamp('2021-08-25 00:00:00', freq='C'), Timestamp('2021-08-26 00:00:00', freq='C'), Timestamp('2021-08-27 00:00:00', freq='C'), Timestamp('2021-08-30 00:00:00', freq='C'), Timestamp('2021-08-31 00:00:00', freq='C'), Timestamp('2021-09-01 00:00:00', freq='C'), Timestamp('2021-09-02 00:00:00', freq='C'), Timestamp('2021-09-03 00:00:00', freq='C')]\n"
          ],
          "name": "stdout"
        }
      ]
    },
    {
      "cell_type": "code",
      "metadata": {
        "id": "y0rWsbT0LjKt"
      },
      "source": [
        "prediction_period = pd.to_datetime(predict_period_dates)\n",
        "#prediction_period"
      ],
      "execution_count": 1721,
      "outputs": []
    },
    {
      "cell_type": "code",
      "metadata": {
        "colab": {
          "base_uri": "https://localhost:8080/",
          "height": 35
        },
        "id": "bziiVJwPLxES",
        "outputId": "0f4fbf0a-579a-47bc-c661-477eea05bde4"
      },
      "source": [
        "s =prediction_period[0]\n",
        "s = s.strftime('%Y-%m-%d')\n",
        "s"
      ],
      "execution_count": 1722,
      "outputs": [
        {
          "output_type": "execute_result",
          "data": {
            "application/vnd.google.colaboratory.intrinsic+json": {
              "type": "string"
            },
            "text/plain": [
              "'2021-08-09'"
            ]
          },
          "metadata": {},
          "execution_count": 1722
        }
      ]
    },
    {
      "cell_type": "code",
      "metadata": {
        "colab": {
          "base_uri": "https://localhost:8080/",
          "height": 35
        },
        "id": "mMwpdvSiw9ET",
        "outputId": "2e0da75b-a399-4704-a491-ed97001d9c69"
      },
      "source": [
        "e =prediction_period[-1]\n",
        "e = e.strftime('%Y-%m-%d')\n",
        "e"
      ],
      "execution_count": 1723,
      "outputs": [
        {
          "output_type": "execute_result",
          "data": {
            "application/vnd.google.colaboratory.intrinsic+json": {
              "type": "string"
            },
            "text/plain": [
              "'2021-09-03'"
            ]
          },
          "metadata": {},
          "execution_count": 1723
        }
      ]
    },
    {
      "cell_type": "code",
      "metadata": {
        "colab": {
          "base_uri": "https://localhost:8080/"
        },
        "id": "axuF3Av-ZtC5",
        "outputId": "6d16d85f-3d14-4320-a2cd-6bbb9a8a6349"
      },
      "source": [
        "pred_dates[-1]"
      ],
      "execution_count": 1724,
      "outputs": [
        {
          "output_type": "execute_result",
          "data": {
            "text/plain": [
              "Timestamp('2021-08-27 00:00:00')"
            ]
          },
          "metadata": {},
          "execution_count": 1724
        }
      ]
    },
    {
      "cell_type": "code",
      "metadata": {
        "colab": {
          "base_uri": "https://localhost:8080/",
          "height": 402
        },
        "id": "yFZglOELTh_h",
        "outputId": "358bb500-a419-469f-f19f-a0e8551fc3fa"
      },
      "source": [
        "#Make prediction\n",
        "prediction = model.predict(trainX[-n_days_for_prediction:]) #shape = (n, 1) where n is the n_days_for_prediction\n",
        "\n",
        "#Perform inverse transformation to rescale back to original range\n",
        "#Since we used 5 variables for transform, the inverse expects same dimensions\n",
        "#Therefore, let us copy our values 5 times and discard them after inverse transform\n",
        "prediction_copies = np.repeat(prediction, df_for_training.shape[1], axis=-1)\n",
        "y_pred_future = scaler.inverse_transform(prediction_copies)[:,0]\n",
        "\n",
        "\n",
        "# Convert timestamp to date\n",
        "forecast_dates = []\n",
        "for time_i in predict_period_dates:\n",
        "    forecast_dates.append(time_i.date())\n",
        "    \n",
        "df_forecast = pd.DataFrame({'Date':np.array(forecast_dates), 'Close':y_pred_future})\n",
        "df_forecast['Date']=pd.to_datetime(df_forecast['Date'])\n",
        "\n",
        "\n",
        "original = df[['Date', 'Close']]\n",
        "original['Date']=pd.to_datetime(original['Date'])\n",
        "original = original.loc[original['Date'] >= '2020-5-1']\n",
        "\n",
        "#sns.lineplot(original['Date'], original['Close'])\n",
        "#sns.lineplot(df_forecast['Date'], df_forecast['Close'])\n",
        "\n",
        "plt.plot(original['Date'], original['Close'], color = 'red', label = ' Stock Price')\n",
        "plt.plot(df_forecast['Date'], df_forecast['Close'] , color = 'green', label = 'Predicted  Stock Price')\n",
        "plt.title(' Stock Price Prediction')\n",
        "plt.xlabel('Time')\n",
        "plt.ylabel(' Stock Price')\n",
        "plt.legend()\n",
        "plt.show()"
      ],
      "execution_count": 1725,
      "outputs": [
        {
          "output_type": "stream",
          "text": [
            "/usr/local/lib/python3.7/dist-packages/ipykernel_launcher.py:21: SettingWithCopyWarning: \n",
            "A value is trying to be set on a copy of a slice from a DataFrame.\n",
            "Try using .loc[row_indexer,col_indexer] = value instead\n",
            "\n",
            "See the caveats in the documentation: https://pandas.pydata.org/pandas-docs/stable/user_guide/indexing.html#returning-a-view-versus-a-copy\n"
          ],
          "name": "stderr"
        },
        {
          "output_type": "display_data",
          "data": {
            "image/png": "[encoded data removed]",
            "text/plain": [
              "<Figure size 432x288 with 1 Axes>"
            ]
          },
          "metadata": {
            "needs_background": "light"
          }
        }
      ]
    },
    {
      "cell_type": "code",
      "metadata": {
        "colab": {
          "base_uri": "https://localhost:8080/",
          "height": 363
        },
        "id": "dFrya6uGkGbx",
        "outputId": "7e2dfd16-0d5d-4ea9-ca32-40b33496ed50"
      },
      "source": [
        "original.tail(10)"
      ],
      "execution_count": 1726,
      "outputs": [
        {
          "output_type": "execute_result",
          "data": {
            "text/html": [
              "<div>\n",
              "<style scoped>\n",
              "    .dataframe tbody tr th:only-of-type {\n",
              "        vertical-align: middle;\n",
              "    }\n",
              "\n",
              "    .dataframe tbody tr th {\n",
              "        vertical-align: top;\n",
              "    }\n",
              "\n",
              "    .dataframe thead th {\n",
              "        text-align: right;\n",
              "    }\n",
              "</style>\n",
              "<table border=\"1\" class=\"dataframe\">\n",
              "  <thead>\n",
              "    <tr style=\"text-align: right;\">\n",
              "      <th></th>\n",
              "      <th>Date</th>\n",
              "      <th>Close</th>\n",
              "    </tr>\n",
              "  </thead>\n",
              "  <tbody>\n",
              "    <tr>\n",
              "      <th>5272</th>\n",
              "      <td>2021-08-02</td>\n",
              "      <td>14681.070313</td>\n",
              "    </tr>\n",
              "    <tr>\n",
              "      <th>5273</th>\n",
              "      <td>2021-08-03</td>\n",
              "      <td>14761.290039</td>\n",
              "    </tr>\n",
              "    <tr>\n",
              "      <th>5274</th>\n",
              "      <td>2021-08-04</td>\n",
              "      <td>14780.530273</td>\n",
              "    </tr>\n",
              "    <tr>\n",
              "      <th>5275</th>\n",
              "      <td>2021-08-05</td>\n",
              "      <td>14895.120117</td>\n",
              "    </tr>\n",
              "    <tr>\n",
              "      <th>5276</th>\n",
              "      <td>2021-08-06</td>\n",
              "      <td>14835.759766</td>\n",
              "    </tr>\n",
              "    <tr>\n",
              "      <th>5277</th>\n",
              "      <td>2021-08-09</td>\n",
              "      <td>14860.179688</td>\n",
              "    </tr>\n",
              "    <tr>\n",
              "      <th>5278</th>\n",
              "      <td>2021-08-10</td>\n",
              "      <td>14788.089844</td>\n",
              "    </tr>\n",
              "    <tr>\n",
              "      <th>5279</th>\n",
              "      <td>2021-08-11</td>\n",
              "      <td>14765.139648</td>\n",
              "    </tr>\n",
              "    <tr>\n",
              "      <th>5280</th>\n",
              "      <td>2021-08-12</td>\n",
              "      <td>14816.259766</td>\n",
              "    </tr>\n",
              "    <tr>\n",
              "      <th>5281</th>\n",
              "      <td>2021-08-13</td>\n",
              "      <td>14822.900391</td>\n",
              "    </tr>\n",
              "  </tbody>\n",
              "</table>\n",
              "</div>"
            ],
            "text/plain": [
              "           Date         Close\n",
              "5272 2021-08-02  14681.070313\n",
              "5273 2021-08-03  14761.290039\n",
              "5274 2021-08-04  14780.530273\n",
              "5275 2021-08-05  14895.120117\n",
              "5276 2021-08-06  14835.759766\n",
              "5277 2021-08-09  14860.179688\n",
              "5278 2021-08-10  14788.089844\n",
              "5279 2021-08-11  14765.139648\n",
              "5280 2021-08-12  14816.259766\n",
              "5281 2021-08-13  14822.900391"
            ]
          },
          "metadata": {},
          "execution_count": 1726
        }
      ]
    },
    {
      "cell_type": "code",
      "metadata": {
        "colab": {
          "base_uri": "https://localhost:8080/",
          "height": 676
        },
        "id": "N-Dkg1hYTeHN",
        "outputId": "a5300e37-7251-433b-b0a9-a8c6fc50784d"
      },
      "source": [
        "df_forecast"
      ],
      "execution_count": 1727,
      "outputs": [
        {
          "output_type": "execute_result",
          "data": {
            "text/html": [
              "<div>\n",
              "<style scoped>\n",
              "    .dataframe tbody tr th:only-of-type {\n",
              "        vertical-align: middle;\n",
              "    }\n",
              "\n",
              "    .dataframe tbody tr th {\n",
              "        vertical-align: top;\n",
              "    }\n",
              "\n",
              "    .dataframe thead th {\n",
              "        text-align: right;\n",
              "    }\n",
              "</style>\n",
              "<table border=\"1\" class=\"dataframe\">\n",
              "  <thead>\n",
              "    <tr style=\"text-align: right;\">\n",
              "      <th></th>\n",
              "      <th>Date</th>\n",
              "      <th>Close</th>\n",
              "    </tr>\n",
              "  </thead>\n",
              "  <tbody>\n",
              "    <tr>\n",
              "      <th>0</th>\n",
              "      <td>2021-08-09</td>\n",
              "      <td>14922.597656</td>\n",
              "    </tr>\n",
              "    <tr>\n",
              "      <th>1</th>\n",
              "      <td>2021-08-10</td>\n",
              "      <td>14833.162109</td>\n",
              "    </tr>\n",
              "    <tr>\n",
              "      <th>2</th>\n",
              "      <td>2021-08-11</td>\n",
              "      <td>14804.204102</td>\n",
              "    </tr>\n",
              "    <tr>\n",
              "      <th>3</th>\n",
              "      <td>2021-08-12</td>\n",
              "      <td>14789.680664</td>\n",
              "    </tr>\n",
              "    <tr>\n",
              "      <th>4</th>\n",
              "      <td>2021-08-13</td>\n",
              "      <td>14799.984375</td>\n",
              "    </tr>\n",
              "    <tr>\n",
              "      <th>5</th>\n",
              "      <td>2021-08-16</td>\n",
              "      <td>14858.670898</td>\n",
              "    </tr>\n",
              "    <tr>\n",
              "      <th>6</th>\n",
              "      <td>2021-08-17</td>\n",
              "      <td>14969.175781</td>\n",
              "    </tr>\n",
              "    <tr>\n",
              "      <th>7</th>\n",
              "      <td>2021-08-18</td>\n",
              "      <td>15009.974609</td>\n",
              "    </tr>\n",
              "    <tr>\n",
              "      <th>8</th>\n",
              "      <td>2021-08-19</td>\n",
              "      <td>15045.002930</td>\n",
              "    </tr>\n",
              "    <tr>\n",
              "      <th>9</th>\n",
              "      <td>2021-08-20</td>\n",
              "      <td>15073.643555</td>\n",
              "    </tr>\n",
              "    <tr>\n",
              "      <th>10</th>\n",
              "      <td>2021-08-23</td>\n",
              "      <td>15041.508789</td>\n",
              "    </tr>\n",
              "    <tr>\n",
              "      <th>11</th>\n",
              "      <td>2021-08-24</td>\n",
              "      <td>15007.718750</td>\n",
              "    </tr>\n",
              "    <tr>\n",
              "      <th>12</th>\n",
              "      <td>2021-08-25</td>\n",
              "      <td>15031.644531</td>\n",
              "    </tr>\n",
              "    <tr>\n",
              "      <th>13</th>\n",
              "      <td>2021-08-26</td>\n",
              "      <td>15034.821289</td>\n",
              "    </tr>\n",
              "    <tr>\n",
              "      <th>14</th>\n",
              "      <td>2021-08-27</td>\n",
              "      <td>15051.024414</td>\n",
              "    </tr>\n",
              "    <tr>\n",
              "      <th>15</th>\n",
              "      <td>2021-08-30</td>\n",
              "      <td>15079.010742</td>\n",
              "    </tr>\n",
              "    <tr>\n",
              "      <th>16</th>\n",
              "      <td>2021-08-31</td>\n",
              "      <td>15107.841797</td>\n",
              "    </tr>\n",
              "    <tr>\n",
              "      <th>17</th>\n",
              "      <td>2021-09-01</td>\n",
              "      <td>15123.216797</td>\n",
              "    </tr>\n",
              "    <tr>\n",
              "      <th>18</th>\n",
              "      <td>2021-09-02</td>\n",
              "      <td>15125.887695</td>\n",
              "    </tr>\n",
              "    <tr>\n",
              "      <th>19</th>\n",
              "      <td>2021-09-03</td>\n",
              "      <td>15115.583008</td>\n",
              "    </tr>\n",
              "  </tbody>\n",
              "</table>\n",
              "</div>"
            ],
            "text/plain": [
              "         Date         Close\n",
              "0  2021-08-09  14922.597656\n",
              "1  2021-08-10  14833.162109\n",
              "2  2021-08-11  14804.204102\n",
              "3  2021-08-12  14789.680664\n",
              "4  2021-08-13  14799.984375\n",
              "5  2021-08-16  14858.670898\n",
              "6  2021-08-17  14969.175781\n",
              "7  2021-08-18  15009.974609\n",
              "8  2021-08-19  15045.002930\n",
              "9  2021-08-20  15073.643555\n",
              "10 2021-08-23  15041.508789\n",
              "11 2021-08-24  15007.718750\n",
              "12 2021-08-25  15031.644531\n",
              "13 2021-08-26  15034.821289\n",
              "14 2021-08-27  15051.024414\n",
              "15 2021-08-30  15079.010742\n",
              "16 2021-08-31  15107.841797\n",
              "17 2021-09-01  15123.216797\n",
              "18 2021-09-02  15125.887695\n",
              "19 2021-09-03  15115.583008"
            ]
          },
          "metadata": {},
          "execution_count": 1727
        }
      ]
    },
    {
      "cell_type": "code",
      "metadata": {
        "id": "P0n5cVq4SjdV"
      },
      "source": [
        "#p = df_forecast['Date']"
      ],
      "execution_count": 1728,
      "outputs": []
    },
    {
      "cell_type": "code",
      "metadata": {
        "id": "lmDvN4BKThwl"
      },
      "source": [
        "#p = np.array(p)"
      ],
      "execution_count": 1729,
      "outputs": []
    },
    {
      "cell_type": "code",
      "metadata": {
        "id": "c5SxPSuAUqFN"
      },
      "source": [
        "#p = pd.to_datetime(p)\n",
        "#p"
      ],
      "execution_count": 1730,
      "outputs": []
    },
    {
      "cell_type": "code",
      "metadata": {
        "id": "tX59Jt6QU83F"
      },
      "source": [
        "#pred_start = p[0]\n",
        "#pred_start"
      ],
      "execution_count": 1731,
      "outputs": []
    },
    {
      "cell_type": "code",
      "metadata": {
        "id": "TOxuqhtObh6F"
      },
      "source": [
        "#pred_end = p[-1]\n",
        "#pred_end"
      ],
      "execution_count": 1732,
      "outputs": []
    },
    {
      "cell_type": "code",
      "metadata": {
        "colab": {
          "base_uri": "https://localhost:8080/",
          "height": 206
        },
        "id": "eHEHQ5c9V9M1",
        "outputId": "26aa6c65-a0c8-47a3-beda-f40479ac1c96"
      },
      "source": [
        "original_open = original.loc[original['Date'] >= s]\n",
        "\n",
        "original_open"
      ],
      "execution_count": 1733,
      "outputs": [
        {
          "output_type": "execute_result",
          "data": {
            "text/html": [
              "<div>\n",
              "<style scoped>\n",
              "    .dataframe tbody tr th:only-of-type {\n",
              "        vertical-align: middle;\n",
              "    }\n",
              "\n",
              "    .dataframe tbody tr th {\n",
              "        vertical-align: top;\n",
              "    }\n",
              "\n",
              "    .dataframe thead th {\n",
              "        text-align: right;\n",
              "    }\n",
              "</style>\n",
              "<table border=\"1\" class=\"dataframe\">\n",
              "  <thead>\n",
              "    <tr style=\"text-align: right;\">\n",
              "      <th></th>\n",
              "      <th>Date</th>\n",
              "      <th>Close</th>\n",
              "    </tr>\n",
              "  </thead>\n",
              "  <tbody>\n",
              "    <tr>\n",
              "      <th>5277</th>\n",
              "      <td>2021-08-09</td>\n",
              "      <td>14860.179688</td>\n",
              "    </tr>\n",
              "    <tr>\n",
              "      <th>5278</th>\n",
              "      <td>2021-08-10</td>\n",
              "      <td>14788.089844</td>\n",
              "    </tr>\n",
              "    <tr>\n",
              "      <th>5279</th>\n",
              "      <td>2021-08-11</td>\n",
              "      <td>14765.139648</td>\n",
              "    </tr>\n",
              "    <tr>\n",
              "      <th>5280</th>\n",
              "      <td>2021-08-12</td>\n",
              "      <td>14816.259766</td>\n",
              "    </tr>\n",
              "    <tr>\n",
              "      <th>5281</th>\n",
              "      <td>2021-08-13</td>\n",
              "      <td>14822.900391</td>\n",
              "    </tr>\n",
              "  </tbody>\n",
              "</table>\n",
              "</div>"
            ],
            "text/plain": [
              "           Date         Close\n",
              "5277 2021-08-09  14860.179688\n",
              "5278 2021-08-10  14788.089844\n",
              "5279 2021-08-11  14765.139648\n",
              "5280 2021-08-12  14816.259766\n",
              "5281 2021-08-13  14822.900391"
            ]
          },
          "metadata": {},
          "execution_count": 1733
        }
      ]
    },
    {
      "cell_type": "code",
      "metadata": {
        "colab": {
          "base_uri": "https://localhost:8080/",
          "height": 206
        },
        "id": "aGjTiO-OHlmD",
        "outputId": "e28733e7-5f6d-48d4-cbc8-30ac7919fb39"
      },
      "source": [
        "original_open = original_open.loc[original_open['Date'] <= e]\n",
        "original_open"
      ],
      "execution_count": 1734,
      "outputs": [
        {
          "output_type": "execute_result",
          "data": {
            "text/html": [
              "<div>\n",
              "<style scoped>\n",
              "    .dataframe tbody tr th:only-of-type {\n",
              "        vertical-align: middle;\n",
              "    }\n",
              "\n",
              "    .dataframe tbody tr th {\n",
              "        vertical-align: top;\n",
              "    }\n",
              "\n",
              "    .dataframe thead th {\n",
              "        text-align: right;\n",
              "    }\n",
              "</style>\n",
              "<table border=\"1\" class=\"dataframe\">\n",
              "  <thead>\n",
              "    <tr style=\"text-align: right;\">\n",
              "      <th></th>\n",
              "      <th>Date</th>\n",
              "      <th>Close</th>\n",
              "    </tr>\n",
              "  </thead>\n",
              "  <tbody>\n",
              "    <tr>\n",
              "      <th>5277</th>\n",
              "      <td>2021-08-09</td>\n",
              "      <td>14860.179688</td>\n",
              "    </tr>\n",
              "    <tr>\n",
              "      <th>5278</th>\n",
              "      <td>2021-08-10</td>\n",
              "      <td>14788.089844</td>\n",
              "    </tr>\n",
              "    <tr>\n",
              "      <th>5279</th>\n",
              "      <td>2021-08-11</td>\n",
              "      <td>14765.139648</td>\n",
              "    </tr>\n",
              "    <tr>\n",
              "      <th>5280</th>\n",
              "      <td>2021-08-12</td>\n",
              "      <td>14816.259766</td>\n",
              "    </tr>\n",
              "    <tr>\n",
              "      <th>5281</th>\n",
              "      <td>2021-08-13</td>\n",
              "      <td>14822.900391</td>\n",
              "    </tr>\n",
              "  </tbody>\n",
              "</table>\n",
              "</div>"
            ],
            "text/plain": [
              "           Date         Close\n",
              "5277 2021-08-09  14860.179688\n",
              "5278 2021-08-10  14788.089844\n",
              "5279 2021-08-11  14765.139648\n",
              "5280 2021-08-12  14816.259766\n",
              "5281 2021-08-13  14822.900391"
            ]
          },
          "metadata": {},
          "execution_count": 1734
        }
      ]
    },
    {
      "cell_type": "code",
      "metadata": {
        "colab": {
          "base_uri": "https://localhost:8080/",
          "height": 676
        },
        "id": "eGeNzLLqMrHk",
        "outputId": "627c4cdc-ee39-4b8e-a76a-0554d6844b25"
      },
      "source": [
        "\n",
        "df_forecast = df_forecast.loc[df_forecast['Date'] >= s]\n",
        "df_forecast"
      ],
      "execution_count": 1735,
      "outputs": [
        {
          "output_type": "execute_result",
          "data": {
            "text/html": [
              "<div>\n",
              "<style scoped>\n",
              "    .dataframe tbody tr th:only-of-type {\n",
              "        vertical-align: middle;\n",
              "    }\n",
              "\n",
              "    .dataframe tbody tr th {\n",
              "        vertical-align: top;\n",
              "    }\n",
              "\n",
              "    .dataframe thead th {\n",
              "        text-align: right;\n",
              "    }\n",
              "</style>\n",
              "<table border=\"1\" class=\"dataframe\">\n",
              "  <thead>\n",
              "    <tr style=\"text-align: right;\">\n",
              "      <th></th>\n",
              "      <th>Date</th>\n",
              "      <th>Close</th>\n",
              "    </tr>\n",
              "  </thead>\n",
              "  <tbody>\n",
              "    <tr>\n",
              "      <th>0</th>\n",
              "      <td>2021-08-09</td>\n",
              "      <td>14922.597656</td>\n",
              "    </tr>\n",
              "    <tr>\n",
              "      <th>1</th>\n",
              "      <td>2021-08-10</td>\n",
              "      <td>14833.162109</td>\n",
              "    </tr>\n",
              "    <tr>\n",
              "      <th>2</th>\n",
              "      <td>2021-08-11</td>\n",
              "      <td>14804.204102</td>\n",
              "    </tr>\n",
              "    <tr>\n",
              "      <th>3</th>\n",
              "      <td>2021-08-12</td>\n",
              "      <td>14789.680664</td>\n",
              "    </tr>\n",
              "    <tr>\n",
              "      <th>4</th>\n",
              "      <td>2021-08-13</td>\n",
              "      <td>14799.984375</td>\n",
              "    </tr>\n",
              "    <tr>\n",
              "      <th>5</th>\n",
              "      <td>2021-08-16</td>\n",
              "      <td>14858.670898</td>\n",
              "    </tr>\n",
              "    <tr>\n",
              "      <th>6</th>\n",
              "      <td>2021-08-17</td>\n",
              "      <td>14969.175781</td>\n",
              "    </tr>\n",
              "    <tr>\n",
              "      <th>7</th>\n",
              "      <td>2021-08-18</td>\n",
              "      <td>15009.974609</td>\n",
              "    </tr>\n",
              "    <tr>\n",
              "      <th>8</th>\n",
              "      <td>2021-08-19</td>\n",
              "      <td>15045.002930</td>\n",
              "    </tr>\n",
              "    <tr>\n",
              "      <th>9</th>\n",
              "      <td>2021-08-20</td>\n",
              "      <td>15073.643555</td>\n",
              "    </tr>\n",
              "    <tr>\n",
              "      <th>10</th>\n",
              "      <td>2021-08-23</td>\n",
              "      <td>15041.508789</td>\n",
              "    </tr>\n",
              "    <tr>\n",
              "      <th>11</th>\n",
              "      <td>2021-08-24</td>\n",
              "      <td>15007.718750</td>\n",
              "    </tr>\n",
              "    <tr>\n",
              "      <th>12</th>\n",
              "      <td>2021-08-25</td>\n",
              "      <td>15031.644531</td>\n",
              "    </tr>\n",
              "    <tr>\n",
              "      <th>13</th>\n",
              "      <td>2021-08-26</td>\n",
              "      <td>15034.821289</td>\n",
              "    </tr>\n",
              "    <tr>\n",
              "      <th>14</th>\n",
              "      <td>2021-08-27</td>\n",
              "      <td>15051.024414</td>\n",
              "    </tr>\n",
              "    <tr>\n",
              "      <th>15</th>\n",
              "      <td>2021-08-30</td>\n",
              "      <td>15079.010742</td>\n",
              "    </tr>\n",
              "    <tr>\n",
              "      <th>16</th>\n",
              "      <td>2021-08-31</td>\n",
              "      <td>15107.841797</td>\n",
              "    </tr>\n",
              "    <tr>\n",
              "      <th>17</th>\n",
              "      <td>2021-09-01</td>\n",
              "      <td>15123.216797</td>\n",
              "    </tr>\n",
              "    <tr>\n",
              "      <th>18</th>\n",
              "      <td>2021-09-02</td>\n",
              "      <td>15125.887695</td>\n",
              "    </tr>\n",
              "    <tr>\n",
              "      <th>19</th>\n",
              "      <td>2021-09-03</td>\n",
              "      <td>15115.583008</td>\n",
              "    </tr>\n",
              "  </tbody>\n",
              "</table>\n",
              "</div>"
            ],
            "text/plain": [
              "         Date         Close\n",
              "0  2021-08-09  14922.597656\n",
              "1  2021-08-10  14833.162109\n",
              "2  2021-08-11  14804.204102\n",
              "3  2021-08-12  14789.680664\n",
              "4  2021-08-13  14799.984375\n",
              "5  2021-08-16  14858.670898\n",
              "6  2021-08-17  14969.175781\n",
              "7  2021-08-18  15009.974609\n",
              "8  2021-08-19  15045.002930\n",
              "9  2021-08-20  15073.643555\n",
              "10 2021-08-23  15041.508789\n",
              "11 2021-08-24  15007.718750\n",
              "12 2021-08-25  15031.644531\n",
              "13 2021-08-26  15034.821289\n",
              "14 2021-08-27  15051.024414\n",
              "15 2021-08-30  15079.010742\n",
              "16 2021-08-31  15107.841797\n",
              "17 2021-09-01  15123.216797\n",
              "18 2021-09-02  15125.887695\n",
              "19 2021-09-03  15115.583008"
            ]
          },
          "metadata": {},
          "execution_count": 1735
        }
      ]
    },
    {
      "cell_type": "code",
      "metadata": {
        "colab": {
          "base_uri": "https://localhost:8080/",
          "height": 206
        },
        "id": "RKAjrXdyy0j5",
        "outputId": "67da0283-563e-496f-ad39-294ac65b770f"
      },
      "source": [
        "df_forecast = df_forecast.loc[df_forecast['Date'] <= last_original_date]\n",
        "df_forecast"
      ],
      "execution_count": 1736,
      "outputs": [
        {
          "output_type": "execute_result",
          "data": {
            "text/html": [
              "<div>\n",
              "<style scoped>\n",
              "    .dataframe tbody tr th:only-of-type {\n",
              "        vertical-align: middle;\n",
              "    }\n",
              "\n",
              "    .dataframe tbody tr th {\n",
              "        vertical-align: top;\n",
              "    }\n",
              "\n",
              "    .dataframe thead th {\n",
              "        text-align: right;\n",
              "    }\n",
              "</style>\n",
              "<table border=\"1\" class=\"dataframe\">\n",
              "  <thead>\n",
              "    <tr style=\"text-align: right;\">\n",
              "      <th></th>\n",
              "      <th>Date</th>\n",
              "      <th>Close</th>\n",
              "    </tr>\n",
              "  </thead>\n",
              "  <tbody>\n",
              "    <tr>\n",
              "      <th>0</th>\n",
              "      <td>2021-08-09</td>\n",
              "      <td>14922.597656</td>\n",
              "    </tr>\n",
              "    <tr>\n",
              "      <th>1</th>\n",
              "      <td>2021-08-10</td>\n",
              "      <td>14833.162109</td>\n",
              "    </tr>\n",
              "    <tr>\n",
              "      <th>2</th>\n",
              "      <td>2021-08-11</td>\n",
              "      <td>14804.204102</td>\n",
              "    </tr>\n",
              "    <tr>\n",
              "      <th>3</th>\n",
              "      <td>2021-08-12</td>\n",
              "      <td>14789.680664</td>\n",
              "    </tr>\n",
              "    <tr>\n",
              "      <th>4</th>\n",
              "      <td>2021-08-13</td>\n",
              "      <td>14799.984375</td>\n",
              "    </tr>\n",
              "  </tbody>\n",
              "</table>\n",
              "</div>"
            ],
            "text/plain": [
              "        Date         Close\n",
              "0 2021-08-09  14922.597656\n",
              "1 2021-08-10  14833.162109\n",
              "2 2021-08-11  14804.204102\n",
              "3 2021-08-12  14789.680664\n",
              "4 2021-08-13  14799.984375"
            ]
          },
          "metadata": {},
          "execution_count": 1736
        }
      ]
    },
    {
      "cell_type": "code",
      "metadata": {
        "id": "C56uwu4WAcxs"
      },
      "source": [
        "direction = []\n",
        "a = 14821.030273\n",
        "for i in df_forecast['Close']:\n",
        "  if (i==a):\n",
        "    dir = 'Neutral'\n",
        "    #print(dir)\n",
        "  if (i< a):\n",
        "    dir = 'Down'\n",
        "    #print(dir)\n",
        "  else:\n",
        "    dir = 'Up'\n",
        "    #print(dir)\n",
        "  a = i\n",
        "  direction.append(dir)\n",
        "#direction\n",
        "  "
      ],
      "execution_count": 1737,
      "outputs": []
    },
    {
      "cell_type": "code",
      "metadata": {
        "colab": {
          "base_uri": "https://localhost:8080/"
        },
        "id": "pJBn1MWL1b2S",
        "outputId": "2da6f21e-4504-4073-f53d-93be46c7f9b5"
      },
      "source": [
        "original_open = original_open['Close']\n",
        "original_open = np.array(original_open)\n",
        "original_open"
      ],
      "execution_count": 1738,
      "outputs": [
        {
          "output_type": "execute_result",
          "data": {
            "text/plain": [
              "array([14860.179688, 14788.089844, 14765.139648, 14816.259766,\n",
              "       14822.900391])"
            ]
          },
          "metadata": {},
          "execution_count": 1738
        }
      ]
    },
    {
      "cell_type": "code",
      "metadata": {
        "colab": {
          "base_uri": "https://localhost:8080/",
          "height": 330
        },
        "id": "z6QOHTpjUEmQ",
        "outputId": "6a790e8e-1c76-4435-f632-0bfd0c95480f"
      },
      "source": [
        "df_forecast['Actual Price'] = original_open\n",
        "df_forecast"
      ],
      "execution_count": 1739,
      "outputs": [
        {
          "output_type": "stream",
          "text": [
            "/usr/local/lib/python3.7/dist-packages/ipykernel_launcher.py:1: SettingWithCopyWarning: \n",
            "A value is trying to be set on a copy of a slice from a DataFrame.\n",
            "Try using .loc[row_indexer,col_indexer] = value instead\n",
            "\n",
            "See the caveats in the documentation: https://pandas.pydata.org/pandas-docs/stable/user_guide/indexing.html#returning-a-view-versus-a-copy\n",
            "  \"\"\"Entry point for launching an IPython kernel.\n"
          ],
          "name": "stderr"
        },
        {
          "output_type": "execute_result",
          "data": {
            "text/html": [
              "<div>\n",
              "<style scoped>\n",
              "    .dataframe tbody tr th:only-of-type {\n",
              "        vertical-align: middle;\n",
              "    }\n",
              "\n",
              "    .dataframe tbody tr th {\n",
              "        vertical-align: top;\n",
              "    }\n",
              "\n",
              "    .dataframe thead th {\n",
              "        text-align: right;\n",
              "    }\n",
              "</style>\n",
              "<table border=\"1\" class=\"dataframe\">\n",
              "  <thead>\n",
              "    <tr style=\"text-align: right;\">\n",
              "      <th></th>\n",
              "      <th>Date</th>\n",
              "      <th>Close</th>\n",
              "      <th>Actual Price</th>\n",
              "    </tr>\n",
              "  </thead>\n",
              "  <tbody>\n",
              "    <tr>\n",
              "      <th>0</th>\n",
              "      <td>2021-08-09</td>\n",
              "      <td>14922.597656</td>\n",
              "      <td>14860.179688</td>\n",
              "    </tr>\n",
              "    <tr>\n",
              "      <th>1</th>\n",
              "      <td>2021-08-10</td>\n",
              "      <td>14833.162109</td>\n",
              "      <td>14788.089844</td>\n",
              "    </tr>\n",
              "    <tr>\n",
              "      <th>2</th>\n",
              "      <td>2021-08-11</td>\n",
              "      <td>14804.204102</td>\n",
              "      <td>14765.139648</td>\n",
              "    </tr>\n",
              "    <tr>\n",
              "      <th>3</th>\n",
              "      <td>2021-08-12</td>\n",
              "      <td>14789.680664</td>\n",
              "      <td>14816.259766</td>\n",
              "    </tr>\n",
              "    <tr>\n",
              "      <th>4</th>\n",
              "      <td>2021-08-13</td>\n",
              "      <td>14799.984375</td>\n",
              "      <td>14822.900391</td>\n",
              "    </tr>\n",
              "  </tbody>\n",
              "</table>\n",
              "</div>"
            ],
            "text/plain": [
              "        Date         Close  Actual Price\n",
              "0 2021-08-09  14922.597656  14860.179688\n",
              "1 2021-08-10  14833.162109  14788.089844\n",
              "2 2021-08-11  14804.204102  14765.139648\n",
              "3 2021-08-12  14789.680664  14816.259766\n",
              "4 2021-08-13  14799.984375  14822.900391"
            ]
          },
          "metadata": {},
          "execution_count": 1739
        }
      ]
    },
    {
      "cell_type": "code",
      "metadata": {
        "colab": {
          "base_uri": "https://localhost:8080/",
          "height": 330
        },
        "id": "Ivfq003rG3jI",
        "outputId": "39e003d0-067c-4784-cf12-4caf16cebe13"
      },
      "source": [
        "df_forecast['Direction']= direction\n",
        "df_forecast"
      ],
      "execution_count": 1740,
      "outputs": [
        {
          "output_type": "stream",
          "text": [
            "/usr/local/lib/python3.7/dist-packages/ipykernel_launcher.py:1: SettingWithCopyWarning: \n",
            "A value is trying to be set on a copy of a slice from a DataFrame.\n",
            "Try using .loc[row_indexer,col_indexer] = value instead\n",
            "\n",
            "See the caveats in the documentation: https://pandas.pydata.org/pandas-docs/stable/user_guide/indexing.html#returning-a-view-versus-a-copy\n",
            "  \"\"\"Entry point for launching an IPython kernel.\n"
          ],
          "name": "stderr"
        },
        {
          "output_type": "execute_result",
          "data": {
            "text/html": [
              "<div>\n",
              "<style scoped>\n",
              "    .dataframe tbody tr th:only-of-type {\n",
              "        vertical-align: middle;\n",
              "    }\n",
              "\n",
              "    .dataframe tbody tr th {\n",
              "        vertical-align: top;\n",
              "    }\n",
              "\n",
              "    .dataframe thead th {\n",
              "        text-align: right;\n",
              "    }\n",
              "</style>\n",
              "<table border=\"1\" class=\"dataframe\">\n",
              "  <thead>\n",
              "    <tr style=\"text-align: right;\">\n",
              "      <th></th>\n",
              "      <th>Date</th>\n",
              "      <th>Close</th>\n",
              "      <th>Actual Price</th>\n",
              "      <th>Direction</th>\n",
              "    </tr>\n",
              "  </thead>\n",
              "  <tbody>\n",
              "    <tr>\n",
              "      <th>0</th>\n",
              "      <td>2021-08-09</td>\n",
              "      <td>14922.597656</td>\n",
              "      <td>14860.179688</td>\n",
              "      <td>Up</td>\n",
              "    </tr>\n",
              "    <tr>\n",
              "      <th>1</th>\n",
              "      <td>2021-08-10</td>\n",
              "      <td>14833.162109</td>\n",
              "      <td>14788.089844</td>\n",
              "      <td>Down</td>\n",
              "    </tr>\n",
              "    <tr>\n",
              "      <th>2</th>\n",
              "      <td>2021-08-11</td>\n",
              "      <td>14804.204102</td>\n",
              "      <td>14765.139648</td>\n",
              "      <td>Down</td>\n",
              "    </tr>\n",
              "    <tr>\n",
              "      <th>3</th>\n",
              "      <td>2021-08-12</td>\n",
              "      <td>14789.680664</td>\n",
              "      <td>14816.259766</td>\n",
              "      <td>Down</td>\n",
              "    </tr>\n",
              "    <tr>\n",
              "      <th>4</th>\n",
              "      <td>2021-08-13</td>\n",
              "      <td>14799.984375</td>\n",
              "      <td>14822.900391</td>\n",
              "      <td>Up</td>\n",
              "    </tr>\n",
              "  </tbody>\n",
              "</table>\n",
              "</div>"
            ],
            "text/plain": [
              "        Date         Close  Actual Price Direction\n",
              "0 2021-08-09  14922.597656  14860.179688        Up\n",
              "1 2021-08-10  14833.162109  14788.089844      Down\n",
              "2 2021-08-11  14804.204102  14765.139648      Down\n",
              "3 2021-08-12  14789.680664  14816.259766      Down\n",
              "4 2021-08-13  14799.984375  14822.900391        Up"
            ]
          },
          "metadata": {},
          "execution_count": 1740
        }
      ]
    },
    {
      "cell_type": "code",
      "metadata": {
        "colab": {
          "base_uri": "https://localhost:8080/"
        },
        "id": "V-OsgMO9HzHw",
        "outputId": "e5074e15-d813-40db-dd46-a782d8d107c1"
      },
      "source": [
        "Accuracy = df_forecast['Close']/df_forecast['Actual Price']\n",
        "Accuracy=np.array(Accuracy)\n",
        "Accuracy"
      ],
      "execution_count": 1741,
      "outputs": [
        {
          "output_type": "execute_result",
          "data": {
            "text/plain": [
              "array([1.00420035, 1.00304788, 1.00264572, 0.99820609, 0.99845401])"
            ]
          },
          "metadata": {},
          "execution_count": 1741
        }
      ]
    },
    {
      "cell_type": "code",
      "metadata": {
        "id": "qqas86LcfMg8",
        "colab": {
          "base_uri": "https://localhost:8080/"
        },
        "outputId": "5cf7b3c7-cb42-48ad-b9da-6df6c6af32fe"
      },
      "source": [
        "df_forecast['Accuracy'] = Accuracy"
      ],
      "execution_count": 1742,
      "outputs": [
        {
          "output_type": "stream",
          "text": [
            "/usr/local/lib/python3.7/dist-packages/ipykernel_launcher.py:1: SettingWithCopyWarning: \n",
            "A value is trying to be set on a copy of a slice from a DataFrame.\n",
            "Try using .loc[row_indexer,col_indexer] = value instead\n",
            "\n",
            "See the caveats in the documentation: https://pandas.pydata.org/pandas-docs/stable/user_guide/indexing.html#returning-a-view-versus-a-copy\n",
            "  \"\"\"Entry point for launching an IPython kernel.\n"
          ],
          "name": "stderr"
        }
      ]
    },
    {
      "cell_type": "code",
      "metadata": {
        "id": "aO4y0wRHVar9",
        "colab": {
          "base_uri": "https://localhost:8080/"
        },
        "outputId": "f97dc03c-5785-410f-8036-c7c834f96498"
      },
      "source": [
        "pred_first_dates = pd.to_datetime(predict_period_dates)\n",
        "pred_first_dates"
      ],
      "execution_count": 1743,
      "outputs": [
        {
          "output_type": "execute_result",
          "data": {
            "text/plain": [
              "DatetimeIndex(['2021-08-09', '2021-08-10', '2021-08-11', '2021-08-12',\n",
              "               '2021-08-13', '2021-08-16', '2021-08-17', '2021-08-18',\n",
              "               '2021-08-19', '2021-08-20', '2021-08-23', '2021-08-24',\n",
              "               '2021-08-25', '2021-08-26', '2021-08-27', '2021-08-30',\n",
              "               '2021-08-31', '2021-09-01', '2021-09-02', '2021-09-03'],\n",
              "              dtype='datetime64[ns]', freq=None)"
            ]
          },
          "metadata": {},
          "execution_count": 1743
        }
      ]
    },
    {
      "cell_type": "code",
      "metadata": {
        "id": "JS_YpExMXfyN",
        "colab": {
          "base_uri": "https://localhost:8080/"
        },
        "outputId": "89853489-fa0d-45b6-e828-9440cd119224"
      },
      "source": [
        "original_open"
      ],
      "execution_count": 1744,
      "outputs": [
        {
          "output_type": "execute_result",
          "data": {
            "text/plain": [
              "array([14860.179688, 14788.089844, 14765.139648, 14816.259766,\n",
              "       14822.900391])"
            ]
          },
          "metadata": {},
          "execution_count": 1744
        }
      ]
    },
    {
      "cell_type": "code",
      "metadata": {
        "id": "QEhS1DMSQTuT",
        "colab": {
          "base_uri": "https://localhost:8080/"
        },
        "outputId": "4d26d5ae-a2c4-4126-d9f4-b6500081faa9"
      },
      "source": [
        "df_forecast['Close'][0]"
      ],
      "execution_count": 1745,
      "outputs": [
        {
          "output_type": "execute_result",
          "data": {
            "text/plain": [
              "14922.598"
            ]
          },
          "metadata": {},
          "execution_count": 1745
        }
      ]
    },
    {
      "cell_type": "code",
      "metadata": {
        "id": "mo92r6OJJfWa"
      },
      "source": [
        "actual_direction = []\n",
        "#a = predict_period_dates[0]#14821.030273\n",
        "a = df_forecast['Close'][0]\n",
        "b = original_open[0]\n",
        "for i in original_open:\n",
        "  #print(i,a)\n",
        "  if (i==bin):\n",
        "    dir = 'Neutral'\n",
        "    #print(dir)\n",
        "  if (i< b):\n",
        "    dir = 'Down'\n",
        "    #print(dir)\n",
        "  else:\n",
        "    dir = 'Up'\n",
        "    #print(dir)\n",
        "  b = i\n",
        "  actual_direction.append(dir)\n",
        "#actual_direction"
      ],
      "execution_count": 1746,
      "outputs": []
    },
    {
      "cell_type": "code",
      "metadata": {
        "id": "8RuYEGxrLG2i",
        "colab": {
          "base_uri": "https://localhost:8080/",
          "height": 330
        },
        "outputId": "419ab799-fcc7-4698-90ba-bed22eb0247a"
      },
      "source": [
        "df_forecast['Actual Direction'] = actual_direction\n",
        "df_forecast"
      ],
      "execution_count": 1747,
      "outputs": [
        {
          "output_type": "stream",
          "text": [
            "/usr/local/lib/python3.7/dist-packages/ipykernel_launcher.py:1: SettingWithCopyWarning: \n",
            "A value is trying to be set on a copy of a slice from a DataFrame.\n",
            "Try using .loc[row_indexer,col_indexer] = value instead\n",
            "\n",
            "See the caveats in the documentation: https://pandas.pydata.org/pandas-docs/stable/user_guide/indexing.html#returning-a-view-versus-a-copy\n",
            "  \"\"\"Entry point for launching an IPython kernel.\n"
          ],
          "name": "stderr"
        },
        {
          "output_type": "execute_result",
          "data": {
            "text/html": [
              "<div>\n",
              "<style scoped>\n",
              "    .dataframe tbody tr th:only-of-type {\n",
              "        vertical-align: middle;\n",
              "    }\n",
              "\n",
              "    .dataframe tbody tr th {\n",
              "        vertical-align: top;\n",
              "    }\n",
              "\n",
              "    .dataframe thead th {\n",
              "        text-align: right;\n",
              "    }\n",
              "</style>\n",
              "<table border=\"1\" class=\"dataframe\">\n",
              "  <thead>\n",
              "    <tr style=\"text-align: right;\">\n",
              "      <th></th>\n",
              "      <th>Date</th>\n",
              "      <th>Close</th>\n",
              "      <th>Actual Price</th>\n",
              "      <th>Direction</th>\n",
              "      <th>Accuracy</th>\n",
              "      <th>Actual Direction</th>\n",
              "    </tr>\n",
              "  </thead>\n",
              "  <tbody>\n",
              "    <tr>\n",
              "      <th>0</th>\n",
              "      <td>2021-08-09</td>\n",
              "      <td>14922.597656</td>\n",
              "      <td>14860.179688</td>\n",
              "      <td>Up</td>\n",
              "      <td>1.004200</td>\n",
              "      <td>Up</td>\n",
              "    </tr>\n",
              "    <tr>\n",
              "      <th>1</th>\n",
              "      <td>2021-08-10</td>\n",
              "      <td>14833.162109</td>\n",
              "      <td>14788.089844</td>\n",
              "      <td>Down</td>\n",
              "      <td>1.003048</td>\n",
              "      <td>Down</td>\n",
              "    </tr>\n",
              "    <tr>\n",
              "      <th>2</th>\n",
              "      <td>2021-08-11</td>\n",
              "      <td>14804.204102</td>\n",
              "      <td>14765.139648</td>\n",
              "      <td>Down</td>\n",
              "      <td>1.002646</td>\n",
              "      <td>Down</td>\n",
              "    </tr>\n",
              "    <tr>\n",
              "      <th>3</th>\n",
              "      <td>2021-08-12</td>\n",
              "      <td>14789.680664</td>\n",
              "      <td>14816.259766</td>\n",
              "      <td>Down</td>\n",
              "      <td>0.998206</td>\n",
              "      <td>Up</td>\n",
              "    </tr>\n",
              "    <tr>\n",
              "      <th>4</th>\n",
              "      <td>2021-08-13</td>\n",
              "      <td>14799.984375</td>\n",
              "      <td>14822.900391</td>\n",
              "      <td>Up</td>\n",
              "      <td>0.998454</td>\n",
              "      <td>Up</td>\n",
              "    </tr>\n",
              "  </tbody>\n",
              "</table>\n",
              "</div>"
            ],
            "text/plain": [
              "        Date         Close  Actual Price Direction  Accuracy Actual Direction\n",
              "0 2021-08-09  14922.597656  14860.179688        Up  1.004200               Up\n",
              "1 2021-08-10  14833.162109  14788.089844      Down  1.003048             Down\n",
              "2 2021-08-11  14804.204102  14765.139648      Down  1.002646             Down\n",
              "3 2021-08-12  14789.680664  14816.259766      Down  0.998206               Up\n",
              "4 2021-08-13  14799.984375  14822.900391        Up  0.998454               Up"
            ]
          },
          "metadata": {},
          "execution_count": 1747
        }
      ]
    },
    {
      "cell_type": "markdown",
      "metadata": {
        "id": "_L_NmUWzLnt7"
      },
      "source": [
        "# Directional Accuracy:\n",
        "\n"
      ]
    },
    {
      "cell_type": "code",
      "metadata": {
        "id": "WEJ1kgVsQxUa",
        "colab": {
          "base_uri": "https://localhost:8080/"
        },
        "outputId": "3cdbc700-d82d-40b8-bf0a-f47e82506bc5"
      },
      "source": [
        "hits =0\n",
        "misses=0\n",
        "for i in range(1, len(df_forecast)):\n",
        "  if (df_forecast['Direction'][i] == df_forecast['Actual Direction'][i]):\n",
        "    hits = hits +1\n",
        "    #print('Hit', hits)\n",
        "  else:\n",
        "    misses = misses +1\n",
        "    #print('Miss', misses)\n",
        "accuracy_overall = hits/(hits+misses)\n",
        "print('Overall Accuracy :' , accuracy_overall)"
      ],
      "execution_count": 1748,
      "outputs": [
        {
          "output_type": "stream",
          "text": [
            "Overall Accuracy : 0.75\n"
          ],
          "name": "stdout"
        }
      ]
    }
  ]
}