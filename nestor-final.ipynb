{
  "nbformat": 4,
  "nbformat_minor": 0,
  "metadata": {
    "colab": {
      "name": "Untitled3.ipynb",
      "provenance": [],
      "collapsed_sections": [],
      "authorship_tag": "ABX9TyOeR/ZywwaIwC5Pf1mVAWt5",
      "include_colab_link": true
    },
    "kernelspec": {
      "display_name": "Python 3",
      "name": "python3"
    },
    "language_info": {
      "name": "python"
    }
  },
  "cells": [
    {
      "cell_type": "markdown",
      "metadata": {
        "id": "view-in-github",
        "colab_type": "text"
      },
      "source": [
        "<a href=\"https://colab.research.google.com/github/Ali-Saud/ML-in-PE/blob/master/nestor-final.ipynb\" target=\"_parent\"><img src=\"https://colab.research.google.com/assets/colab-badge.svg\" alt=\"Open In Colab\"/></a>"
      ]
    },
    {
      "cell_type": "code",
      "metadata": {
        "id": "UQqpYPd3XSZI"
      },
      "source": [
        "import numpy as np\n",
        "from tensorflow.keras.models import Sequential\n",
        "from tensorflow.keras.layers import LSTM\n",
        "from tensorflow.keras.layers import Dense, Dropout\n",
        "import pandas as pd\n",
        "from matplotlib import pyplot as plt\n",
        "from sklearn.preprocessing import StandardScaler\n",
        "import seaborn as sns"
      ],
      "execution_count": 1,
      "outputs": []
    },
    {
      "cell_type": "code",
      "metadata": {
        "colab": {
          "base_uri": "https://localhost:8080/"
        },
        "id": "Pr694L2RXdce",
        "outputId": "04d90294-0ae9-47c3-80f5-7477324d3a75"
      },
      "source": [
        "df = pd.read_csv('nasdaq-21-y.csv')\n",
        "print(df.head())"
      ],
      "execution_count": 4,
      "outputs": [
        {
          "output_type": "stream",
          "text": [
            "         Date         Open         High  ...        Close    Adj Close      Volume\n",
            "0  2000-08-16  3878.580078  3914.840088  ...  3861.199951  3861.199951  1401380000\n",
            "1  2000-08-17  3858.879883  3947.050049  ...  3940.870117  3940.870117  1440370000\n",
            "2  2000-08-18  3958.699951  3980.260010  ...  3930.340088  3930.340088  1447920000\n",
            "3  2000-08-21  3966.229980  3985.620117  ...  3953.149902  3953.149902  1269330000\n",
            "4  2000-08-22  3970.159912  4011.149902  ...  3958.209961  3958.209961  1413190000\n",
            "\n",
            "[5 rows x 7 columns]\n"
          ],
          "name": "stdout"
        }
      ]
    },
    {
      "cell_type": "code",
      "metadata": {
        "colab": {
          "base_uri": "https://localhost:8080/"
        },
        "id": "T-0ltrX3YBVk",
        "outputId": "0798cb64-c2c2-4b60-c15f-507414d3e033"
      },
      "source": [
        "print(df.tail(15))"
      ],
      "execution_count": 5,
      "outputs": [
        {
          "output_type": "stream",
          "text": [
            "            Date          Open  ...     Adj Close      Volume\n",
            "5267  2021-07-26  14821.030273  ...  14840.709961  4409960000\n",
            "5268  2021-07-27  14807.950195  ...  14660.580078  4300000000\n",
            "5269  2021-07-28  14715.660156  ...  14762.580078  4235390000\n",
            "5270  2021-07-29  14771.169922  ...  14778.259766  3904590000\n",
            "5271  2021-07-30  14615.849609  ...  14672.679688  3628750000\n",
            "5272  2021-08-02  14758.599609  ...  14681.070313  3738200000\n",
            "5273  2021-08-03  14713.990234  ...  14761.290039  4117520000\n",
            "5274  2021-08-04  14747.209961  ...  14780.530273  4319400000\n",
            "5275  2021-08-05  14794.080078  ...  14895.120117  4087320000\n",
            "5276  2021-08-06  14864.219727  ...  14835.759766  4159050000\n",
            "5277  2021-08-09  14855.759766  ...  14860.179688  4095760000\n",
            "5278  2021-08-10  14887.750000  ...  14788.089844  3978790000\n",
            "5279  2021-08-11  14834.379883  ...  14765.139648  3980530000\n",
            "5280  2021-08-12  14751.360352  ...  14816.259766  4020260000\n",
            "5281  2021-08-13  14825.070313  ...  14822.900391  4038130000\n",
            "\n",
            "[15 rows x 7 columns]\n"
          ],
          "name": "stdout"
        }
      ]
    },
    {
      "cell_type": "code",
      "metadata": {
        "colab": {
          "base_uri": "https://localhost:8080/"
        },
        "id": "yWGLsE9pYKcx",
        "outputId": "aa1a3adb-c275-4398-f71f-65b5cf5a0808"
      },
      "source": [
        "cols = list(df)[1:7]\n",
        "#Date and volume columns are not used in training. \n",
        "print(cols) #['Open', 'High', 'Low', 'Close', 'Adj Close']"
      ],
      "execution_count": 6,
      "outputs": [
        {
          "output_type": "stream",
          "text": [
            "['Open', 'High', 'Low', 'Close', 'Adj Close', 'Volume']\n"
          ],
          "name": "stdout"
        }
      ]
    },
    {
      "cell_type": "code",
      "metadata": {
        "colab": {
          "base_uri": "https://localhost:8080/",
          "height": 265
        },
        "id": "zG8IYcGqYPtp",
        "outputId": "f40e21f5-3c2d-4ab2-af73-6a1070d4738f"
      },
      "source": [
        "#New dataframe with only training data - 5 columns\n",
        "df_for_training = df[cols].astype(float)\n",
        "\n",
        "df_for_plot=df_for_training['Close'].tail(5000)\n",
        "df_for_plot.plot.line()\n",
        "\n",
        "#LSTM uses sigmoid and tanh that are sensitive to magnitude so values need to be normalized\n",
        "# normalize the dataset\n",
        "scaler = StandardScaler()\n",
        "scaler = scaler.fit(df_for_training)\n",
        "df_for_training_scaled = scaler.transform(df_for_training)"
      ],
      "execution_count": 7,
      "outputs": [
        {
          "output_type": "display_data",
          "data": {
            "image/png": "[encoded data removed]",
            "text/plain": [
              "<Figure size 432x288 with 1 Axes>"
            ]
          },
          "metadata": {
            "tags": [],
            "needs_background": "light"
          }
        }
      ]
    },
    {
      "cell_type": "code",
      "metadata": {
        "colab": {
          "base_uri": "https://localhost:8080/"
        },
        "id": "yJgypICHYVP_",
        "outputId": "8bba4390-490e-449d-843a-1f05e078426b"
      },
      "source": [
        "#As required for LSTM networks, we require to reshape an input data into n_samples x timesteps x n_features. \n",
        "#In this example, the n_features is 5. We will make timesteps = 14 (past days data used for training). \n",
        "\n",
        "#Empty lists to be populated using formatted training data\n",
        "trainX = []\n",
        "trainY = []\n",
        "\n",
        "n_future = 1   # Number of days we want to look into the future based on the past days.\n",
        "n_past = 5  # Number of past days we want to use to predict the future.\n",
        "\n",
        "#Reformat input data into a shape: (n_samples x timesteps x n_features)\n",
        "#In my example, my df_for_training_scaled has a shape (12823, 5)\n",
        "#12823 refers to the number of data points and 5 refers to the columns (multi-variables).\n",
        "for i in range(n_past, len(df_for_training_scaled) - n_future +1):\n",
        "    trainX.append(df_for_training_scaled[i - n_past:i, 0:df_for_training.shape[1]])\n",
        "    trainY.append(df_for_training_scaled[i + n_future - 1:i + n_future, 0])\n",
        "\n",
        "trainX, trainY = np.array(trainX), np.array(trainY)\n",
        "\n",
        "print('trainX shape == {}.'.format(trainX.shape))\n",
        "print('trainY shape == {}.'.format(trainY.shape))"
      ],
      "execution_count": 8,
      "outputs": [
        {
          "output_type": "stream",
          "text": [
            "trainX shape == (5277, 5, 6).\n",
            "trainY shape == (5277, 1).\n"
          ],
          "name": "stdout"
        }
      ]
    },
    {
      "cell_type": "code",
      "metadata": {
        "colab": {
          "base_uri": "https://localhost:8080/"
        },
        "id": "HxjskrxtYcpk",
        "outputId": "9bc92432-8f1b-4d21-aab7-702324f821f3"
      },
      "source": [
        "# define the Autoencoder model\n",
        "\n",
        "model = Sequential()\n",
        "model.add(LSTM(64, activation='relu', input_shape=(trainX.shape[1], trainX.shape[2]), return_sequences=True))\n",
        "model.add(LSTM(32, activation='relu', return_sequences=False))\n",
        "model.add(Dropout(0.2))\n",
        "model.add(Dense(trainY.shape[1]))\n",
        "\n",
        "model.compile(optimizer='adam', loss='mse')\n",
        "model.summary()"
      ],
      "execution_count": 15,
      "outputs": [
        {
          "output_type": "stream",
          "text": [
            "Model: \"sequential_1\"\n",
            "_________________________________________________________________\n",
            "Layer (type)                 Output Shape              Param #   \n",
            "=================================================================\n",
            "lstm_2 (LSTM)                (None, 5, 64)             18176     \n",
            "_________________________________________________________________\n",
            "lstm_3 (LSTM)                (None, 32)                12416     \n",
            "_________________________________________________________________\n",
            "dropout_1 (Dropout)          (None, 32)                0         \n",
            "_________________________________________________________________\n",
            "dense_1 (Dense)              (None, 1)                 33        \n",
            "=================================================================\n",
            "Total params: 30,625\n",
            "Trainable params: 30,625\n",
            "Non-trainable params: 0\n",
            "_________________________________________________________________\n"
          ],
          "name": "stdout"
        }
      ]
    },
    {
      "cell_type": "code",
      "metadata": {
        "colab": {
          "base_uri": "https://localhost:8080/",
          "height": 638
        },
        "id": "2DGT_lCgYklw",
        "outputId": "a3831e75-14c5-4705-f8a1-0e817e9794e3"
      },
      "source": [
        "# fit the model\n",
        "history = model.fit(trainX, trainY, epochs=10, batch_size=80, validation_split=0.1, verbose=1)\n",
        "\n",
        "plt.plot(history.history['loss'], label='Training loss')\n",
        "plt.plot(history.history['val_loss'], label='Validation loss')\n",
        "plt.legend()"
      ],
      "execution_count": 16,
      "outputs": [
        {
          "output_type": "stream",
          "text": [
            "Epoch 1/10\n",
            "60/60 [==============================] - 3s 13ms/step - loss: 0.1287 - val_loss: 1.5615\n",
            "Epoch 2/10\n",
            "60/60 [==============================] - 0s 7ms/step - loss: 0.0167 - val_loss: 1.0898\n",
            "Epoch 3/10\n",
            "60/60 [==============================] - 0s 8ms/step - loss: 0.0147 - val_loss: 0.3370\n",
            "Epoch 4/10\n",
            "60/60 [==============================] - 0s 8ms/step - loss: 0.0134 - val_loss: 0.3536\n",
            "Epoch 5/10\n",
            "60/60 [==============================] - 0s 7ms/step - loss: 0.0128 - val_loss: 0.2461\n",
            "Epoch 6/10\n",
            "60/60 [==============================] - 0s 7ms/step - loss: 0.0122 - val_loss: 0.0155\n",
            "Epoch 7/10\n",
            "60/60 [==============================] - 0s 8ms/step - loss: 0.0116 - val_loss: 0.0959\n",
            "Epoch 8/10\n",
            "60/60 [==============================] - 0s 7ms/step - loss: 0.0104 - val_loss: 0.0073\n",
            "Epoch 9/10\n",
            "60/60 [==============================] - 0s 7ms/step - loss: 0.0106 - val_loss: 0.0124\n",
            "Epoch 10/10\n",
            "60/60 [==============================] - 0s 7ms/step - loss: 0.0103 - val_loss: 0.0486\n"
          ],
          "name": "stdout"
        },
        {
          "output_type": "execute_result",
          "data": {
            "text/plain": [
              "<matplotlib.legend.Legend at 0x7fe1938fcb10>"
            ]
          },
          "metadata": {
            "tags": []
          },
          "execution_count": 16
        },
        {
          "output_type": "display_data",
          "data": {
            "image/png": "[encoded data removed]",
            "text/plain": [
              "<Figure size 432x288 with 1 Axes>"
            ]
          },
          "metadata": {
            "tags": [],
            "needs_background": "light"
          }
        }
      ]
    },
    {
      "cell_type": "code",
      "metadata": {
        "colab": {
          "base_uri": "https://localhost:8080/"
        },
        "id": "1VVE4FePosp0",
        "outputId": "798ed7d0-52e8-418c-b099-65feedd7c47d"
      },
      "source": [
        "print(history.history['loss'])\n",
        "#print(history.history['acc'])"
      ],
      "execution_count": 17,
      "outputs": [
        {
          "output_type": "stream",
          "text": [
            "[0.12872134149074554, 0.01669948734343052, 0.014745793305337429, 0.013365118764340878, 0.012806315906345844, 0.012182539328932762, 0.011566339060664177, 0.01042350847274065, 0.010601013898849487, 0.01031078863888979]\n"
          ],
          "name": "stdout"
        }
      ]
    },
    {
      "cell_type": "code",
      "metadata": {
        "colab": {
          "base_uri": "https://localhost:8080/"
        },
        "id": "qtMRtONPYy68",
        "outputId": "567c1c78-5e50-4b98-a73f-e57b574b5172"
      },
      "source": [
        "#Predicting...\n",
        "#Libraries that will help us extract only business days in the US.\n",
        "#Otherwise our dates would be wrong when we look back (or forward).  \n",
        "from pandas.tseries.holiday import USFederalHolidayCalendar\n",
        "from pandas.tseries.offsets import CustomBusinessDay\n",
        "us_bd = CustomBusinessDay(calendar=USFederalHolidayCalendar())\n",
        "train_dates = pd.to_datetime(df['Date'])\n",
        "#Remember that we can only predict one day in future as our model needs 5 variables\n",
        "#as inputs for prediction. We only have all 5 variables until the last day in our dataset.\n",
        "n_past = 14\n",
        "n_days_for_prediction=28 #let us predict past 15 days\n",
        "\n",
        "predict_period_dates = pd.date_range(list(train_dates)[-n_past], periods=n_days_for_prediction, freq=us_bd).tolist()\n",
        "print(predict_period_dates)"
      ],
      "execution_count": 137,
      "outputs": [
        {
          "output_type": "stream",
          "text": [
            "[Timestamp('2021-07-27 00:00:00', freq='C'), Timestamp('2021-07-28 00:00:00', freq='C'), Timestamp('2021-07-29 00:00:00', freq='C'), Timestamp('2021-07-30 00:00:00', freq='C'), Timestamp('2021-08-02 00:00:00', freq='C'), Timestamp('2021-08-03 00:00:00', freq='C'), Timestamp('2021-08-04 00:00:00', freq='C'), Timestamp('2021-08-05 00:00:00', freq='C'), Timestamp('2021-08-06 00:00:00', freq='C'), Timestamp('2021-08-09 00:00:00', freq='C'), Timestamp('2021-08-10 00:00:00', freq='C'), Timestamp('2021-08-11 00:00:00', freq='C'), Timestamp('2021-08-12 00:00:00', freq='C'), Timestamp('2021-08-13 00:00:00', freq='C'), Timestamp('2021-08-16 00:00:00', freq='C'), Timestamp('2021-08-17 00:00:00', freq='C'), Timestamp('2021-08-18 00:00:00', freq='C'), Timestamp('2021-08-19 00:00:00', freq='C'), Timestamp('2021-08-20 00:00:00', freq='C'), Timestamp('2021-08-23 00:00:00', freq='C'), Timestamp('2021-08-24 00:00:00', freq='C'), Timestamp('2021-08-25 00:00:00', freq='C'), Timestamp('2021-08-26 00:00:00', freq='C'), Timestamp('2021-08-27 00:00:00', freq='C'), Timestamp('2021-08-30 00:00:00', freq='C'), Timestamp('2021-08-31 00:00:00', freq='C'), Timestamp('2021-09-01 00:00:00', freq='C'), Timestamp('2021-09-02 00:00:00', freq='C')]\n"
          ],
          "name": "stdout"
        }
      ]
    },
    {
      "cell_type": "code",
      "metadata": {
        "id": "bFn-DgzVAMkT",
        "outputId": "6b843c90-3f1b-4bd8-b975-2f4ffa035286",
        "colab": {
          "base_uri": "https://localhost:8080/",
          "height": 477
        }
      },
      "source": [
        "#Make prediction\n",
        "prediction = model.predict(trainX[-n_days_for_prediction:]) #shape = (n, 1) where n is the n_days_for_prediction\n",
        "\n",
        "#Perform inverse transformation to rescale back to original range\n",
        "#Since we used 5 variables for transform, the inverse expects same dimensions\n",
        "#Therefore, let us copy our values 5 times and discard them after inverse transform\n",
        "prediction_copies = np.repeat(prediction, df_for_training.shape[1], axis=-1)\n",
        "y_pred_future = scaler.inverse_transform(prediction_copies)[:,0]\n",
        "\n",
        "\n",
        "# Convert timestamp to date\n",
        "forecast_dates = []\n",
        "for time_i in predict_period_dates:\n",
        "    forecast_dates.append(time_i.date())\n",
        "    \n",
        "df_forecast = pd.DataFrame({'Date':np.array(forecast_dates), 'Open':y_pred_future})\n",
        "df_forecast['Date']=pd.to_datetime(df_forecast['Date'])\n",
        "\n",
        "\n",
        "original = df[['Date', 'Open']]\n",
        "original['Date']=pd.to_datetime(original['Date'])\n",
        "original = original.loc[original['Date'] >= '2021-5-1']\n",
        "\n",
        "sns.lineplot(original['Date'], original['Open'])\n",
        "sns.lineplot(df_forecast['Date'], df_forecast['Open'])"
      ],
      "execution_count": 138,
      "outputs": [
        {
          "output_type": "stream",
          "text": [
            "/usr/local/lib/python3.7/dist-packages/ipykernel_launcher.py:21: SettingWithCopyWarning: \n",
            "A value is trying to be set on a copy of a slice from a DataFrame.\n",
            "Try using .loc[row_indexer,col_indexer] = value instead\n",
            "\n",
            "See the caveats in the documentation: https://pandas.pydata.org/pandas-docs/stable/user_guide/indexing.html#returning-a-view-versus-a-copy\n",
            "/usr/local/lib/python3.7/dist-packages/seaborn/_decorators.py:43: FutureWarning: Pass the following variables as keyword args: x, y. From version 0.12, the only valid positional argument will be `data`, and passing other arguments without an explicit keyword will result in an error or misinterpretation.\n",
            "  FutureWarning\n",
            "/usr/local/lib/python3.7/dist-packages/seaborn/_decorators.py:43: FutureWarning: Pass the following variables as keyword args: x, y. From version 0.12, the only valid positional argument will be `data`, and passing other arguments without an explicit keyword will result in an error or misinterpretation.\n",
            "  FutureWarning\n"
          ],
          "name": "stderr"
        },
        {
          "output_type": "execute_result",
          "data": {
            "text/plain": [
              "<matplotlib.axes._subplots.AxesSubplot at 0x7fe193b23710>"
            ]
          },
          "metadata": {
            "tags": []
          },
          "execution_count": 138
        },
        {
          "output_type": "display_data",
          "data": {
            "image/png": "[encoded data removed]",
            "text/plain": [
              "<Figure size 432x288 with 1 Axes>"
            ]
          },
          "metadata": {
            "tags": [],
            "needs_background": "light"
          }
        }
      ]
    },
    {
      "cell_type": "code",
      "metadata": {
        "colab": {
          "base_uri": "https://localhost:8080/",
          "height": 824
        },
        "id": "dFrya6uGkGbx",
        "outputId": "86d2827a-a349-4ccd-e7e9-ddfd032d51b2"
      },
      "source": [
        "original.tail(25)"
      ],
      "execution_count": 139,
      "outputs": [
        {
          "output_type": "execute_result",
          "data": {
            "text/html": [
              "<div>\n",
              "<style scoped>\n",
              "    .dataframe tbody tr th:only-of-type {\n",
              "        vertical-align: middle;\n",
              "    }\n",
              "\n",
              "    .dataframe tbody tr th {\n",
              "        vertical-align: top;\n",
              "    }\n",
              "\n",
              "    .dataframe thead th {\n",
              "        text-align: right;\n",
              "    }\n",
              "</style>\n",
              "<table border=\"1\" class=\"dataframe\">\n",
              "  <thead>\n",
              "    <tr style=\"text-align: right;\">\n",
              "      <th></th>\n",
              "      <th>Date</th>\n",
              "      <th>Open</th>\n",
              "    </tr>\n",
              "  </thead>\n",
              "  <tbody>\n",
              "    <tr>\n",
              "      <th>5257</th>\n",
              "      <td>2021-07-12</td>\n",
              "      <td>14743.860352</td>\n",
              "    </tr>\n",
              "    <tr>\n",
              "      <th>5258</th>\n",
              "      <td>2021-07-13</td>\n",
              "      <td>14715.129883</td>\n",
              "    </tr>\n",
              "    <tr>\n",
              "      <th>5259</th>\n",
              "      <td>2021-07-14</td>\n",
              "      <td>14780.900391</td>\n",
              "    </tr>\n",
              "    <tr>\n",
              "      <th>5260</th>\n",
              "      <td>2021-07-15</td>\n",
              "      <td>14635.780273</td>\n",
              "    </tr>\n",
              "    <tr>\n",
              "      <th>5261</th>\n",
              "      <td>2021-07-16</td>\n",
              "      <td>14597.509766</td>\n",
              "    </tr>\n",
              "    <tr>\n",
              "      <th>5262</th>\n",
              "      <td>2021-07-19</td>\n",
              "      <td>14235.980469</td>\n",
              "    </tr>\n",
              "    <tr>\n",
              "      <th>5263</th>\n",
              "      <td>2021-07-20</td>\n",
              "      <td>14330.459961</td>\n",
              "    </tr>\n",
              "    <tr>\n",
              "      <th>5264</th>\n",
              "      <td>2021-07-21</td>\n",
              "      <td>14508.750000</td>\n",
              "    </tr>\n",
              "    <tr>\n",
              "      <th>5265</th>\n",
              "      <td>2021-07-22</td>\n",
              "      <td>14652.719727</td>\n",
              "    </tr>\n",
              "    <tr>\n",
              "      <th>5266</th>\n",
              "      <td>2021-07-23</td>\n",
              "      <td>14753.059570</td>\n",
              "    </tr>\n",
              "    <tr>\n",
              "      <th>5267</th>\n",
              "      <td>2021-07-26</td>\n",
              "      <td>14821.030273</td>\n",
              "    </tr>\n",
              "    <tr>\n",
              "      <th>5268</th>\n",
              "      <td>2021-07-27</td>\n",
              "      <td>14807.950195</td>\n",
              "    </tr>\n",
              "    <tr>\n",
              "      <th>5269</th>\n",
              "      <td>2021-07-28</td>\n",
              "      <td>14715.660156</td>\n",
              "    </tr>\n",
              "    <tr>\n",
              "      <th>5270</th>\n",
              "      <td>2021-07-29</td>\n",
              "      <td>14771.169922</td>\n",
              "    </tr>\n",
              "    <tr>\n",
              "      <th>5271</th>\n",
              "      <td>2021-07-30</td>\n",
              "      <td>14615.849609</td>\n",
              "    </tr>\n",
              "    <tr>\n",
              "      <th>5272</th>\n",
              "      <td>2021-08-02</td>\n",
              "      <td>14758.599609</td>\n",
              "    </tr>\n",
              "    <tr>\n",
              "      <th>5273</th>\n",
              "      <td>2021-08-03</td>\n",
              "      <td>14713.990234</td>\n",
              "    </tr>\n",
              "    <tr>\n",
              "      <th>5274</th>\n",
              "      <td>2021-08-04</td>\n",
              "      <td>14747.209961</td>\n",
              "    </tr>\n",
              "    <tr>\n",
              "      <th>5275</th>\n",
              "      <td>2021-08-05</td>\n",
              "      <td>14794.080078</td>\n",
              "    </tr>\n",
              "    <tr>\n",
              "      <th>5276</th>\n",
              "      <td>2021-08-06</td>\n",
              "      <td>14864.219727</td>\n",
              "    </tr>\n",
              "    <tr>\n",
              "      <th>5277</th>\n",
              "      <td>2021-08-09</td>\n",
              "      <td>14855.759766</td>\n",
              "    </tr>\n",
              "    <tr>\n",
              "      <th>5278</th>\n",
              "      <td>2021-08-10</td>\n",
              "      <td>14887.750000</td>\n",
              "    </tr>\n",
              "    <tr>\n",
              "      <th>5279</th>\n",
              "      <td>2021-08-11</td>\n",
              "      <td>14834.379883</td>\n",
              "    </tr>\n",
              "    <tr>\n",
              "      <th>5280</th>\n",
              "      <td>2021-08-12</td>\n",
              "      <td>14751.360352</td>\n",
              "    </tr>\n",
              "    <tr>\n",
              "      <th>5281</th>\n",
              "      <td>2021-08-13</td>\n",
              "      <td>14825.070313</td>\n",
              "    </tr>\n",
              "  </tbody>\n",
              "</table>\n",
              "</div>"
            ],
            "text/plain": [
              "           Date          Open\n",
              "5257 2021-07-12  14743.860352\n",
              "5258 2021-07-13  14715.129883\n",
              "5259 2021-07-14  14780.900391\n",
              "5260 2021-07-15  14635.780273\n",
              "5261 2021-07-16  14597.509766\n",
              "5262 2021-07-19  14235.980469\n",
              "5263 2021-07-20  14330.459961\n",
              "5264 2021-07-21  14508.750000\n",
              "5265 2021-07-22  14652.719727\n",
              "5266 2021-07-23  14753.059570\n",
              "5267 2021-07-26  14821.030273\n",
              "5268 2021-07-27  14807.950195\n",
              "5269 2021-07-28  14715.660156\n",
              "5270 2021-07-29  14771.169922\n",
              "5271 2021-07-30  14615.849609\n",
              "5272 2021-08-02  14758.599609\n",
              "5273 2021-08-03  14713.990234\n",
              "5274 2021-08-04  14747.209961\n",
              "5275 2021-08-05  14794.080078\n",
              "5276 2021-08-06  14864.219727\n",
              "5277 2021-08-09  14855.759766\n",
              "5278 2021-08-10  14887.750000\n",
              "5279 2021-08-11  14834.379883\n",
              "5280 2021-08-12  14751.360352\n",
              "5281 2021-08-13  14825.070313"
            ]
          },
          "metadata": {
            "tags": []
          },
          "execution_count": 139
        }
      ]
    },
    {
      "cell_type": "code",
      "metadata": {
        "id": "N-Dkg1hYTeHN",
        "outputId": "057fd5ae-75de-4a0c-cb89-0457edecc7c4",
        "colab": {
          "base_uri": "https://localhost:8080/",
          "height": 918
        }
      },
      "source": [
        "df_forecast"
      ],
      "execution_count": 140,
      "outputs": [
        {
          "output_type": "execute_result",
          "data": {
            "text/html": [
              "<div>\n",
              "<style scoped>\n",
              "    .dataframe tbody tr th:only-of-type {\n",
              "        vertical-align: middle;\n",
              "    }\n",
              "\n",
              "    .dataframe tbody tr th {\n",
              "        vertical-align: top;\n",
              "    }\n",
              "\n",
              "    .dataframe thead th {\n",
              "        text-align: right;\n",
              "    }\n",
              "</style>\n",
              "<table border=\"1\" class=\"dataframe\">\n",
              "  <thead>\n",
              "    <tr style=\"text-align: right;\">\n",
              "      <th></th>\n",
              "      <th>Date</th>\n",
              "      <th>Open</th>\n",
              "    </tr>\n",
              "  </thead>\n",
              "  <tbody>\n",
              "    <tr>\n",
              "      <th>0</th>\n",
              "      <td>2021-07-27</td>\n",
              "      <td>13589.433594</td>\n",
              "    </tr>\n",
              "    <tr>\n",
              "      <th>1</th>\n",
              "      <td>2021-07-28</td>\n",
              "      <td>13586.028320</td>\n",
              "    </tr>\n",
              "    <tr>\n",
              "      <th>2</th>\n",
              "      <td>2021-07-29</td>\n",
              "      <td>13530.356445</td>\n",
              "    </tr>\n",
              "    <tr>\n",
              "      <th>3</th>\n",
              "      <td>2021-07-30</td>\n",
              "      <td>13571.265625</td>\n",
              "    </tr>\n",
              "    <tr>\n",
              "      <th>4</th>\n",
              "      <td>2021-08-02</td>\n",
              "      <td>13640.151367</td>\n",
              "    </tr>\n",
              "    <tr>\n",
              "      <th>5</th>\n",
              "      <td>2021-08-03</td>\n",
              "      <td>13622.202148</td>\n",
              "    </tr>\n",
              "    <tr>\n",
              "      <th>6</th>\n",
              "      <td>2021-08-04</td>\n",
              "      <td>13596.290039</td>\n",
              "    </tr>\n",
              "    <tr>\n",
              "      <th>7</th>\n",
              "      <td>2021-08-05</td>\n",
              "      <td>13567.950195</td>\n",
              "    </tr>\n",
              "    <tr>\n",
              "      <th>8</th>\n",
              "      <td>2021-08-06</td>\n",
              "      <td>13587.432617</td>\n",
              "    </tr>\n",
              "    <tr>\n",
              "      <th>9</th>\n",
              "      <td>2021-08-09</td>\n",
              "      <td>13533.794922</td>\n",
              "    </tr>\n",
              "    <tr>\n",
              "      <th>10</th>\n",
              "      <td>2021-08-10</td>\n",
              "      <td>13469.099609</td>\n",
              "    </tr>\n",
              "    <tr>\n",
              "      <th>11</th>\n",
              "      <td>2021-08-11</td>\n",
              "      <td>13461.457031</td>\n",
              "    </tr>\n",
              "    <tr>\n",
              "      <th>12</th>\n",
              "      <td>2021-08-12</td>\n",
              "      <td>13506.210938</td>\n",
              "    </tr>\n",
              "    <tr>\n",
              "      <th>13</th>\n",
              "      <td>2021-08-13</td>\n",
              "      <td>13574.999023</td>\n",
              "    </tr>\n",
              "    <tr>\n",
              "      <th>14</th>\n",
              "      <td>2021-08-16</td>\n",
              "      <td>13618.640625</td>\n",
              "    </tr>\n",
              "    <tr>\n",
              "      <th>15</th>\n",
              "      <td>2021-08-17</td>\n",
              "      <td>13623.325195</td>\n",
              "    </tr>\n",
              "    <tr>\n",
              "      <th>16</th>\n",
              "      <td>2021-08-18</td>\n",
              "      <td>13628.147461</td>\n",
              "    </tr>\n",
              "    <tr>\n",
              "      <th>17</th>\n",
              "      <td>2021-08-19</td>\n",
              "      <td>13694.953125</td>\n",
              "    </tr>\n",
              "    <tr>\n",
              "      <th>18</th>\n",
              "      <td>2021-08-20</td>\n",
              "      <td>13721.038086</td>\n",
              "    </tr>\n",
              "    <tr>\n",
              "      <th>19</th>\n",
              "      <td>2021-08-23</td>\n",
              "      <td>13696.901367</td>\n",
              "    </tr>\n",
              "    <tr>\n",
              "      <th>20</th>\n",
              "      <td>2021-08-24</td>\n",
              "      <td>13666.722656</td>\n",
              "    </tr>\n",
              "    <tr>\n",
              "      <th>21</th>\n",
              "      <td>2021-08-25</td>\n",
              "      <td>13631.130859</td>\n",
              "    </tr>\n",
              "    <tr>\n",
              "      <th>22</th>\n",
              "      <td>2021-08-26</td>\n",
              "      <td>13635.840820</td>\n",
              "    </tr>\n",
              "    <tr>\n",
              "      <th>23</th>\n",
              "      <td>2021-08-27</td>\n",
              "      <td>13672.985352</td>\n",
              "    </tr>\n",
              "    <tr>\n",
              "      <th>24</th>\n",
              "      <td>2021-08-30</td>\n",
              "      <td>13722.788086</td>\n",
              "    </tr>\n",
              "    <tr>\n",
              "      <th>25</th>\n",
              "      <td>2021-08-31</td>\n",
              "      <td>13750.413086</td>\n",
              "    </tr>\n",
              "    <tr>\n",
              "      <th>26</th>\n",
              "      <td>2021-09-01</td>\n",
              "      <td>13744.076172</td>\n",
              "    </tr>\n",
              "    <tr>\n",
              "      <th>27</th>\n",
              "      <td>2021-09-02</td>\n",
              "      <td>13733.954102</td>\n",
              "    </tr>\n",
              "  </tbody>\n",
              "</table>\n",
              "</div>"
            ],
            "text/plain": [
              "         Date          Open\n",
              "0  2021-07-27  13589.433594\n",
              "1  2021-07-28  13586.028320\n",
              "2  2021-07-29  13530.356445\n",
              "3  2021-07-30  13571.265625\n",
              "4  2021-08-02  13640.151367\n",
              "5  2021-08-03  13622.202148\n",
              "6  2021-08-04  13596.290039\n",
              "7  2021-08-05  13567.950195\n",
              "8  2021-08-06  13587.432617\n",
              "9  2021-08-09  13533.794922\n",
              "10 2021-08-10  13469.099609\n",
              "11 2021-08-11  13461.457031\n",
              "12 2021-08-12  13506.210938\n",
              "13 2021-08-13  13574.999023\n",
              "14 2021-08-16  13618.640625\n",
              "15 2021-08-17  13623.325195\n",
              "16 2021-08-18  13628.147461\n",
              "17 2021-08-19  13694.953125\n",
              "18 2021-08-20  13721.038086\n",
              "19 2021-08-23  13696.901367\n",
              "20 2021-08-24  13666.722656\n",
              "21 2021-08-25  13631.130859\n",
              "22 2021-08-26  13635.840820\n",
              "23 2021-08-27  13672.985352\n",
              "24 2021-08-30  13722.788086\n",
              "25 2021-08-31  13750.413086\n",
              "26 2021-09-01  13744.076172\n",
              "27 2021-09-02  13733.954102"
            ]
          },
          "metadata": {
            "tags": []
          },
          "execution_count": 140
        }
      ]
    },
    {
      "cell_type": "code",
      "metadata": {
        "id": "aGjTiO-OHlmD",
        "outputId": "c1cf36a2-93c6-4549-c1d9-8beebb6fbfc1",
        "colab": {
          "base_uri": "https://localhost:8080/"
        }
      },
      "source": [
        "original_open = original['Open'].loc[original['Date'] >= '2021-07-27']\n",
        "riginal_open = original['Open'].loc[original['Date'] <= '2021-08-13']\n",
        "original_open = original_open.to_numpy()\n",
        "original_open"
      ],
      "execution_count": 141,
      "outputs": [
        {
          "output_type": "execute_result",
          "data": {
            "text/plain": [
              "array([14807.950195, 14715.660156, 14771.169922, 14615.849609,\n",
              "       14758.599609, 14713.990234, 14747.209961, 14794.080078,\n",
              "       14864.219727, 14855.759766, 14887.75    , 14834.379883,\n",
              "       14751.360352, 14825.070313])"
            ]
          },
          "metadata": {
            "tags": []
          },
          "execution_count": 141
        }
      ]
    },
    {
      "cell_type": "code",
      "metadata": {
        "colab": {
          "base_uri": "https://localhost:8080/",
          "height": 483
        },
        "id": "3hCTff-Db55r",
        "outputId": "c5a1709a-6bc4-42c8-f0a7-147bf72e9880"
      },
      "source": [
        "df_forecast_all = df_forecast\n",
        "df_forecast = df_forecast.loc[df_forecast['Date'] <='2021-08-13']\n",
        "df_forecast"
      ],
      "execution_count": 142,
      "outputs": [
        {
          "output_type": "execute_result",
          "data": {
            "text/html": [
              "<div>\n",
              "<style scoped>\n",
              "    .dataframe tbody tr th:only-of-type {\n",
              "        vertical-align: middle;\n",
              "    }\n",
              "\n",
              "    .dataframe tbody tr th {\n",
              "        vertical-align: top;\n",
              "    }\n",
              "\n",
              "    .dataframe thead th {\n",
              "        text-align: right;\n",
              "    }\n",
              "</style>\n",
              "<table border=\"1\" class=\"dataframe\">\n",
              "  <thead>\n",
              "    <tr style=\"text-align: right;\">\n",
              "      <th></th>\n",
              "      <th>Date</th>\n",
              "      <th>Open</th>\n",
              "    </tr>\n",
              "  </thead>\n",
              "  <tbody>\n",
              "    <tr>\n",
              "      <th>0</th>\n",
              "      <td>2021-07-27</td>\n",
              "      <td>13589.433594</td>\n",
              "    </tr>\n",
              "    <tr>\n",
              "      <th>1</th>\n",
              "      <td>2021-07-28</td>\n",
              "      <td>13586.028320</td>\n",
              "    </tr>\n",
              "    <tr>\n",
              "      <th>2</th>\n",
              "      <td>2021-07-29</td>\n",
              "      <td>13530.356445</td>\n",
              "    </tr>\n",
              "    <tr>\n",
              "      <th>3</th>\n",
              "      <td>2021-07-30</td>\n",
              "      <td>13571.265625</td>\n",
              "    </tr>\n",
              "    <tr>\n",
              "      <th>4</th>\n",
              "      <td>2021-08-02</td>\n",
              "      <td>13640.151367</td>\n",
              "    </tr>\n",
              "    <tr>\n",
              "      <th>5</th>\n",
              "      <td>2021-08-03</td>\n",
              "      <td>13622.202148</td>\n",
              "    </tr>\n",
              "    <tr>\n",
              "      <th>6</th>\n",
              "      <td>2021-08-04</td>\n",
              "      <td>13596.290039</td>\n",
              "    </tr>\n",
              "    <tr>\n",
              "      <th>7</th>\n",
              "      <td>2021-08-05</td>\n",
              "      <td>13567.950195</td>\n",
              "    </tr>\n",
              "    <tr>\n",
              "      <th>8</th>\n",
              "      <td>2021-08-06</td>\n",
              "      <td>13587.432617</td>\n",
              "    </tr>\n",
              "    <tr>\n",
              "      <th>9</th>\n",
              "      <td>2021-08-09</td>\n",
              "      <td>13533.794922</td>\n",
              "    </tr>\n",
              "    <tr>\n",
              "      <th>10</th>\n",
              "      <td>2021-08-10</td>\n",
              "      <td>13469.099609</td>\n",
              "    </tr>\n",
              "    <tr>\n",
              "      <th>11</th>\n",
              "      <td>2021-08-11</td>\n",
              "      <td>13461.457031</td>\n",
              "    </tr>\n",
              "    <tr>\n",
              "      <th>12</th>\n",
              "      <td>2021-08-12</td>\n",
              "      <td>13506.210938</td>\n",
              "    </tr>\n",
              "    <tr>\n",
              "      <th>13</th>\n",
              "      <td>2021-08-13</td>\n",
              "      <td>13574.999023</td>\n",
              "    </tr>\n",
              "  </tbody>\n",
              "</table>\n",
              "</div>"
            ],
            "text/plain": [
              "         Date          Open\n",
              "0  2021-07-27  13589.433594\n",
              "1  2021-07-28  13586.028320\n",
              "2  2021-07-29  13530.356445\n",
              "3  2021-07-30  13571.265625\n",
              "4  2021-08-02  13640.151367\n",
              "5  2021-08-03  13622.202148\n",
              "6  2021-08-04  13596.290039\n",
              "7  2021-08-05  13567.950195\n",
              "8  2021-08-06  13587.432617\n",
              "9  2021-08-09  13533.794922\n",
              "10 2021-08-10  13469.099609\n",
              "11 2021-08-11  13461.457031\n",
              "12 2021-08-12  13506.210938\n",
              "13 2021-08-13  13574.999023"
            ]
          },
          "metadata": {
            "tags": []
          },
          "execution_count": 142
        }
      ]
    },
    {
      "cell_type": "code",
      "metadata": {
        "id": "cfc8Uw5IGIZ3",
        "outputId": "76f0d446-b249-4205-895d-bbad09469764",
        "colab": {
          "base_uri": "https://localhost:8080/"
        }
      },
      "source": [
        "13618.640625/14771.50"
      ],
      "execution_count": 66,
      "outputs": [
        {
          "output_type": "execute_result",
          "data": {
            "text/plain": [
              "0.9219538046237687"
            ]
          },
          "metadata": {
            "tags": []
          },
          "execution_count": 66
        }
      ]
    },
    {
      "cell_type": "code",
      "metadata": {
        "id": "x5mjPCdpGIlA",
        "outputId": "9cf17424-20a6-418d-eaaf-3ad293b95b51",
        "colab": {
          "base_uri": "https://localhost:8080/"
        }
      },
      "source": [
        "13574.999023/14715.129883"
      ],
      "execution_count": 68,
      "outputs": [
        {
          "output_type": "execute_result",
          "data": {
            "text/plain": [
              "0.9225198235377343"
            ]
          },
          "metadata": {
            "tags": []
          },
          "execution_count": 68
        }
      ]
    },
    {
      "cell_type": "code",
      "metadata": {
        "id": "C56uwu4WAcxs",
        "outputId": "df1553fd-070d-4ccd-a445-618d83459948",
        "colab": {
          "base_uri": "https://localhost:8080/"
        }
      },
      "source": [
        "direction = []\n",
        "a = 13589.433594\n",
        "for i in df_forecast['Open']:\n",
        "  if (i==a):\n",
        "    dir = 'Neutral'\n",
        "    #print(dir)\n",
        "  if (i< a):\n",
        "    dir = 'Down'\n",
        "    #print(dir)\n",
        "  else:\n",
        "    dir = 'Up'\n",
        "    #print(dir)\n",
        "  a = i\n",
        "  direction.append(dir)\n",
        "direction\n",
        "  "
      ],
      "execution_count": 143,
      "outputs": [
        {
          "output_type": "execute_result",
          "data": {
            "text/plain": [
              "['Down',\n",
              " 'Down',\n",
              " 'Down',\n",
              " 'Up',\n",
              " 'Up',\n",
              " 'Down',\n",
              " 'Down',\n",
              " 'Down',\n",
              " 'Up',\n",
              " 'Down',\n",
              " 'Down',\n",
              " 'Down',\n",
              " 'Up',\n",
              " 'Up']"
            ]
          },
          "metadata": {
            "tags": []
          },
          "execution_count": 143
        }
      ]
    },
    {
      "cell_type": "code",
      "metadata": {
        "id": "z6QOHTpjUEmQ",
        "outputId": "3ef50f28-3da8-4344-a577-60ad911e2e23",
        "colab": {
          "base_uri": "https://localhost:8080/",
          "height": 610
        }
      },
      "source": [
        "df_forecast['Actual Price'] = original_open\n",
        "df_forecast"
      ],
      "execution_count": 147,
      "outputs": [
        {
          "output_type": "stream",
          "text": [
            "/usr/local/lib/python3.7/dist-packages/ipykernel_launcher.py:1: SettingWithCopyWarning: \n",
            "A value is trying to be set on a copy of a slice from a DataFrame.\n",
            "Try using .loc[row_indexer,col_indexer] = value instead\n",
            "\n",
            "See the caveats in the documentation: https://pandas.pydata.org/pandas-docs/stable/user_guide/indexing.html#returning-a-view-versus-a-copy\n",
            "  \"\"\"Entry point for launching an IPython kernel.\n"
          ],
          "name": "stderr"
        },
        {
          "output_type": "execute_result",
          "data": {
            "text/html": [
              "<div>\n",
              "<style scoped>\n",
              "    .dataframe tbody tr th:only-of-type {\n",
              "        vertical-align: middle;\n",
              "    }\n",
              "\n",
              "    .dataframe tbody tr th {\n",
              "        vertical-align: top;\n",
              "    }\n",
              "\n",
              "    .dataframe thead th {\n",
              "        text-align: right;\n",
              "    }\n",
              "</style>\n",
              "<table border=\"1\" class=\"dataframe\">\n",
              "  <thead>\n",
              "    <tr style=\"text-align: right;\">\n",
              "      <th></th>\n",
              "      <th>Date</th>\n",
              "      <th>Open</th>\n",
              "      <th>Direction</th>\n",
              "      <th>Actual Price</th>\n",
              "    </tr>\n",
              "  </thead>\n",
              "  <tbody>\n",
              "    <tr>\n",
              "      <th>0</th>\n",
              "      <td>2021-07-27</td>\n",
              "      <td>13589.433594</td>\n",
              "      <td>Down</td>\n",
              "      <td>14807.950195</td>\n",
              "    </tr>\n",
              "    <tr>\n",
              "      <th>1</th>\n",
              "      <td>2021-07-28</td>\n",
              "      <td>13586.028320</td>\n",
              "      <td>Down</td>\n",
              "      <td>14715.660156</td>\n",
              "    </tr>\n",
              "    <tr>\n",
              "      <th>2</th>\n",
              "      <td>2021-07-29</td>\n",
              "      <td>13530.356445</td>\n",
              "      <td>Down</td>\n",
              "      <td>14771.169922</td>\n",
              "    </tr>\n",
              "    <tr>\n",
              "      <th>3</th>\n",
              "      <td>2021-07-30</td>\n",
              "      <td>13571.265625</td>\n",
              "      <td>Up</td>\n",
              "      <td>14615.849609</td>\n",
              "    </tr>\n",
              "    <tr>\n",
              "      <th>4</th>\n",
              "      <td>2021-08-02</td>\n",
              "      <td>13640.151367</td>\n",
              "      <td>Up</td>\n",
              "      <td>14758.599609</td>\n",
              "    </tr>\n",
              "    <tr>\n",
              "      <th>5</th>\n",
              "      <td>2021-08-03</td>\n",
              "      <td>13622.202148</td>\n",
              "      <td>Down</td>\n",
              "      <td>14713.990234</td>\n",
              "    </tr>\n",
              "    <tr>\n",
              "      <th>6</th>\n",
              "      <td>2021-08-04</td>\n",
              "      <td>13596.290039</td>\n",
              "      <td>Down</td>\n",
              "      <td>14747.209961</td>\n",
              "    </tr>\n",
              "    <tr>\n",
              "      <th>7</th>\n",
              "      <td>2021-08-05</td>\n",
              "      <td>13567.950195</td>\n",
              "      <td>Down</td>\n",
              "      <td>14794.080078</td>\n",
              "    </tr>\n",
              "    <tr>\n",
              "      <th>8</th>\n",
              "      <td>2021-08-06</td>\n",
              "      <td>13587.432617</td>\n",
              "      <td>Up</td>\n",
              "      <td>14864.219727</td>\n",
              "    </tr>\n",
              "    <tr>\n",
              "      <th>9</th>\n",
              "      <td>2021-08-09</td>\n",
              "      <td>13533.794922</td>\n",
              "      <td>Down</td>\n",
              "      <td>14855.759766</td>\n",
              "    </tr>\n",
              "    <tr>\n",
              "      <th>10</th>\n",
              "      <td>2021-08-10</td>\n",
              "      <td>13469.099609</td>\n",
              "      <td>Down</td>\n",
              "      <td>14887.750000</td>\n",
              "    </tr>\n",
              "    <tr>\n",
              "      <th>11</th>\n",
              "      <td>2021-08-11</td>\n",
              "      <td>13461.457031</td>\n",
              "      <td>Down</td>\n",
              "      <td>14834.379883</td>\n",
              "    </tr>\n",
              "    <tr>\n",
              "      <th>12</th>\n",
              "      <td>2021-08-12</td>\n",
              "      <td>13506.210938</td>\n",
              "      <td>Up</td>\n",
              "      <td>14751.360352</td>\n",
              "    </tr>\n",
              "    <tr>\n",
              "      <th>13</th>\n",
              "      <td>2021-08-13</td>\n",
              "      <td>13574.999023</td>\n",
              "      <td>Up</td>\n",
              "      <td>14825.070313</td>\n",
              "    </tr>\n",
              "  </tbody>\n",
              "</table>\n",
              "</div>"
            ],
            "text/plain": [
              "         Date          Open Direction  Actual Price\n",
              "0  2021-07-27  13589.433594      Down  14807.950195\n",
              "1  2021-07-28  13586.028320      Down  14715.660156\n",
              "2  2021-07-29  13530.356445      Down  14771.169922\n",
              "3  2021-07-30  13571.265625        Up  14615.849609\n",
              "4  2021-08-02  13640.151367        Up  14758.599609\n",
              "5  2021-08-03  13622.202148      Down  14713.990234\n",
              "6  2021-08-04  13596.290039      Down  14747.209961\n",
              "7  2021-08-05  13567.950195      Down  14794.080078\n",
              "8  2021-08-06  13587.432617        Up  14864.219727\n",
              "9  2021-08-09  13533.794922      Down  14855.759766\n",
              "10 2021-08-10  13469.099609      Down  14887.750000\n",
              "11 2021-08-11  13461.457031      Down  14834.379883\n",
              "12 2021-08-12  13506.210938        Up  14751.360352\n",
              "13 2021-08-13  13574.999023        Up  14825.070313"
            ]
          },
          "metadata": {
            "tags": []
          },
          "execution_count": 147
        }
      ]
    },
    {
      "cell_type": "code",
      "metadata": {
        "id": "Ivfq003rG3jI",
        "outputId": "a788c006-58e2-429e-ea24-13bfac2acb66",
        "colab": {
          "base_uri": "https://localhost:8080/",
          "height": 610
        }
      },
      "source": [
        "df_forecast['Direction']= direction\n",
        "df_forecast"
      ],
      "execution_count": 144,
      "outputs": [
        {
          "output_type": "stream",
          "text": [
            "/usr/local/lib/python3.7/dist-packages/ipykernel_launcher.py:1: SettingWithCopyWarning: \n",
            "A value is trying to be set on a copy of a slice from a DataFrame.\n",
            "Try using .loc[row_indexer,col_indexer] = value instead\n",
            "\n",
            "See the caveats in the documentation: https://pandas.pydata.org/pandas-docs/stable/user_guide/indexing.html#returning-a-view-versus-a-copy\n",
            "  \"\"\"Entry point for launching an IPython kernel.\n"
          ],
          "name": "stderr"
        },
        {
          "output_type": "execute_result",
          "data": {
            "text/html": [
              "<div>\n",
              "<style scoped>\n",
              "    .dataframe tbody tr th:only-of-type {\n",
              "        vertical-align: middle;\n",
              "    }\n",
              "\n",
              "    .dataframe tbody tr th {\n",
              "        vertical-align: top;\n",
              "    }\n",
              "\n",
              "    .dataframe thead th {\n",
              "        text-align: right;\n",
              "    }\n",
              "</style>\n",
              "<table border=\"1\" class=\"dataframe\">\n",
              "  <thead>\n",
              "    <tr style=\"text-align: right;\">\n",
              "      <th></th>\n",
              "      <th>Date</th>\n",
              "      <th>Open</th>\n",
              "      <th>Direction</th>\n",
              "    </tr>\n",
              "  </thead>\n",
              "  <tbody>\n",
              "    <tr>\n",
              "      <th>0</th>\n",
              "      <td>2021-07-27</td>\n",
              "      <td>13589.433594</td>\n",
              "      <td>Down</td>\n",
              "    </tr>\n",
              "    <tr>\n",
              "      <th>1</th>\n",
              "      <td>2021-07-28</td>\n",
              "      <td>13586.028320</td>\n",
              "      <td>Down</td>\n",
              "    </tr>\n",
              "    <tr>\n",
              "      <th>2</th>\n",
              "      <td>2021-07-29</td>\n",
              "      <td>13530.356445</td>\n",
              "      <td>Down</td>\n",
              "    </tr>\n",
              "    <tr>\n",
              "      <th>3</th>\n",
              "      <td>2021-07-30</td>\n",
              "      <td>13571.265625</td>\n",
              "      <td>Up</td>\n",
              "    </tr>\n",
              "    <tr>\n",
              "      <th>4</th>\n",
              "      <td>2021-08-02</td>\n",
              "      <td>13640.151367</td>\n",
              "      <td>Up</td>\n",
              "    </tr>\n",
              "    <tr>\n",
              "      <th>5</th>\n",
              "      <td>2021-08-03</td>\n",
              "      <td>13622.202148</td>\n",
              "      <td>Down</td>\n",
              "    </tr>\n",
              "    <tr>\n",
              "      <th>6</th>\n",
              "      <td>2021-08-04</td>\n",
              "      <td>13596.290039</td>\n",
              "      <td>Down</td>\n",
              "    </tr>\n",
              "    <tr>\n",
              "      <th>7</th>\n",
              "      <td>2021-08-05</td>\n",
              "      <td>13567.950195</td>\n",
              "      <td>Down</td>\n",
              "    </tr>\n",
              "    <tr>\n",
              "      <th>8</th>\n",
              "      <td>2021-08-06</td>\n",
              "      <td>13587.432617</td>\n",
              "      <td>Up</td>\n",
              "    </tr>\n",
              "    <tr>\n",
              "      <th>9</th>\n",
              "      <td>2021-08-09</td>\n",
              "      <td>13533.794922</td>\n",
              "      <td>Down</td>\n",
              "    </tr>\n",
              "    <tr>\n",
              "      <th>10</th>\n",
              "      <td>2021-08-10</td>\n",
              "      <td>13469.099609</td>\n",
              "      <td>Down</td>\n",
              "    </tr>\n",
              "    <tr>\n",
              "      <th>11</th>\n",
              "      <td>2021-08-11</td>\n",
              "      <td>13461.457031</td>\n",
              "      <td>Down</td>\n",
              "    </tr>\n",
              "    <tr>\n",
              "      <th>12</th>\n",
              "      <td>2021-08-12</td>\n",
              "      <td>13506.210938</td>\n",
              "      <td>Up</td>\n",
              "    </tr>\n",
              "    <tr>\n",
              "      <th>13</th>\n",
              "      <td>2021-08-13</td>\n",
              "      <td>13574.999023</td>\n",
              "      <td>Up</td>\n",
              "    </tr>\n",
              "  </tbody>\n",
              "</table>\n",
              "</div>"
            ],
            "text/plain": [
              "         Date          Open Direction\n",
              "0  2021-07-27  13589.433594      Down\n",
              "1  2021-07-28  13586.028320      Down\n",
              "2  2021-07-29  13530.356445      Down\n",
              "3  2021-07-30  13571.265625        Up\n",
              "4  2021-08-02  13640.151367        Up\n",
              "5  2021-08-03  13622.202148      Down\n",
              "6  2021-08-04  13596.290039      Down\n",
              "7  2021-08-05  13567.950195      Down\n",
              "8  2021-08-06  13587.432617        Up\n",
              "9  2021-08-09  13533.794922      Down\n",
              "10 2021-08-10  13469.099609      Down\n",
              "11 2021-08-11  13461.457031      Down\n",
              "12 2021-08-12  13506.210938        Up\n",
              "13 2021-08-13  13574.999023        Up"
            ]
          },
          "metadata": {
            "tags": []
          },
          "execution_count": 144
        }
      ]
    },
    {
      "cell_type": "code",
      "metadata": {
        "id": "V-OsgMO9HzHw",
        "outputId": "ec7fd9a1-ce91-4c27-c863-75efb9a9e196",
        "colab": {
          "base_uri": "https://localhost:8080/"
        }
      },
      "source": [
        "Accuracy = df_forecast['Open']/df_forecast['Actual Price']\n",
        "Accuracy=np.array(Accuracy)\n",
        "Accuracy"
      ],
      "execution_count": 148,
      "outputs": [
        {
          "output_type": "execute_result",
          "data": {
            "text/plain": [
              "array([0.917712  , 0.92323607, 0.91599762, 0.92853074, 0.92421718,\n",
              "       0.92579932, 0.92195677, 0.91712023, 0.91410332, 0.91101331,\n",
              "       0.90471022, 0.90744993, 0.91559088, 0.91567856])"
            ]
          },
          "metadata": {
            "tags": []
          },
          "execution_count": 148
        }
      ]
    },
    {
      "cell_type": "code",
      "metadata": {
        "id": "dITLCt6KPGDJ",
        "outputId": "a7d9e581-65e8-4a24-cdf3-3c868991b929",
        "colab": {
          "base_uri": "https://localhost:8080/",
          "height": 483
        }
      },
      "source": [
        "df_forecast['Accuracy'] = Accuracy\n",
        "df_forecast"
      ],
      "execution_count": 129,
      "outputs": [
        {
          "output_type": "execute_result",
          "data": {
            "text/html": [
              "<div>\n",
              "<style scoped>\n",
              "    .dataframe tbody tr th:only-of-type {\n",
              "        vertical-align: middle;\n",
              "    }\n",
              "\n",
              "    .dataframe tbody tr th {\n",
              "        vertical-align: top;\n",
              "    }\n",
              "\n",
              "    .dataframe thead th {\n",
              "        text-align: right;\n",
              "    }\n",
              "</style>\n",
              "<table border=\"1\" class=\"dataframe\">\n",
              "  <thead>\n",
              "    <tr style=\"text-align: right;\">\n",
              "      <th></th>\n",
              "      <th>Date</th>\n",
              "      <th>Open</th>\n",
              "      <th>Actual Price</th>\n",
              "      <th>Direction</th>\n",
              "      <th>Accuracy</th>\n",
              "    </tr>\n",
              "  </thead>\n",
              "  <tbody>\n",
              "    <tr>\n",
              "      <th>0</th>\n",
              "      <td>2021-07-27</td>\n",
              "      <td>13589.433594</td>\n",
              "      <td>14807.950195</td>\n",
              "      <td>Down</td>\n",
              "      <td>0.917712</td>\n",
              "    </tr>\n",
              "    <tr>\n",
              "      <th>1</th>\n",
              "      <td>2021-07-28</td>\n",
              "      <td>13586.028320</td>\n",
              "      <td>14715.660156</td>\n",
              "      <td>Down</td>\n",
              "      <td>0.923236</td>\n",
              "    </tr>\n",
              "    <tr>\n",
              "      <th>2</th>\n",
              "      <td>2021-07-29</td>\n",
              "      <td>13530.356445</td>\n",
              "      <td>14771.169922</td>\n",
              "      <td>Down</td>\n",
              "      <td>0.915998</td>\n",
              "    </tr>\n",
              "    <tr>\n",
              "      <th>3</th>\n",
              "      <td>2021-07-30</td>\n",
              "      <td>13571.265625</td>\n",
              "      <td>14615.849609</td>\n",
              "      <td>Up</td>\n",
              "      <td>0.928531</td>\n",
              "    </tr>\n",
              "    <tr>\n",
              "      <th>4</th>\n",
              "      <td>2021-08-02</td>\n",
              "      <td>13640.151367</td>\n",
              "      <td>14758.599609</td>\n",
              "      <td>Up</td>\n",
              "      <td>0.924217</td>\n",
              "    </tr>\n",
              "    <tr>\n",
              "      <th>5</th>\n",
              "      <td>2021-08-03</td>\n",
              "      <td>13622.202148</td>\n",
              "      <td>14713.990234</td>\n",
              "      <td>Down</td>\n",
              "      <td>0.925799</td>\n",
              "    </tr>\n",
              "    <tr>\n",
              "      <th>6</th>\n",
              "      <td>2021-08-04</td>\n",
              "      <td>13596.290039</td>\n",
              "      <td>14747.209961</td>\n",
              "      <td>Down</td>\n",
              "      <td>0.921957</td>\n",
              "    </tr>\n",
              "    <tr>\n",
              "      <th>7</th>\n",
              "      <td>2021-08-05</td>\n",
              "      <td>13567.950195</td>\n",
              "      <td>14794.080078</td>\n",
              "      <td>Down</td>\n",
              "      <td>0.917120</td>\n",
              "    </tr>\n",
              "    <tr>\n",
              "      <th>8</th>\n",
              "      <td>2021-08-06</td>\n",
              "      <td>13587.432617</td>\n",
              "      <td>14864.219727</td>\n",
              "      <td>Up</td>\n",
              "      <td>0.914103</td>\n",
              "    </tr>\n",
              "    <tr>\n",
              "      <th>9</th>\n",
              "      <td>2021-08-09</td>\n",
              "      <td>13533.794922</td>\n",
              "      <td>14855.759766</td>\n",
              "      <td>Down</td>\n",
              "      <td>0.911013</td>\n",
              "    </tr>\n",
              "    <tr>\n",
              "      <th>10</th>\n",
              "      <td>2021-08-10</td>\n",
              "      <td>13469.099609</td>\n",
              "      <td>14887.750000</td>\n",
              "      <td>Down</td>\n",
              "      <td>0.904710</td>\n",
              "    </tr>\n",
              "    <tr>\n",
              "      <th>11</th>\n",
              "      <td>2021-08-11</td>\n",
              "      <td>13461.457031</td>\n",
              "      <td>14834.379883</td>\n",
              "      <td>Down</td>\n",
              "      <td>0.907450</td>\n",
              "    </tr>\n",
              "    <tr>\n",
              "      <th>12</th>\n",
              "      <td>2021-08-12</td>\n",
              "      <td>13506.210938</td>\n",
              "      <td>14751.360352</td>\n",
              "      <td>Up</td>\n",
              "      <td>0.915591</td>\n",
              "    </tr>\n",
              "    <tr>\n",
              "      <th>13</th>\n",
              "      <td>2021-08-13</td>\n",
              "      <td>13574.999023</td>\n",
              "      <td>14825.070313</td>\n",
              "      <td>Up</td>\n",
              "      <td>0.915679</td>\n",
              "    </tr>\n",
              "  </tbody>\n",
              "</table>\n",
              "</div>"
            ],
            "text/plain": [
              "         Date          Open  Actual Price Direction  Accuracy\n",
              "0  2021-07-27  13589.433594  14807.950195      Down  0.917712\n",
              "1  2021-07-28  13586.028320  14715.660156      Down  0.923236\n",
              "2  2021-07-29  13530.356445  14771.169922      Down  0.915998\n",
              "3  2021-07-30  13571.265625  14615.849609        Up  0.928531\n",
              "4  2021-08-02  13640.151367  14758.599609        Up  0.924217\n",
              "5  2021-08-03  13622.202148  14713.990234      Down  0.925799\n",
              "6  2021-08-04  13596.290039  14747.209961      Down  0.921957\n",
              "7  2021-08-05  13567.950195  14794.080078      Down  0.917120\n",
              "8  2021-08-06  13587.432617  14864.219727        Up  0.914103\n",
              "9  2021-08-09  13533.794922  14855.759766      Down  0.911013\n",
              "10 2021-08-10  13469.099609  14887.750000      Down  0.904710\n",
              "11 2021-08-11  13461.457031  14834.379883      Down  0.907450\n",
              "12 2021-08-12  13506.210938  14751.360352        Up  0.915591\n",
              "13 2021-08-13  13574.999023  14825.070313        Up  0.915679"
            ]
          },
          "metadata": {
            "tags": []
          },
          "execution_count": 129
        }
      ]
    },
    {
      "cell_type": "code",
      "metadata": {
        "id": "EMgxse7ujvSK"
      },
      "source": [
        "a = 13618.640625/14771.50\n",
        "b = 13666.833/ 14652.719727\n",
        "c = 13674.233398/14330.459961"
      ],
      "execution_count": 151,
      "outputs": []
    },
    {
      "cell_type": "code",
      "metadata": {
        "colab": {
          "base_uri": "https://localhost:8080/"
        },
        "id": "eMU_qQ4jkm8N",
        "outputId": "7f86b972-7738-4642-bd9f-5de7629b7082"
      },
      "source": [
        "a"
      ],
      "execution_count": 152,
      "outputs": [
        {
          "output_type": "execute_result",
          "data": {
            "text/plain": [
              "0.9219538046237687"
            ]
          },
          "metadata": {
            "tags": []
          },
          "execution_count": 152
        }
      ]
    },
    {
      "cell_type": "code",
      "metadata": {
        "colab": {
          "base_uri": "https://localhost:8080/"
        },
        "id": "UCkCUqd9kptN",
        "outputId": "7a0509c4-365c-45e4-f326-41e09bb08a6d"
      },
      "source": [
        "b"
      ],
      "execution_count": 153,
      "outputs": [
        {
          "output_type": "execute_result",
          "data": {
            "text/plain": [
              "0.9327164686578053"
            ]
          },
          "metadata": {
            "tags": []
          },
          "execution_count": 153
        }
      ]
    },
    {
      "cell_type": "code",
      "metadata": {
        "colab": {
          "base_uri": "https://localhost:8080/"
        },
        "id": "G9_vs-7Nkp3l",
        "outputId": "0ad69954-c716-4b59-85b9-6fc2841969d1"
      },
      "source": [
        "c"
      ],
      "execution_count": 154,
      "outputs": [
        {
          "output_type": "execute_result",
          "data": {
            "text/plain": [
              "0.9542075715095046"
            ]
          },
          "metadata": {
            "tags": []
          },
          "execution_count": 154
        }
      ]
    },
    {
      "cell_type": "code",
      "metadata": {
        "id": "kwHzI9V25Ubv"
      },
      "source": [
        "#samples_to_predict = ['2021-07-21']\n",
        "# Convert into Numpy array\n",
        "#samples_to_predict = np.array(samples_to_predict)\n",
        "\n",
        "# Generate predictions for samples\n",
        "#predictions = model.predict(trainX[samples_to_predict:])\n",
        "#print(predictions)"
      ],
      "execution_count": null,
      "outputs": []
    }
  ]
}