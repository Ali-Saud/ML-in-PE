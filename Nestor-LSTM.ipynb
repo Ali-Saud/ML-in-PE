{
  "nbformat": 4,
  "nbformat_minor": 0,
  "metadata": {
    "colab": {
      "name": "Untitled3.ipynb",
      "provenance": [],
      "collapsed_sections": [],
      "authorship_tag": "ABX9TyNiJwanvJxXfHL+8HbKCXQO",
      "include_colab_link": true
    },
    "kernelspec": {
      "name": "python3",
      "display_name": "Python 3"
    },
    "language_info": {
      "name": "python"
    }
  },
  "cells": [
    {
      "cell_type": "markdown",
      "metadata": {
        "id": "view-in-github",
        "colab_type": "text"
      },
      "source": [
        "<a href=\"https://colab.research.google.com/github/Ali-Saud/ML-in-PE/blob/master/Nestor-LSTM.ipynb\" target=\"_parent\"><img src=\"https://colab.research.google.com/assets/colab-badge.svg\" alt=\"Open In Colab\"/></a>"
      ]
    },
    {
      "cell_type": "code",
      "metadata": {
        "id": "UQqpYPd3XSZI"
      },
      "source": [
        "import numpy as np\n",
        "from tensorflow.keras.models import Sequential\n",
        "from tensorflow.keras.layers import LSTM\n",
        "from tensorflow.keras.layers import Dense, Dropout\n",
        "import pandas as pd\n",
        "from matplotlib import pyplot as plt\n",
        "from sklearn.preprocessing import StandardScaler\n",
        "import seaborn as sns"
      ],
      "execution_count": 1,
      "outputs": []
    },
    {
      "cell_type": "code",
      "metadata": {
        "colab": {
          "base_uri": "https://localhost:8080/"
        },
        "id": "Pr694L2RXdce",
        "outputId": "7e767457-38d9-4aa7-f6cf-fb055ccd5bef"
      },
      "source": [
        "df = pd.read_csv('nasdaq-31-y.csv')\n",
        "print(df.head())"
      ],
      "execution_count": 2,
      "outputs": [
        {
          "output_type": "stream",
          "text": [
            "         Date        Open        High  ...       Close   Adj Close     Volume\n",
            "0  1990-08-01  437.700012  438.600006  ...  435.899994  435.899994  128980000\n",
            "1  1990-08-02  430.200012  433.399994  ...  428.899994  428.899994  146540000\n",
            "2  1990-08-03  423.500000  428.299988  ...  417.500000  417.500000  203170000\n",
            "3  1990-08-06  403.700012  414.600006  ...  400.000000  400.000000  174810000\n",
            "4  1990-08-07  401.100006  406.600006  ...  402.100006  402.100006  165470000\n",
            "\n",
            "[5 rows x 7 columns]\n"
          ],
          "name": "stdout"
        }
      ]
    },
    {
      "cell_type": "code",
      "metadata": {
        "colab": {
          "base_uri": "https://localhost:8080/"
        },
        "id": "T-0ltrX3YBVk",
        "outputId": "ef8d6a65-27fa-4cac-c9ca-3ca4cdd2294d"
      },
      "source": [
        "print(df.tail(15))"
      ],
      "execution_count": 4,
      "outputs": [
        {
          "output_type": "stream",
          "text": [
            "            Date          Open  ...     Adj Close      Volume\n",
            "7801  2021-07-20  14330.459961  ...  14498.879883  4618980000\n",
            "7802  2021-07-21  14508.750000  ...  14631.950195  4075150000\n",
            "7803  2021-07-22  14652.719727  ...  14684.599609  3574560000\n",
            "7804  2021-07-23  14753.059570  ...  14836.990234  3959410000\n",
            "7805  2021-07-26  14821.030273  ...  14840.709961  4409960000\n",
            "7806  2021-07-27  14807.950195  ...  14660.580078  4300000000\n",
            "7807  2021-07-28  14715.660156  ...  14762.580078  4235390000\n",
            "7808  2021-07-29  14771.169922  ...  14778.259766  3904590000\n",
            "7809  2021-07-30  14615.849609  ...  14672.679688  3628750000\n",
            "7810  2021-08-02  14758.599609  ...  14681.070313  3738200000\n",
            "7811  2021-08-03  14713.990234  ...  14761.290039  4117520000\n",
            "7812  2021-08-04  14747.209961  ...  14780.530273  4319400000\n",
            "7813  2021-08-05  14794.080078  ...  14895.120117  4087320000\n",
            "7814  2021-08-06  14864.219727  ...  14835.759766  4159050000\n",
            "7815  2021-08-09  14855.759766  ...  14860.179688  4095760000\n",
            "\n",
            "[15 rows x 7 columns]\n"
          ],
          "name": "stdout"
        }
      ]
    },
    {
      "cell_type": "code",
      "metadata": {
        "colab": {
          "base_uri": "https://localhost:8080/"
        },
        "id": "yWGLsE9pYKcx",
        "outputId": "d4450a5e-b93e-4d41-8335-1431a7f1ea83"
      },
      "source": [
        "cols = list(df)[1:7]\n",
        "#Date and volume columns are not used in training. \n",
        "print(cols) #['Open', 'High', 'Low', 'Close', 'Adj Close']"
      ],
      "execution_count": 60,
      "outputs": [
        {
          "output_type": "stream",
          "text": [
            "['Open', 'High', 'Low', 'Close', 'Adj Close', 'Volume']\n"
          ],
          "name": "stdout"
        }
      ]
    },
    {
      "cell_type": "code",
      "metadata": {
        "colab": {
          "base_uri": "https://localhost:8080/",
          "height": 265
        },
        "id": "zG8IYcGqYPtp",
        "outputId": "10a79765-3a02-4d59-fbba-00d871f543ed"
      },
      "source": [
        "#New dataframe with only training data - 5 columns\n",
        "df_for_training = df[cols].astype(float)\n",
        "\n",
        "df_for_plot=df_for_training['Close'].tail(5000)\n",
        "df_for_plot.plot.line()\n",
        "\n",
        "#LSTM uses sigmoid and tanh that are sensitive to magnitude so values need to be normalized\n",
        "# normalize the dataset\n",
        "scaler = StandardScaler()\n",
        "scaler = scaler.fit(df_for_training)\n",
        "df_for_training_scaled = scaler.transform(df_for_training)"
      ],
      "execution_count": 62,
      "outputs": [
        {
          "output_type": "display_data",
          "data": {
            "image/png": "[encoded data removed]",
            "text/plain": [
              "<Figure size 432x288 with 1 Axes>"
            ]
          },
          "metadata": {
            "tags": [],
            "needs_background": "light"
          }
        }
      ]
    },
    {
      "cell_type": "code",
      "metadata": {
        "colab": {
          "base_uri": "https://localhost:8080/"
        },
        "id": "yJgypICHYVP_",
        "outputId": "85ddae73-6ec2-421d-b594-4dee03726ecd"
      },
      "source": [
        "#As required for LSTM networks, we require to reshape an input data into n_samples x timesteps x n_features. \n",
        "#In this example, the n_features is 5. We will make timesteps = 14 (past days data used for training). \n",
        "\n",
        "#Empty lists to be populated using formatted training data\n",
        "trainX = []\n",
        "trainY = []\n",
        "\n",
        "n_future = 1   # Number of days we want to look into the future based on the past days.\n",
        "n_past = 5  # Number of past days we want to use to predict the future.\n",
        "\n",
        "#Reformat input data into a shape: (n_samples x timesteps x n_features)\n",
        "#In my example, my df_for_training_scaled has a shape (12823, 5)\n",
        "#12823 refers to the number of data points and 5 refers to the columns (multi-variables).\n",
        "for i in range(n_past, len(df_for_training_scaled) - n_future +1):\n",
        "    trainX.append(df_for_training_scaled[i - n_past:i, 0:df_for_training.shape[1]])\n",
        "    trainY.append(df_for_training_scaled[i + n_future - 1:i + n_future, 0])\n",
        "\n",
        "trainX, trainY = np.array(trainX), np.array(trainY)\n",
        "\n",
        "print('trainX shape == {}.'.format(trainX.shape))\n",
        "print('trainY shape == {}.'.format(trainY.shape))"
      ],
      "execution_count": 82,
      "outputs": [
        {
          "output_type": "stream",
          "text": [
            "trainX shape == (7811, 5, 6).\n",
            "trainY shape == (7811, 1).\n"
          ],
          "name": "stdout"
        }
      ]
    },
    {
      "cell_type": "code",
      "metadata": {
        "colab": {
          "base_uri": "https://localhost:8080/"
        },
        "id": "HxjskrxtYcpk",
        "outputId": "f8e38c28-47f6-4064-cfc4-e0b656a805c1"
      },
      "source": [
        "# define the Autoencoder model\n",
        "\n",
        "model = Sequential()\n",
        "model.add(LSTM(64, activation='relu', input_shape=(trainX.shape[1], trainX.shape[2]), return_sequences=True))\n",
        "model.add(LSTM(32, activation='relu', return_sequences=False))\n",
        "model.add(Dropout(0.2))\n",
        "model.add(Dense(trainY.shape[1]))\n",
        "\n",
        "model.compile(optimizer='adam', loss='mse')\n",
        "model.summary()"
      ],
      "execution_count": 83,
      "outputs": [
        {
          "output_type": "stream",
          "text": [
            "Model: \"sequential_9\"\n",
            "_________________________________________________________________\n",
            "Layer (type)                 Output Shape              Param #   \n",
            "=================================================================\n",
            "lstm_18 (LSTM)               (None, 5, 64)             18176     \n",
            "_________________________________________________________________\n",
            "lstm_19 (LSTM)               (None, 32)                12416     \n",
            "_________________________________________________________________\n",
            "dropout_9 (Dropout)          (None, 32)                0         \n",
            "_________________________________________________________________\n",
            "dense_9 (Dense)              (None, 1)                 33        \n",
            "=================================================================\n",
            "Total params: 30,625\n",
            "Trainable params: 30,625\n",
            "Non-trainable params: 0\n",
            "_________________________________________________________________\n"
          ],
          "name": "stdout"
        }
      ]
    },
    {
      "cell_type": "code",
      "metadata": {
        "colab": {
          "base_uri": "https://localhost:8080/",
          "height": 629
        },
        "id": "2DGT_lCgYklw",
        "outputId": "4b6ce10d-c8d1-4e07-aaff-4685269aa3b1"
      },
      "source": [
        "# fit the model\n",
        "history = model.fit(trainX, trainY, epochs=10, batch_size=64, validation_split=0.1, verbose=1)\n",
        "\n",
        "plt.plot(history.history['loss'], label='Training loss')\n",
        "plt.plot(history.history['val_loss'], label='Validation loss')\n",
        "plt.legend()"
      ],
      "execution_count": 84,
      "outputs": [
        {
          "output_type": "stream",
          "text": [
            "Epoch 1/10\n",
            "110/110 [==============================] - 3s 10ms/step - loss: 0.0657 - val_loss: 0.8871\n",
            "Epoch 2/10\n",
            "110/110 [==============================] - 1s 7ms/step - loss: 0.0106 - val_loss: 0.0164\n",
            "Epoch 3/10\n",
            "110/110 [==============================] - 1s 7ms/step - loss: 0.0083 - val_loss: 0.0734\n",
            "Epoch 4/10\n",
            "110/110 [==============================] - 1s 7ms/step - loss: 0.0091 - val_loss: 0.0329\n",
            "Epoch 5/10\n",
            "110/110 [==============================] - 1s 7ms/step - loss: 0.0082 - val_loss: 0.0200\n",
            "Epoch 6/10\n",
            "110/110 [==============================] - 1s 7ms/step - loss: 0.0080 - val_loss: 0.0176\n",
            "Epoch 7/10\n",
            "110/110 [==============================] - 1s 7ms/step - loss: 0.0080 - val_loss: 0.0149\n",
            "Epoch 8/10\n",
            "110/110 [==============================] - 1s 7ms/step - loss: 0.0082 - val_loss: 0.0459\n",
            "Epoch 9/10\n",
            "110/110 [==============================] - 1s 7ms/step - loss: 0.0078 - val_loss: 0.0241\n",
            "Epoch 10/10\n",
            "110/110 [==============================] - 1s 7ms/step - loss: 0.0080 - val_loss: 0.0881\n"
          ],
          "name": "stdout"
        },
        {
          "output_type": "execute_result",
          "data": {
            "text/plain": [
              "<matplotlib.legend.Legend at 0x7fd6a75efbd0>"
            ]
          },
          "metadata": {
            "tags": []
          },
          "execution_count": 84
        },
        {
          "output_type": "display_data",
          "data": {
            "image/png": "[encoded data removed]",
            "text/plain": [
              "<Figure size 432x288 with 1 Axes>"
            ]
          },
          "metadata": {
            "tags": [],
            "needs_background": "light"
          }
        }
      ]
    },
    {
      "cell_type": "code",
      "metadata": {
        "colab": {
          "base_uri": "https://localhost:8080/"
        },
        "id": "1VVE4FePosp0",
        "outputId": "961ccb06-2709-45b0-dfe8-4b1ccd7780b5"
      },
      "source": [
        "print(history.history['loss'])\n",
        "#print(history.history['acc'])"
      ],
      "execution_count": 85,
      "outputs": [
        {
          "output_type": "stream",
          "text": [
            "[0.06565570831298828, 0.010567246936261654, 0.00834928173571825, 0.009073317982256413, 0.008181863464415073, 0.007955419830977917, 0.008039498701691628, 0.008231613785028458, 0.007849852554500103, 0.007954253815114498]\n"
          ],
          "name": "stdout"
        }
      ]
    },
    {
      "cell_type": "code",
      "metadata": {
        "colab": {
          "base_uri": "https://localhost:8080/"
        },
        "id": "qtMRtONPYy68",
        "outputId": "7fa1cb0d-821a-453a-fcdb-0fb96f28001f"
      },
      "source": [
        "#Predicting...\n",
        "#Libraries that will help us extract only business days in the US.\n",
        "#Otherwise our dates would be wrong when we look back (or forward).  \n",
        "from pandas.tseries.holiday import USFederalHolidayCalendar\n",
        "from pandas.tseries.offsets import CustomBusinessDay\n",
        "us_bd = CustomBusinessDay(calendar=USFederalHolidayCalendar())\n",
        "train_dates = pd.to_datetime(df['Date'])\n",
        "#Remember that we can only predict one day in future as our model needs 5 variables\n",
        "#as inputs for prediction. We only have all 5 variables until the last day in our dataset.\n",
        "n_past = 14\n",
        "n_days_for_prediction=1  #let us predict past 15 days\n",
        "\n",
        "predict_period_dates = pd.date_range(list(train_dates)[-n_past], periods=n_days_for_prediction, freq=us_bd).tolist()\n",
        "print(predict_period_dates)"
      ],
      "execution_count": 86,
      "outputs": [
        {
          "output_type": "stream",
          "text": [
            "[Timestamp('2021-07-21 00:00:00', freq='C')]\n"
          ],
          "name": "stdout"
        }
      ]
    },
    {
      "cell_type": "code",
      "metadata": {
        "colab": {
          "base_uri": "https://localhost:8080/",
          "height": 473
        },
        "id": "haNEnOyZ7YgD",
        "outputId": "08799386-cc04-43b4-87d0-2ecec6d2a02f"
      },
      "source": [
        "#Make prediction\n",
        "prediction = model.predict(trainX[-n_days_for_prediction:]) #shape = (n, 1) where n is the n_days_for_prediction\n",
        "\n",
        "#Perform inverse transformation to rescale back to original range\n",
        "#Since we used 5 variables for transform, the inverse expects same dimensions\n",
        "#Therefore, let us copy our values 5 times and discard them after inverse transform\n",
        "prediction_copies = np.repeat(prediction, df_for_training.shape[1], axis=-1)\n",
        "y_pred_future = scaler.inverse_transform(prediction_copies)[:,0]\n",
        "\n",
        "\n",
        "# Convert timestamp to date\n",
        "forecast_dates = []\n",
        "for time_i in predict_period_dates:\n",
        "    forecast_dates.append(time_i.date())\n",
        "    \n",
        "df_forecast = pd.DataFrame({'Date':np.array(forecast_dates), 'Open':y_pred_future})\n",
        "df_forecast['Date']=pd.to_datetime(df_forecast['Date'])\n",
        "\n",
        "\n",
        "original = df[['Date', 'Open']]\n",
        "original['Date']=pd.to_datetime(original['Date'])\n",
        "original = original.loc[original['Date'] >= '2020-5-1']\n",
        "\n",
        "sns.lineplot(original['Date'], original['Open'])\n",
        "sns.lineplot(df_forecast['Date'], df_forecast['Open'])"
      ],
      "execution_count": 87,
      "outputs": [
        {
          "output_type": "stream",
          "text": [
            "/usr/local/lib/python3.7/dist-packages/ipykernel_launcher.py:21: SettingWithCopyWarning: \n",
            "A value is trying to be set on a copy of a slice from a DataFrame.\n",
            "Try using .loc[row_indexer,col_indexer] = value instead\n",
            "\n",
            "See the caveats in the documentation: https://pandas.pydata.org/pandas-docs/stable/user_guide/indexing.html#returning-a-view-versus-a-copy\n",
            "/usr/local/lib/python3.7/dist-packages/seaborn/_decorators.py:43: FutureWarning: Pass the following variables as keyword args: x, y. From version 0.12, the only valid positional argument will be `data`, and passing other arguments without an explicit keyword will result in an error or misinterpretation.\n",
            "  FutureWarning\n",
            "/usr/local/lib/python3.7/dist-packages/seaborn/_decorators.py:43: FutureWarning: Pass the following variables as keyword args: x, y. From version 0.12, the only valid positional argument will be `data`, and passing other arguments without an explicit keyword will result in an error or misinterpretation.\n",
            "  FutureWarning\n"
          ],
          "name": "stderr"
        },
        {
          "output_type": "execute_result",
          "data": {
            "text/plain": [
              "<matplotlib.axes._subplots.AxesSubplot at 0x7fd64a35b390>"
            ]
          },
          "metadata": {
            "tags": []
          },
          "execution_count": 87
        },
        {
          "output_type": "display_data",
          "data": {
            "image/png": "[encoded data removed]",
            "text/plain": [
              "<Figure size 432x288 with 1 Axes>"
            ]
          },
          "metadata": {
            "tags": [],
            "needs_background": "light"
          }
        }
      ]
    }
  ]
}