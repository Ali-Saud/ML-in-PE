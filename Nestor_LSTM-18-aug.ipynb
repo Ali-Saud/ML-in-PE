{
  "nbformat": 4,
  "nbformat_minor": 0,
  "metadata": {
    "colab": {
      "name": "Untitled3.ipynb",
      "provenance": [],
      "collapsed_sections": [],
      "authorship_tag": "ABX9TyMznm/1T1sQLMt213Sw4rAh",
      "include_colab_link": true
    },
    "kernelspec": {
      "display_name": "Python 3",
      "name": "python3"
    },
    "language_info": {
      "name": "python"
    }
  },
  "cells": [
    {
      "cell_type": "markdown",
      "metadata": {
        "id": "view-in-github",
        "colab_type": "text"
      },
      "source": [
        "<a href=\"https://colab.research.google.com/github/Ali-Saud/ML-in-PE/blob/master/Nestor_LSTM-18-aug.ipynb\" target=\"_parent\"><img src=\"https://colab.research.google.com/assets/colab-badge.svg\" alt=\"Open In Colab\"/></a>"
      ]
    },
    {
      "cell_type": "code",
      "metadata": {
        "id": "UQqpYPd3XSZI"
      },
      "source": [
        "import numpy as np\n",
        "from tensorflow.keras.models import Sequential\n",
        "from tensorflow.keras.layers import LSTM\n",
        "from tensorflow.keras.layers import Dense, Dropout\n",
        "import pandas as pd\n",
        "from matplotlib import pyplot as plt\n",
        "from sklearn.preprocessing import StandardScaler\n",
        "import seaborn as sns"
      ],
      "execution_count": 142,
      "outputs": []
    },
    {
      "cell_type": "code",
      "metadata": {
        "colab": {
          "base_uri": "https://localhost:8080/"
        },
        "id": "Pr694L2RXdce",
        "outputId": "e2ac219f-f1c4-4d38-9114-263e7aa4e02b"
      },
      "source": [
        "df = pd.read_csv('nasdaq-21-y.csv')\n",
        "print(df.head())"
      ],
      "execution_count": 143,
      "outputs": [
        {
          "output_type": "stream",
          "text": [
            "         Date         Open         High  ...        Close    Adj Close      Volume\n",
            "0  2000-08-16  3878.580078  3914.840088  ...  3861.199951  3861.199951  1401380000\n",
            "1  2000-08-17  3858.879883  3947.050049  ...  3940.870117  3940.870117  1440370000\n",
            "2  2000-08-18  3958.699951  3980.260010  ...  3930.340088  3930.340088  1447920000\n",
            "3  2000-08-21  3966.229980  3985.620117  ...  3953.149902  3953.149902  1269330000\n",
            "4  2000-08-22  3970.159912  4011.149902  ...  3958.209961  3958.209961  1413190000\n",
            "\n",
            "[5 rows x 7 columns]\n"
          ],
          "name": "stdout"
        }
      ]
    },
    {
      "cell_type": "code",
      "metadata": {
        "colab": {
          "base_uri": "https://localhost:8080/"
        },
        "id": "T-0ltrX3YBVk",
        "outputId": "90d70f76-750c-454f-a143-4042acf07f67"
      },
      "source": [
        "print(df.tail(15))"
      ],
      "execution_count": 144,
      "outputs": [
        {
          "output_type": "stream",
          "text": [
            "            Date          Open  ...     Adj Close      Volume\n",
            "5267  2021-07-26  14821.030273  ...  14840.709961  4409960000\n",
            "5268  2021-07-27  14807.950195  ...  14660.580078  4300000000\n",
            "5269  2021-07-28  14715.660156  ...  14762.580078  4235390000\n",
            "5270  2021-07-29  14771.169922  ...  14778.259766  3904590000\n",
            "5271  2021-07-30  14615.849609  ...  14672.679688  3628750000\n",
            "5272  2021-08-02  14758.599609  ...  14681.070313  3738200000\n",
            "5273  2021-08-03  14713.990234  ...  14761.290039  4117520000\n",
            "5274  2021-08-04  14747.209961  ...  14780.530273  4319400000\n",
            "5275  2021-08-05  14794.080078  ...  14895.120117  4087320000\n",
            "5276  2021-08-06  14864.219727  ...  14835.759766  4159050000\n",
            "5277  2021-08-09  14855.759766  ...  14860.179688  4095760000\n",
            "5278  2021-08-10  14887.750000  ...  14788.089844  3978790000\n",
            "5279  2021-08-11  14834.379883  ...  14765.139648  3980530000\n",
            "5280  2021-08-12  14751.360352  ...  14816.259766  4020260000\n",
            "5281  2021-08-13  14825.070313  ...  14822.900391  4038130000\n",
            "\n",
            "[15 rows x 7 columns]\n"
          ],
          "name": "stdout"
        }
      ]
    },
    {
      "cell_type": "code",
      "metadata": {
        "colab": {
          "base_uri": "https://localhost:8080/"
        },
        "id": "yWGLsE9pYKcx",
        "outputId": "df27e564-64d2-4c0a-b2d5-7ef7de0f7def"
      },
      "source": [
        "cols = list(df)[1:6]\n",
        "#Date and volume columns are not used in training. \n",
        "print(cols) #['Open', 'High', 'Low', 'Close', 'Adj Close']"
      ],
      "execution_count": 145,
      "outputs": [
        {
          "output_type": "stream",
          "text": [
            "['Open', 'High', 'Low', 'Close', 'Adj Close']\n"
          ],
          "name": "stdout"
        }
      ]
    },
    {
      "cell_type": "code",
      "metadata": {
        "colab": {
          "base_uri": "https://localhost:8080/",
          "height": 265
        },
        "id": "zG8IYcGqYPtp",
        "outputId": "82f9ed15-ed41-4476-81e8-374154d90359"
      },
      "source": [
        "#New dataframe with only training data - 5 columns\n",
        "df_for_training = df[cols].astype(float)\n",
        "\n",
        "df_for_plot=df_for_training['Close'].tail(5000)\n",
        "df_for_plot.plot.line()\n",
        "\n",
        "#LSTM uses sigmoid and tanh that are sensitive to magnitude so values need to be normalized\n",
        "# normalize the dataset\n",
        "scaler = StandardScaler()\n",
        "scaler = scaler.fit(df_for_training)\n",
        "df_for_training_scaled = scaler.transform(df_for_training)"
      ],
      "execution_count": 146,
      "outputs": [
        {
          "output_type": "display_data",
          "data": {
            "image/png": "[encoded data removed]",
            "text/plain": [
              "<Figure size 432x288 with 1 Axes>"
            ]
          },
          "metadata": {
            "tags": [],
            "needs_background": "light"
          }
        }
      ]
    },
    {
      "cell_type": "code",
      "metadata": {
        "colab": {
          "base_uri": "https://localhost:8080/"
        },
        "id": "yJgypICHYVP_",
        "outputId": "f54aa60c-c0ee-4f72-ebb8-ba95c6a48809"
      },
      "source": [
        "#As required for LSTM networks, we require to reshape an input data into n_samples x timesteps x n_features. \n",
        "#In this example, the n_features is 5. We will make timesteps = 14 (past days data used for training). \n",
        "\n",
        "#Empty lists to be populated using formatted training data\n",
        "trainX = []\n",
        "trainY = []\n",
        "\n",
        "n_future = 1   # Number of days we want to look into the future based on the past days.\n",
        "n_past = 7  # Number of past days we want to use to predict the future.\n",
        "\n",
        "#Reformat input data into a shape: (n_samples x timesteps x n_features)\n",
        "#In my example, my df_for_training_scaled has a shape (12823, 5)\n",
        "#12823 refers to the number of data points and 5 refers to the columns (multi-variables).\n",
        "for i in range(n_past, len(df_for_training_scaled) - n_future +1):\n",
        "    trainX.append(df_for_training_scaled[i - n_past:i, 0:df_for_training.shape[1]])\n",
        "    trainY.append(df_for_training_scaled[i + n_future - 1:i + n_future, 0])\n",
        "\n",
        "trainX, trainY = np.array(trainX), np.array(trainY)\n",
        "\n",
        "print('trainX shape == {}.'.format(trainX.shape))\n",
        "print('trainY shape == {}.'.format(trainY.shape))"
      ],
      "execution_count": 147,
      "outputs": [
        {
          "output_type": "stream",
          "text": [
            "trainX shape == (5275, 7, 5).\n",
            "trainY shape == (5275, 1).\n"
          ],
          "name": "stdout"
        }
      ]
    },
    {
      "cell_type": "code",
      "metadata": {
        "colab": {
          "base_uri": "https://localhost:8080/"
        },
        "id": "HxjskrxtYcpk",
        "outputId": "4169f513-a7a0-42ac-c3c3-0c99a5d33ad4"
      },
      "source": [
        "# define the Autoencoder model\n",
        "\n",
        "model = Sequential()\n",
        "model.add(LSTM(64, activation='relu', input_shape=(trainX.shape[1], trainX.shape[2]), return_sequences=True))\n",
        "model.add(LSTM(32, activation='relu', return_sequences=False))\n",
        "model.add(Dropout(0.2))\n",
        "model.add(Dense(trainY.shape[1]))\n",
        "\n",
        "model.compile(optimizer='adam', loss='mse')\n",
        "model.summary()"
      ],
      "execution_count": 148,
      "outputs": [
        {
          "output_type": "stream",
          "text": [
            "Model: \"sequential_4\"\n",
            "_________________________________________________________________\n",
            "Layer (type)                 Output Shape              Param #   \n",
            "=================================================================\n",
            "lstm_8 (LSTM)                (None, 7, 64)             17920     \n",
            "_________________________________________________________________\n",
            "lstm_9 (LSTM)                (None, 32)                12416     \n",
            "_________________________________________________________________\n",
            "dropout_4 (Dropout)          (None, 32)                0         \n",
            "_________________________________________________________________\n",
            "dense_4 (Dense)              (None, 1)                 33        \n",
            "=================================================================\n",
            "Total params: 30,369\n",
            "Trainable params: 30,369\n",
            "Non-trainable params: 0\n",
            "_________________________________________________________________\n"
          ],
          "name": "stdout"
        }
      ]
    },
    {
      "cell_type": "code",
      "metadata": {
        "colab": {
          "base_uri": "https://localhost:8080/",
          "height": 567
        },
        "id": "2DGT_lCgYklw",
        "outputId": "9a6db1ed-fc82-498c-9324-ddbcabd974ef"
      },
      "source": [
        "# fit the model\n",
        "history = model.fit(trainX, trainY, epochs=8, batch_size=64, validation_split=0.1, verbose=1)\n",
        "\n",
        "plt.plot(history.history['loss'], label='Training loss')\n",
        "plt.plot(history.history['val_loss'], label='Validation loss')\n",
        "plt.legend()"
      ],
      "execution_count": 149,
      "outputs": [
        {
          "output_type": "stream",
          "text": [
            "Epoch 1/8\n",
            "75/75 [==============================] - 3s 15ms/step - loss: 0.1316 - val_loss: 0.9257\n",
            "Epoch 2/8\n",
            "75/75 [==============================] - 1s 11ms/step - loss: 0.0189 - val_loss: 0.0460\n",
            "Epoch 3/8\n",
            "75/75 [==============================] - 1s 11ms/step - loss: 0.0160 - val_loss: 0.2023\n",
            "Epoch 4/8\n",
            "75/75 [==============================] - 1s 11ms/step - loss: 0.0157 - val_loss: 0.0105\n",
            "Epoch 5/8\n",
            "75/75 [==============================] - 1s 11ms/step - loss: 0.0145 - val_loss: 0.1129\n",
            "Epoch 6/8\n",
            "75/75 [==============================] - 1s 11ms/step - loss: 0.0151 - val_loss: 0.1083\n",
            "Epoch 7/8\n",
            "75/75 [==============================] - 1s 11ms/step - loss: 0.0144 - val_loss: 0.1424\n",
            "Epoch 8/8\n",
            "75/75 [==============================] - 1s 11ms/step - loss: 0.0151 - val_loss: 0.3860\n"
          ],
          "name": "stdout"
        },
        {
          "output_type": "execute_result",
          "data": {
            "text/plain": [
              "<matplotlib.legend.Legend at 0x7f3c6c301c90>"
            ]
          },
          "metadata": {
            "tags": []
          },
          "execution_count": 149
        },
        {
          "output_type": "display_data",
          "data": {
            "image/png": "[encoded data removed]",
            "text/plain": [
              "<Figure size 432x288 with 1 Axes>"
            ]
          },
          "metadata": {
            "tags": [],
            "needs_background": "light"
          }
        }
      ]
    },
    {
      "cell_type": "code",
      "metadata": {
        "colab": {
          "base_uri": "https://localhost:8080/"
        },
        "id": "1VVE4FePosp0",
        "outputId": "6d6ab5cd-73f3-4503-d2ce-f3446dfa31ab"
      },
      "source": [
        "print(history.history['loss'])\n",
        "#print(history.history['acc'])"
      ],
      "execution_count": 150,
      "outputs": [
        {
          "output_type": "stream",
          "text": [
            "[0.13163861632347107, 0.01888400875031948, 0.015962908044457436, 0.01568007841706276, 0.014479496516287327, 0.015072756446897984, 0.014357581734657288, 0.015077386982738972]\n"
          ],
          "name": "stdout"
        }
      ]
    },
    {
      "cell_type": "code",
      "metadata": {
        "colab": {
          "base_uri": "https://localhost:8080/"
        },
        "id": "qtMRtONPYy68",
        "outputId": "205ce53d-2f3e-4ca2-9246-7e8a1300b4cb"
      },
      "source": [
        "#Predicting...\n",
        "#Libraries that will help us extract only business days in the US.\n",
        "#Otherwise our dates would be wrong when we look back (or forward).  \n",
        "from pandas.tseries.holiday import USFederalHolidayCalendar\n",
        "from pandas.tseries.offsets import CustomBusinessDay\n",
        "us_bd = CustomBusinessDay(calendar=USFederalHolidayCalendar())\n",
        "train_dates = pd.to_datetime(df['Date'])\n",
        "#Remember that we can only predict one day in future as our model needs 5 variables\n",
        "#as inputs for prediction. We only have all 5 variables until the last day in our dataset.\n",
        "n_past = 10\n",
        "n_days_for_prediction=30 #let us predict past 15 days\n",
        "\n",
        "predict_period_dates = pd.date_range(list(train_dates)[-n_past], periods=n_days_for_prediction, freq=us_bd).tolist()\n",
        "print(predict_period_dates)"
      ],
      "execution_count": 151,
      "outputs": [
        {
          "output_type": "stream",
          "text": [
            "[Timestamp('2021-08-02 00:00:00', freq='C'), Timestamp('2021-08-03 00:00:00', freq='C'), Timestamp('2021-08-04 00:00:00', freq='C'), Timestamp('2021-08-05 00:00:00', freq='C'), Timestamp('2021-08-06 00:00:00', freq='C'), Timestamp('2021-08-09 00:00:00', freq='C'), Timestamp('2021-08-10 00:00:00', freq='C'), Timestamp('2021-08-11 00:00:00', freq='C'), Timestamp('2021-08-12 00:00:00', freq='C'), Timestamp('2021-08-13 00:00:00', freq='C'), Timestamp('2021-08-16 00:00:00', freq='C'), Timestamp('2021-08-17 00:00:00', freq='C'), Timestamp('2021-08-18 00:00:00', freq='C'), Timestamp('2021-08-19 00:00:00', freq='C'), Timestamp('2021-08-20 00:00:00', freq='C'), Timestamp('2021-08-23 00:00:00', freq='C'), Timestamp('2021-08-24 00:00:00', freq='C'), Timestamp('2021-08-25 00:00:00', freq='C'), Timestamp('2021-08-26 00:00:00', freq='C'), Timestamp('2021-08-27 00:00:00', freq='C'), Timestamp('2021-08-30 00:00:00', freq='C'), Timestamp('2021-08-31 00:00:00', freq='C'), Timestamp('2021-09-01 00:00:00', freq='C'), Timestamp('2021-09-02 00:00:00', freq='C'), Timestamp('2021-09-03 00:00:00', freq='C'), Timestamp('2021-09-07 00:00:00', freq='C'), Timestamp('2021-09-08 00:00:00', freq='C'), Timestamp('2021-09-09 00:00:00', freq='C'), Timestamp('2021-09-10 00:00:00', freq='C'), Timestamp('2021-09-13 00:00:00', freq='C')]\n"
          ],
          "name": "stdout"
        }
      ]
    },
    {
      "cell_type": "code",
      "metadata": {
        "colab": {
          "base_uri": "https://localhost:8080/"
        },
        "id": "y0rWsbT0LjKt",
        "outputId": "bcc43cce-4806-47fe-eb99-67bc2a3dff6a"
      },
      "source": [
        "q = pd.to_datetime(predict_period_dates)\n",
        "q"
      ],
      "execution_count": 152,
      "outputs": [
        {
          "output_type": "execute_result",
          "data": {
            "text/plain": [
              "DatetimeIndex(['2021-08-02', '2021-08-03', '2021-08-04', '2021-08-05',\n",
              "               '2021-08-06', '2021-08-09', '2021-08-10', '2021-08-11',\n",
              "               '2021-08-12', '2021-08-13', '2021-08-16', '2021-08-17',\n",
              "               '2021-08-18', '2021-08-19', '2021-08-20', '2021-08-23',\n",
              "               '2021-08-24', '2021-08-25', '2021-08-26', '2021-08-27',\n",
              "               '2021-08-30', '2021-08-31', '2021-09-01', '2021-09-02',\n",
              "               '2021-09-03', '2021-09-07', '2021-09-08', '2021-09-09',\n",
              "               '2021-09-10', '2021-09-13'],\n",
              "              dtype='datetime64[ns]', freq=None)"
            ]
          },
          "metadata": {
            "tags": []
          },
          "execution_count": 152
        }
      ]
    },
    {
      "cell_type": "code",
      "metadata": {
        "colab": {
          "base_uri": "https://localhost:8080/"
        },
        "id": "bziiVJwPLxES",
        "outputId": "f9c83bd9-8197-431f-d40c-c0a9be6a36a4"
      },
      "source": [
        "pred_dates = q\n",
        "pred_dates[0]"
      ],
      "execution_count": 153,
      "outputs": [
        {
          "output_type": "execute_result",
          "data": {
            "text/plain": [
              "Timestamp('2021-08-02 00:00:00')"
            ]
          },
          "metadata": {
            "tags": []
          },
          "execution_count": 153
        }
      ]
    },
    {
      "cell_type": "code",
      "metadata": {
        "colab": {
          "base_uri": "https://localhost:8080/",
          "height": 404
        },
        "id": "yFZglOELTh_h",
        "outputId": "c4b5751b-ce0a-4de6-ac26-9989fa14e021"
      },
      "source": [
        "#Make prediction\n",
        "prediction = model.predict(trainX[-n_days_for_prediction:]) #shape = (n, 1) where n is the n_days_for_prediction\n",
        "\n",
        "#Perform inverse transformation to rescale back to original range\n",
        "#Since we used 5 variables for transform, the inverse expects same dimensions\n",
        "#Therefore, let us copy our values 5 times and discard them after inverse transform\n",
        "prediction_copies = np.repeat(prediction, df_for_training.shape[1], axis=-1)\n",
        "y_pred_future = scaler.inverse_transform(prediction_copies)[:,0]\n",
        "\n",
        "\n",
        "# Convert timestamp to date\n",
        "forecast_dates = []\n",
        "for time_i in predict_period_dates:\n",
        "    forecast_dates.append(time_i.date())\n",
        "    \n",
        "df_forecast = pd.DataFrame({'Date':np.array(forecast_dates), 'Close':y_pred_future})\n",
        "df_forecast['Date']=pd.to_datetime(df_forecast['Date'])\n",
        "\n",
        "\n",
        "original = df[['Date', 'Close']]\n",
        "original['Date']=pd.to_datetime(original['Date'])\n",
        "original = original.loc[original['Date'] >= '2021-5-1']\n",
        "\n",
        "#sns.lineplot(original['Date'], original['Close'])\n",
        "#sns.lineplot(df_forecast['Date'], df_forecast['Close'])\n",
        "\n",
        "plt.plot(original['Date'], original['Close'], color = 'red', label = ' Stock Price')\n",
        "plt.plot(df_forecast['Date'], df_forecast['Close'] , color = 'green', label = 'Predicted  Stock Price')\n",
        "plt.title(' Stock Price Prediction')\n",
        "plt.xlabel('Time')\n",
        "plt.ylabel(' Stock Price')\n",
        "plt.legend()\n",
        "plt.show()"
      ],
      "execution_count": 166,
      "outputs": [
        {
          "output_type": "stream",
          "text": [
            "/usr/local/lib/python3.7/dist-packages/ipykernel_launcher.py:21: SettingWithCopyWarning: \n",
            "A value is trying to be set on a copy of a slice from a DataFrame.\n",
            "Try using .loc[row_indexer,col_indexer] = value instead\n",
            "\n",
            "See the caveats in the documentation: https://pandas.pydata.org/pandas-docs/stable/user_guide/indexing.html#returning-a-view-versus-a-copy\n"
          ],
          "name": "stderr"
        },
        {
          "output_type": "display_data",
          "data": {
            "image/png": "[encoded data removed]",
            "text/plain": [
              "<Figure size 432x288 with 1 Axes>"
            ]
          },
          "metadata": {
            "tags": [],
            "needs_background": "light"
          }
        }
      ]
    },
    {
      "cell_type": "code",
      "metadata": {
        "colab": {
          "base_uri": "https://localhost:8080/",
          "height": 419
        },
        "id": "dFrya6uGkGbx",
        "outputId": "451d8d44-c921-469d-bd12-8eb64c30ac99"
      },
      "source": [
        "original.tail(65)"
      ],
      "execution_count": 167,
      "outputs": [
        {
          "output_type": "execute_result",
          "data": {
            "text/html": [
              "<div>\n",
              "<style scoped>\n",
              "    .dataframe tbody tr th:only-of-type {\n",
              "        vertical-align: middle;\n",
              "    }\n",
              "\n",
              "    .dataframe tbody tr th {\n",
              "        vertical-align: top;\n",
              "    }\n",
              "\n",
              "    .dataframe thead th {\n",
              "        text-align: right;\n",
              "    }\n",
              "</style>\n",
              "<table border=\"1\" class=\"dataframe\">\n",
              "  <thead>\n",
              "    <tr style=\"text-align: right;\">\n",
              "      <th></th>\n",
              "      <th>Date</th>\n",
              "      <th>Close</th>\n",
              "    </tr>\n",
              "  </thead>\n",
              "  <tbody>\n",
              "    <tr>\n",
              "      <th>5217</th>\n",
              "      <td>2021-05-13</td>\n",
              "      <td>13124.990234</td>\n",
              "    </tr>\n",
              "    <tr>\n",
              "      <th>5218</th>\n",
              "      <td>2021-05-14</td>\n",
              "      <td>13429.980469</td>\n",
              "    </tr>\n",
              "    <tr>\n",
              "      <th>5219</th>\n",
              "      <td>2021-05-17</td>\n",
              "      <td>13379.049805</td>\n",
              "    </tr>\n",
              "    <tr>\n",
              "      <th>5220</th>\n",
              "      <td>2021-05-18</td>\n",
              "      <td>13303.639648</td>\n",
              "    </tr>\n",
              "    <tr>\n",
              "      <th>5221</th>\n",
              "      <td>2021-05-19</td>\n",
              "      <td>13299.740234</td>\n",
              "    </tr>\n",
              "    <tr>\n",
              "      <th>...</th>\n",
              "      <td>...</td>\n",
              "      <td>...</td>\n",
              "    </tr>\n",
              "    <tr>\n",
              "      <th>5277</th>\n",
              "      <td>2021-08-09</td>\n",
              "      <td>14860.179688</td>\n",
              "    </tr>\n",
              "    <tr>\n",
              "      <th>5278</th>\n",
              "      <td>2021-08-10</td>\n",
              "      <td>14788.089844</td>\n",
              "    </tr>\n",
              "    <tr>\n",
              "      <th>5279</th>\n",
              "      <td>2021-08-11</td>\n",
              "      <td>14765.139648</td>\n",
              "    </tr>\n",
              "    <tr>\n",
              "      <th>5280</th>\n",
              "      <td>2021-08-12</td>\n",
              "      <td>14816.259766</td>\n",
              "    </tr>\n",
              "    <tr>\n",
              "      <th>5281</th>\n",
              "      <td>2021-08-13</td>\n",
              "      <td>14822.900391</td>\n",
              "    </tr>\n",
              "  </tbody>\n",
              "</table>\n",
              "<p>65 rows × 2 columns</p>\n",
              "</div>"
            ],
            "text/plain": [
              "           Date         Close\n",
              "5217 2021-05-13  13124.990234\n",
              "5218 2021-05-14  13429.980469\n",
              "5219 2021-05-17  13379.049805\n",
              "5220 2021-05-18  13303.639648\n",
              "5221 2021-05-19  13299.740234\n",
              "...         ...           ...\n",
              "5277 2021-08-09  14860.179688\n",
              "5278 2021-08-10  14788.089844\n",
              "5279 2021-08-11  14765.139648\n",
              "5280 2021-08-12  14816.259766\n",
              "5281 2021-08-13  14822.900391\n",
              "\n",
              "[65 rows x 2 columns]"
            ]
          },
          "metadata": {
            "tags": []
          },
          "execution_count": 167
        }
      ]
    },
    {
      "cell_type": "code",
      "metadata": {
        "colab": {
          "base_uri": "https://localhost:8080/",
          "height": 979
        },
        "id": "N-Dkg1hYTeHN",
        "outputId": "175293cf-12f3-4ca1-8bd7-0fa6e034e6f2"
      },
      "source": [
        "df_forecast"
      ],
      "execution_count": 168,
      "outputs": [
        {
          "output_type": "execute_result",
          "data": {
            "text/html": [
              "<div>\n",
              "<style scoped>\n",
              "    .dataframe tbody tr th:only-of-type {\n",
              "        vertical-align: middle;\n",
              "    }\n",
              "\n",
              "    .dataframe tbody tr th {\n",
              "        vertical-align: top;\n",
              "    }\n",
              "\n",
              "    .dataframe thead th {\n",
              "        text-align: right;\n",
              "    }\n",
              "</style>\n",
              "<table border=\"1\" class=\"dataframe\">\n",
              "  <thead>\n",
              "    <tr style=\"text-align: right;\">\n",
              "      <th></th>\n",
              "      <th>Date</th>\n",
              "      <th>Close</th>\n",
              "    </tr>\n",
              "  </thead>\n",
              "  <tbody>\n",
              "    <tr>\n",
              "      <th>0</th>\n",
              "      <td>2021-08-02</td>\n",
              "      <td>11033.022461</td>\n",
              "    </tr>\n",
              "    <tr>\n",
              "      <th>1</th>\n",
              "      <td>2021-08-03</td>\n",
              "      <td>11044.124023</td>\n",
              "    </tr>\n",
              "    <tr>\n",
              "      <th>2</th>\n",
              "      <td>2021-08-04</td>\n",
              "      <td>11054.997070</td>\n",
              "    </tr>\n",
              "    <tr>\n",
              "      <th>3</th>\n",
              "      <td>2021-08-05</td>\n",
              "      <td>11067.173828</td>\n",
              "    </tr>\n",
              "    <tr>\n",
              "      <th>4</th>\n",
              "      <td>2021-08-06</td>\n",
              "      <td>11057.377930</td>\n",
              "    </tr>\n",
              "    <tr>\n",
              "      <th>5</th>\n",
              "      <td>2021-08-09</td>\n",
              "      <td>11058.800781</td>\n",
              "    </tr>\n",
              "    <tr>\n",
              "      <th>6</th>\n",
              "      <td>2021-08-10</td>\n",
              "      <td>11074.895508</td>\n",
              "    </tr>\n",
              "    <tr>\n",
              "      <th>7</th>\n",
              "      <td>2021-08-11</td>\n",
              "      <td>11082.909180</td>\n",
              "    </tr>\n",
              "    <tr>\n",
              "      <th>8</th>\n",
              "      <td>2021-08-12</td>\n",
              "      <td>11087.193359</td>\n",
              "    </tr>\n",
              "    <tr>\n",
              "      <th>9</th>\n",
              "      <td>2021-08-13</td>\n",
              "      <td>11077.110352</td>\n",
              "    </tr>\n",
              "    <tr>\n",
              "      <th>10</th>\n",
              "      <td>2021-08-16</td>\n",
              "      <td>11065.363281</td>\n",
              "    </tr>\n",
              "    <tr>\n",
              "      <th>11</th>\n",
              "      <td>2021-08-17</td>\n",
              "      <td>11038.765625</td>\n",
              "    </tr>\n",
              "    <tr>\n",
              "      <th>12</th>\n",
              "      <td>2021-08-18</td>\n",
              "      <td>11028.666016</td>\n",
              "    </tr>\n",
              "    <tr>\n",
              "      <th>13</th>\n",
              "      <td>2021-08-19</td>\n",
              "      <td>11044.370117</td>\n",
              "    </tr>\n",
              "    <tr>\n",
              "      <th>14</th>\n",
              "      <td>2021-08-20</td>\n",
              "      <td>11059.538086</td>\n",
              "    </tr>\n",
              "    <tr>\n",
              "      <th>15</th>\n",
              "      <td>2021-08-23</td>\n",
              "      <td>11075.669922</td>\n",
              "    </tr>\n",
              "    <tr>\n",
              "      <th>16</th>\n",
              "      <td>2021-08-24</td>\n",
              "      <td>11090.806641</td>\n",
              "    </tr>\n",
              "    <tr>\n",
              "      <th>17</th>\n",
              "      <td>2021-08-25</td>\n",
              "      <td>11086.664062</td>\n",
              "    </tr>\n",
              "    <tr>\n",
              "      <th>18</th>\n",
              "      <td>2021-08-26</td>\n",
              "      <td>11089.501953</td>\n",
              "    </tr>\n",
              "    <tr>\n",
              "      <th>19</th>\n",
              "      <td>2021-08-27</td>\n",
              "      <td>11098.008789</td>\n",
              "    </tr>\n",
              "    <tr>\n",
              "      <th>20</th>\n",
              "      <td>2021-08-30</td>\n",
              "      <td>11090.770508</td>\n",
              "    </tr>\n",
              "    <tr>\n",
              "      <th>21</th>\n",
              "      <td>2021-08-31</td>\n",
              "      <td>11089.480469</td>\n",
              "    </tr>\n",
              "    <tr>\n",
              "      <th>22</th>\n",
              "      <td>2021-09-01</td>\n",
              "      <td>11089.454102</td>\n",
              "    </tr>\n",
              "    <tr>\n",
              "      <th>23</th>\n",
              "      <td>2021-09-02</td>\n",
              "      <td>11094.613281</td>\n",
              "    </tr>\n",
              "    <tr>\n",
              "      <th>24</th>\n",
              "      <td>2021-09-03</td>\n",
              "      <td>11099.680664</td>\n",
              "    </tr>\n",
              "    <tr>\n",
              "      <th>25</th>\n",
              "      <td>2021-09-07</td>\n",
              "      <td>11106.930664</td>\n",
              "    </tr>\n",
              "    <tr>\n",
              "      <th>26</th>\n",
              "      <td>2021-09-08</td>\n",
              "      <td>11110.827148</td>\n",
              "    </tr>\n",
              "    <tr>\n",
              "      <th>27</th>\n",
              "      <td>2021-09-09</td>\n",
              "      <td>11112.592773</td>\n",
              "    </tr>\n",
              "    <tr>\n",
              "      <th>28</th>\n",
              "      <td>2021-09-10</td>\n",
              "      <td>11108.922852</td>\n",
              "    </tr>\n",
              "    <tr>\n",
              "      <th>29</th>\n",
              "      <td>2021-09-13</td>\n",
              "      <td>11104.801758</td>\n",
              "    </tr>\n",
              "  </tbody>\n",
              "</table>\n",
              "</div>"
            ],
            "text/plain": [
              "         Date         Close\n",
              "0  2021-08-02  11033.022461\n",
              "1  2021-08-03  11044.124023\n",
              "2  2021-08-04  11054.997070\n",
              "3  2021-08-05  11067.173828\n",
              "4  2021-08-06  11057.377930\n",
              "5  2021-08-09  11058.800781\n",
              "6  2021-08-10  11074.895508\n",
              "7  2021-08-11  11082.909180\n",
              "8  2021-08-12  11087.193359\n",
              "9  2021-08-13  11077.110352\n",
              "10 2021-08-16  11065.363281\n",
              "11 2021-08-17  11038.765625\n",
              "12 2021-08-18  11028.666016\n",
              "13 2021-08-19  11044.370117\n",
              "14 2021-08-20  11059.538086\n",
              "15 2021-08-23  11075.669922\n",
              "16 2021-08-24  11090.806641\n",
              "17 2021-08-25  11086.664062\n",
              "18 2021-08-26  11089.501953\n",
              "19 2021-08-27  11098.008789\n",
              "20 2021-08-30  11090.770508\n",
              "21 2021-08-31  11089.480469\n",
              "22 2021-09-01  11089.454102\n",
              "23 2021-09-02  11094.613281\n",
              "24 2021-09-03  11099.680664\n",
              "25 2021-09-07  11106.930664\n",
              "26 2021-09-08  11110.827148\n",
              "27 2021-09-09  11112.592773\n",
              "28 2021-09-10  11108.922852\n",
              "29 2021-09-13  11104.801758"
            ]
          },
          "metadata": {
            "tags": []
          },
          "execution_count": 168
        }
      ]
    },
    {
      "cell_type": "code",
      "metadata": {
        "colab": {
          "base_uri": "https://localhost:8080/"
        },
        "id": "aGjTiO-OHlmD",
        "outputId": "3b80ec25-8125-4e9c-c34e-15acf568a564"
      },
      "source": [
        "original_open = original['Close'].loc[original['Date'] >= '2021-08-02']\n",
        "riginal_open = original['Close'].loc[original['Date'] <= '2021-09-13']\n",
        "original_open = original_open.to_numpy()\n",
        "original_open"
      ],
      "execution_count": 169,
      "outputs": [
        {
          "output_type": "execute_result",
          "data": {
            "text/plain": [
              "array([14681.070313, 14761.290039, 14780.530273, 14895.120117,\n",
              "       14835.759766, 14860.179688, 14788.089844, 14765.139648,\n",
              "       14816.259766, 14822.900391])"
            ]
          },
          "metadata": {
            "tags": []
          },
          "execution_count": 169
        }
      ]
    },
    {
      "cell_type": "code",
      "metadata": {
        "id": "3hCTff-Db55r"
      },
      "source": [
        "#df_forecast_all = df_forecast\n",
        "#df_forecast = df_forecast.loc[df_forecast['Date'] >='2021-08-02']\n",
        "#df_forecast"
      ],
      "execution_count": 158,
      "outputs": []
    },
    {
      "cell_type": "code",
      "metadata": {
        "colab": {
          "base_uri": "https://localhost:8080/",
          "height": 359
        },
        "id": "eGeNzLLqMrHk",
        "outputId": "fafeddc2-aff5-46d7-f259-fbfa406b1742"
      },
      "source": [
        "\n",
        "df_forecast = df_forecast.loc[df_forecast['Date'] <='2021-08-13']\n",
        "df_forecast"
      ],
      "execution_count": 170,
      "outputs": [
        {
          "output_type": "execute_result",
          "data": {
            "text/html": [
              "<div>\n",
              "<style scoped>\n",
              "    .dataframe tbody tr th:only-of-type {\n",
              "        vertical-align: middle;\n",
              "    }\n",
              "\n",
              "    .dataframe tbody tr th {\n",
              "        vertical-align: top;\n",
              "    }\n",
              "\n",
              "    .dataframe thead th {\n",
              "        text-align: right;\n",
              "    }\n",
              "</style>\n",
              "<table border=\"1\" class=\"dataframe\">\n",
              "  <thead>\n",
              "    <tr style=\"text-align: right;\">\n",
              "      <th></th>\n",
              "      <th>Date</th>\n",
              "      <th>Close</th>\n",
              "    </tr>\n",
              "  </thead>\n",
              "  <tbody>\n",
              "    <tr>\n",
              "      <th>0</th>\n",
              "      <td>2021-08-02</td>\n",
              "      <td>11033.022461</td>\n",
              "    </tr>\n",
              "    <tr>\n",
              "      <th>1</th>\n",
              "      <td>2021-08-03</td>\n",
              "      <td>11044.124023</td>\n",
              "    </tr>\n",
              "    <tr>\n",
              "      <th>2</th>\n",
              "      <td>2021-08-04</td>\n",
              "      <td>11054.997070</td>\n",
              "    </tr>\n",
              "    <tr>\n",
              "      <th>3</th>\n",
              "      <td>2021-08-05</td>\n",
              "      <td>11067.173828</td>\n",
              "    </tr>\n",
              "    <tr>\n",
              "      <th>4</th>\n",
              "      <td>2021-08-06</td>\n",
              "      <td>11057.377930</td>\n",
              "    </tr>\n",
              "    <tr>\n",
              "      <th>5</th>\n",
              "      <td>2021-08-09</td>\n",
              "      <td>11058.800781</td>\n",
              "    </tr>\n",
              "    <tr>\n",
              "      <th>6</th>\n",
              "      <td>2021-08-10</td>\n",
              "      <td>11074.895508</td>\n",
              "    </tr>\n",
              "    <tr>\n",
              "      <th>7</th>\n",
              "      <td>2021-08-11</td>\n",
              "      <td>11082.909180</td>\n",
              "    </tr>\n",
              "    <tr>\n",
              "      <th>8</th>\n",
              "      <td>2021-08-12</td>\n",
              "      <td>11087.193359</td>\n",
              "    </tr>\n",
              "    <tr>\n",
              "      <th>9</th>\n",
              "      <td>2021-08-13</td>\n",
              "      <td>11077.110352</td>\n",
              "    </tr>\n",
              "  </tbody>\n",
              "</table>\n",
              "</div>"
            ],
            "text/plain": [
              "        Date         Close\n",
              "0 2021-08-02  11033.022461\n",
              "1 2021-08-03  11044.124023\n",
              "2 2021-08-04  11054.997070\n",
              "3 2021-08-05  11067.173828\n",
              "4 2021-08-06  11057.377930\n",
              "5 2021-08-09  11058.800781\n",
              "6 2021-08-10  11074.895508\n",
              "7 2021-08-11  11082.909180\n",
              "8 2021-08-12  11087.193359\n",
              "9 2021-08-13  11077.110352"
            ]
          },
          "metadata": {
            "tags": []
          },
          "execution_count": 170
        }
      ]
    },
    {
      "cell_type": "code",
      "metadata": {
        "colab": {
          "base_uri": "https://localhost:8080/"
        },
        "id": "cfc8Uw5IGIZ3",
        "outputId": "98e982f4-4389-4329-e89a-17f3864604cf"
      },
      "source": [
        "13618.640625/14771.50"
      ],
      "execution_count": 160,
      "outputs": [
        {
          "output_type": "execute_result",
          "data": {
            "text/plain": [
              "0.9219538046237687"
            ]
          },
          "metadata": {
            "tags": []
          },
          "execution_count": 160
        }
      ]
    },
    {
      "cell_type": "code",
      "metadata": {
        "colab": {
          "base_uri": "https://localhost:8080/"
        },
        "id": "x5mjPCdpGIlA",
        "outputId": "de99ba12-c328-4e51-c798-179d34f90b3e"
      },
      "source": [
        "13574.999023/14715.129883"
      ],
      "execution_count": 161,
      "outputs": [
        {
          "output_type": "execute_result",
          "data": {
            "text/plain": [
              "0.9225198235377343"
            ]
          },
          "metadata": {
            "tags": []
          },
          "execution_count": 161
        }
      ]
    },
    {
      "cell_type": "code",
      "metadata": {
        "colab": {
          "base_uri": "https://localhost:8080/"
        },
        "id": "C56uwu4WAcxs",
        "outputId": "7bb8ba71-d76e-4d5f-aa13-e07b12402378"
      },
      "source": [
        "direction = []\n",
        "a = 14821.030273\n",
        "for i in df_forecast['Close']:\n",
        "  if (i==a):\n",
        "    dir = 'Neutral'\n",
        "    #print(dir)\n",
        "  if (i< a):\n",
        "    dir = 'Down'\n",
        "    #print(dir)\n",
        "  else:\n",
        "    dir = 'Up'\n",
        "    #print(dir)\n",
        "  a = i\n",
        "  direction.append(dir)\n",
        "direction\n",
        "  "
      ],
      "execution_count": 171,
      "outputs": [
        {
          "output_type": "execute_result",
          "data": {
            "text/plain": [
              "['Down', 'Up', 'Up', 'Up', 'Down', 'Up', 'Up', 'Up', 'Up', 'Down']"
            ]
          },
          "metadata": {
            "tags": []
          },
          "execution_count": 171
        }
      ]
    },
    {
      "cell_type": "code",
      "metadata": {
        "colab": {
          "base_uri": "https://localhost:8080/",
          "height": 486
        },
        "id": "z6QOHTpjUEmQ",
        "outputId": "9e8bb417-1cc0-4481-c5f3-3ec632627919"
      },
      "source": [
        "df_forecast['Actual Price'] = original_open\n",
        "df_forecast"
      ],
      "execution_count": 172,
      "outputs": [
        {
          "output_type": "stream",
          "text": [
            "/usr/local/lib/python3.7/dist-packages/ipykernel_launcher.py:1: SettingWithCopyWarning: \n",
            "A value is trying to be set on a copy of a slice from a DataFrame.\n",
            "Try using .loc[row_indexer,col_indexer] = value instead\n",
            "\n",
            "See the caveats in the documentation: https://pandas.pydata.org/pandas-docs/stable/user_guide/indexing.html#returning-a-view-versus-a-copy\n",
            "  \"\"\"Entry point for launching an IPython kernel.\n"
          ],
          "name": "stderr"
        },
        {
          "output_type": "execute_result",
          "data": {
            "text/html": [
              "<div>\n",
              "<style scoped>\n",
              "    .dataframe tbody tr th:only-of-type {\n",
              "        vertical-align: middle;\n",
              "    }\n",
              "\n",
              "    .dataframe tbody tr th {\n",
              "        vertical-align: top;\n",
              "    }\n",
              "\n",
              "    .dataframe thead th {\n",
              "        text-align: right;\n",
              "    }\n",
              "</style>\n",
              "<table border=\"1\" class=\"dataframe\">\n",
              "  <thead>\n",
              "    <tr style=\"text-align: right;\">\n",
              "      <th></th>\n",
              "      <th>Date</th>\n",
              "      <th>Close</th>\n",
              "      <th>Actual Price</th>\n",
              "    </tr>\n",
              "  </thead>\n",
              "  <tbody>\n",
              "    <tr>\n",
              "      <th>0</th>\n",
              "      <td>2021-08-02</td>\n",
              "      <td>11033.022461</td>\n",
              "      <td>14681.070313</td>\n",
              "    </tr>\n",
              "    <tr>\n",
              "      <th>1</th>\n",
              "      <td>2021-08-03</td>\n",
              "      <td>11044.124023</td>\n",
              "      <td>14761.290039</td>\n",
              "    </tr>\n",
              "    <tr>\n",
              "      <th>2</th>\n",
              "      <td>2021-08-04</td>\n",
              "      <td>11054.997070</td>\n",
              "      <td>14780.530273</td>\n",
              "    </tr>\n",
              "    <tr>\n",
              "      <th>3</th>\n",
              "      <td>2021-08-05</td>\n",
              "      <td>11067.173828</td>\n",
              "      <td>14895.120117</td>\n",
              "    </tr>\n",
              "    <tr>\n",
              "      <th>4</th>\n",
              "      <td>2021-08-06</td>\n",
              "      <td>11057.377930</td>\n",
              "      <td>14835.759766</td>\n",
              "    </tr>\n",
              "    <tr>\n",
              "      <th>5</th>\n",
              "      <td>2021-08-09</td>\n",
              "      <td>11058.800781</td>\n",
              "      <td>14860.179688</td>\n",
              "    </tr>\n",
              "    <tr>\n",
              "      <th>6</th>\n",
              "      <td>2021-08-10</td>\n",
              "      <td>11074.895508</td>\n",
              "      <td>14788.089844</td>\n",
              "    </tr>\n",
              "    <tr>\n",
              "      <th>7</th>\n",
              "      <td>2021-08-11</td>\n",
              "      <td>11082.909180</td>\n",
              "      <td>14765.139648</td>\n",
              "    </tr>\n",
              "    <tr>\n",
              "      <th>8</th>\n",
              "      <td>2021-08-12</td>\n",
              "      <td>11087.193359</td>\n",
              "      <td>14816.259766</td>\n",
              "    </tr>\n",
              "    <tr>\n",
              "      <th>9</th>\n",
              "      <td>2021-08-13</td>\n",
              "      <td>11077.110352</td>\n",
              "      <td>14822.900391</td>\n",
              "    </tr>\n",
              "  </tbody>\n",
              "</table>\n",
              "</div>"
            ],
            "text/plain": [
              "        Date         Close  Actual Price\n",
              "0 2021-08-02  11033.022461  14681.070313\n",
              "1 2021-08-03  11044.124023  14761.290039\n",
              "2 2021-08-04  11054.997070  14780.530273\n",
              "3 2021-08-05  11067.173828  14895.120117\n",
              "4 2021-08-06  11057.377930  14835.759766\n",
              "5 2021-08-09  11058.800781  14860.179688\n",
              "6 2021-08-10  11074.895508  14788.089844\n",
              "7 2021-08-11  11082.909180  14765.139648\n",
              "8 2021-08-12  11087.193359  14816.259766\n",
              "9 2021-08-13  11077.110352  14822.900391"
            ]
          },
          "metadata": {
            "tags": []
          },
          "execution_count": 172
        }
      ]
    },
    {
      "cell_type": "code",
      "metadata": {
        "colab": {
          "base_uri": "https://localhost:8080/",
          "height": 486
        },
        "id": "Ivfq003rG3jI",
        "outputId": "9a053a19-4b91-4bbc-9ade-e102a6d4ec1a"
      },
      "source": [
        "df_forecast['Direction']= direction\n",
        "df_forecast"
      ],
      "execution_count": 173,
      "outputs": [
        {
          "output_type": "stream",
          "text": [
            "/usr/local/lib/python3.7/dist-packages/ipykernel_launcher.py:1: SettingWithCopyWarning: \n",
            "A value is trying to be set on a copy of a slice from a DataFrame.\n",
            "Try using .loc[row_indexer,col_indexer] = value instead\n",
            "\n",
            "See the caveats in the documentation: https://pandas.pydata.org/pandas-docs/stable/user_guide/indexing.html#returning-a-view-versus-a-copy\n",
            "  \"\"\"Entry point for launching an IPython kernel.\n"
          ],
          "name": "stderr"
        },
        {
          "output_type": "execute_result",
          "data": {
            "text/html": [
              "<div>\n",
              "<style scoped>\n",
              "    .dataframe tbody tr th:only-of-type {\n",
              "        vertical-align: middle;\n",
              "    }\n",
              "\n",
              "    .dataframe tbody tr th {\n",
              "        vertical-align: top;\n",
              "    }\n",
              "\n",
              "    .dataframe thead th {\n",
              "        text-align: right;\n",
              "    }\n",
              "</style>\n",
              "<table border=\"1\" class=\"dataframe\">\n",
              "  <thead>\n",
              "    <tr style=\"text-align: right;\">\n",
              "      <th></th>\n",
              "      <th>Date</th>\n",
              "      <th>Close</th>\n",
              "      <th>Actual Price</th>\n",
              "      <th>Direction</th>\n",
              "    </tr>\n",
              "  </thead>\n",
              "  <tbody>\n",
              "    <tr>\n",
              "      <th>0</th>\n",
              "      <td>2021-08-02</td>\n",
              "      <td>11033.022461</td>\n",
              "      <td>14681.070313</td>\n",
              "      <td>Down</td>\n",
              "    </tr>\n",
              "    <tr>\n",
              "      <th>1</th>\n",
              "      <td>2021-08-03</td>\n",
              "      <td>11044.124023</td>\n",
              "      <td>14761.290039</td>\n",
              "      <td>Up</td>\n",
              "    </tr>\n",
              "    <tr>\n",
              "      <th>2</th>\n",
              "      <td>2021-08-04</td>\n",
              "      <td>11054.997070</td>\n",
              "      <td>14780.530273</td>\n",
              "      <td>Up</td>\n",
              "    </tr>\n",
              "    <tr>\n",
              "      <th>3</th>\n",
              "      <td>2021-08-05</td>\n",
              "      <td>11067.173828</td>\n",
              "      <td>14895.120117</td>\n",
              "      <td>Up</td>\n",
              "    </tr>\n",
              "    <tr>\n",
              "      <th>4</th>\n",
              "      <td>2021-08-06</td>\n",
              "      <td>11057.377930</td>\n",
              "      <td>14835.759766</td>\n",
              "      <td>Down</td>\n",
              "    </tr>\n",
              "    <tr>\n",
              "      <th>5</th>\n",
              "      <td>2021-08-09</td>\n",
              "      <td>11058.800781</td>\n",
              "      <td>14860.179688</td>\n",
              "      <td>Up</td>\n",
              "    </tr>\n",
              "    <tr>\n",
              "      <th>6</th>\n",
              "      <td>2021-08-10</td>\n",
              "      <td>11074.895508</td>\n",
              "      <td>14788.089844</td>\n",
              "      <td>Up</td>\n",
              "    </tr>\n",
              "    <tr>\n",
              "      <th>7</th>\n",
              "      <td>2021-08-11</td>\n",
              "      <td>11082.909180</td>\n",
              "      <td>14765.139648</td>\n",
              "      <td>Up</td>\n",
              "    </tr>\n",
              "    <tr>\n",
              "      <th>8</th>\n",
              "      <td>2021-08-12</td>\n",
              "      <td>11087.193359</td>\n",
              "      <td>14816.259766</td>\n",
              "      <td>Up</td>\n",
              "    </tr>\n",
              "    <tr>\n",
              "      <th>9</th>\n",
              "      <td>2021-08-13</td>\n",
              "      <td>11077.110352</td>\n",
              "      <td>14822.900391</td>\n",
              "      <td>Down</td>\n",
              "    </tr>\n",
              "  </tbody>\n",
              "</table>\n",
              "</div>"
            ],
            "text/plain": [
              "        Date         Close  Actual Price Direction\n",
              "0 2021-08-02  11033.022461  14681.070313      Down\n",
              "1 2021-08-03  11044.124023  14761.290039        Up\n",
              "2 2021-08-04  11054.997070  14780.530273        Up\n",
              "3 2021-08-05  11067.173828  14895.120117        Up\n",
              "4 2021-08-06  11057.377930  14835.759766      Down\n",
              "5 2021-08-09  11058.800781  14860.179688        Up\n",
              "6 2021-08-10  11074.895508  14788.089844        Up\n",
              "7 2021-08-11  11082.909180  14765.139648        Up\n",
              "8 2021-08-12  11087.193359  14816.259766        Up\n",
              "9 2021-08-13  11077.110352  14822.900391      Down"
            ]
          },
          "metadata": {
            "tags": []
          },
          "execution_count": 173
        }
      ]
    },
    {
      "cell_type": "code",
      "metadata": {
        "colab": {
          "base_uri": "https://localhost:8080/"
        },
        "id": "V-OsgMO9HzHw",
        "outputId": "c3443850-b1f3-43bc-854e-d3a5f5d2387e"
      },
      "source": [
        "Accuracy = df_forecast['Close']/df_forecast['Actual Price']\n",
        "Accuracy=np.array(Accuracy)\n",
        "Accuracy"
      ],
      "execution_count": 174,
      "outputs": [
        {
          "output_type": "execute_result",
          "data": {
            "text/plain": [
              "array([0.75151349, 0.74818149, 0.7479432 , 0.74300669, 0.74531929,\n",
              "       0.74419025, 0.74890643, 0.75061323, 0.74831257, 0.74729709])"
            ]
          },
          "metadata": {
            "tags": []
          },
          "execution_count": 174
        }
      ]
    },
    {
      "cell_type": "code",
      "metadata": {
        "colab": {
          "base_uri": "https://localhost:8080/"
        },
        "id": "dITLCt6KPGDJ",
        "outputId": "8544d135-c951-48ea-ba25-59fb2d7fbd9d"
      },
      "source": [
        "df_forecast['Accuracy'] = Accuracy\n",
        "for i in Accuracy:\n",
        "        if i > 1:\n",
        "          z = 1/Accuracy\n",
        "          df_forecast['Accuracy Inverse'] = (z)\n",
        "          df_forecast"
      ],
      "execution_count": 175,
      "outputs": [
        {
          "output_type": "stream",
          "text": [
            "/usr/local/lib/python3.7/dist-packages/ipykernel_launcher.py:1: SettingWithCopyWarning: \n",
            "A value is trying to be set on a copy of a slice from a DataFrame.\n",
            "Try using .loc[row_indexer,col_indexer] = value instead\n",
            "\n",
            "See the caveats in the documentation: https://pandas.pydata.org/pandas-docs/stable/user_guide/indexing.html#returning-a-view-versus-a-copy\n",
            "  \"\"\"Entry point for launching an IPython kernel.\n"
          ],
          "name": "stderr"
        }
      ]
    },
    {
      "cell_type": "code",
      "metadata": {
        "colab": {
          "base_uri": "https://localhost:8080/"
        },
        "id": "aO4y0wRHVar9",
        "outputId": "5ff6a1f4-dc2a-4f84-89d9-e6ca0a97d9d1"
      },
      "source": [
        "pred_first_dates = pd.to_datetime(predict_period_dates)\n",
        "pred_first_dates"
      ],
      "execution_count": 176,
      "outputs": [
        {
          "output_type": "execute_result",
          "data": {
            "text/plain": [
              "DatetimeIndex(['2021-08-02', '2021-08-03', '2021-08-04', '2021-08-05',\n",
              "               '2021-08-06', '2021-08-09', '2021-08-10', '2021-08-11',\n",
              "               '2021-08-12', '2021-08-13', '2021-08-16', '2021-08-17',\n",
              "               '2021-08-18', '2021-08-19', '2021-08-20', '2021-08-23',\n",
              "               '2021-08-24', '2021-08-25', '2021-08-26', '2021-08-27',\n",
              "               '2021-08-30', '2021-08-31', '2021-09-01', '2021-09-02',\n",
              "               '2021-09-03', '2021-09-07', '2021-09-08', '2021-09-09',\n",
              "               '2021-09-10', '2021-09-13'],\n",
              "              dtype='datetime64[ns]', freq=None)"
            ]
          },
          "metadata": {
            "tags": []
          },
          "execution_count": 176
        }
      ]
    },
    {
      "cell_type": "code",
      "metadata": {
        "colab": {
          "base_uri": "https://localhost:8080/"
        },
        "id": "JS_YpExMXfyN",
        "outputId": "56f77030-c26b-4c90-b377-0587853a7ba1"
      },
      "source": [
        "original_open"
      ],
      "execution_count": 177,
      "outputs": [
        {
          "output_type": "execute_result",
          "data": {
            "text/plain": [
              "array([14681.070313, 14761.290039, 14780.530273, 14895.120117,\n",
              "       14835.759766, 14860.179688, 14788.089844, 14765.139648,\n",
              "       14816.259766, 14822.900391])"
            ]
          },
          "metadata": {
            "tags": []
          },
          "execution_count": 177
        }
      ]
    },
    {
      "cell_type": "code",
      "metadata": {
        "colab": {
          "base_uri": "https://localhost:8080/"
        },
        "id": "QEhS1DMSQTuT",
        "outputId": "9ab0c2cb-d48b-43e6-935d-9c33b4fa7100"
      },
      "source": [
        "df_forecast['Close'][0]"
      ],
      "execution_count": 181,
      "outputs": [
        {
          "output_type": "execute_result",
          "data": {
            "text/plain": [
              "11033.022"
            ]
          },
          "metadata": {
            "tags": []
          },
          "execution_count": 181
        }
      ]
    },
    {
      "cell_type": "code",
      "metadata": {
        "colab": {
          "base_uri": "https://localhost:8080/"
        },
        "id": "mo92r6OJJfWa",
        "outputId": "211e5337-0341-49cf-a1df-8904f6d55ece"
      },
      "source": [
        "actual_direction = []\n",
        "#a = predict_period_dates[0]#14821.030273\n",
        "a = df_forecast['Close'][0]\n",
        "b = original_open[0]\n",
        "for i in original_open:\n",
        "  #print(i,a)\n",
        "  if (i==bin):\n",
        "    dir = 'Neutral'\n",
        "    #print(dir)\n",
        "  if (i< b):\n",
        "    dir = 'Down'\n",
        "    #print(dir)\n",
        "  else:\n",
        "    dir = 'Up'\n",
        "    #print(dir)\n",
        "  b = i\n",
        "  actual_direction.append(dir)\n",
        "actual_direction"
      ],
      "execution_count": 183,
      "outputs": [
        {
          "output_type": "execute_result",
          "data": {
            "text/plain": [
              "['Up', 'Up', 'Up', 'Up', 'Down', 'Up', 'Down', 'Down', 'Up', 'Up']"
            ]
          },
          "metadata": {
            "tags": []
          },
          "execution_count": 183
        }
      ]
    },
    {
      "cell_type": "code",
      "metadata": {
        "colab": {
          "base_uri": "https://localhost:8080/",
          "height": 486
        },
        "id": "8RuYEGxrLG2i",
        "outputId": "d2d54e0c-40ea-4738-f91c-38886bcbcb74"
      },
      "source": [
        "df_forecast['Actual Direction'] = actual_direction\n",
        "df_forecast"
      ],
      "execution_count": 184,
      "outputs": [
        {
          "output_type": "stream",
          "text": [
            "/usr/local/lib/python3.7/dist-packages/ipykernel_launcher.py:1: SettingWithCopyWarning: \n",
            "A value is trying to be set on a copy of a slice from a DataFrame.\n",
            "Try using .loc[row_indexer,col_indexer] = value instead\n",
            "\n",
            "See the caveats in the documentation: https://pandas.pydata.org/pandas-docs/stable/user_guide/indexing.html#returning-a-view-versus-a-copy\n",
            "  \"\"\"Entry point for launching an IPython kernel.\n"
          ],
          "name": "stderr"
        },
        {
          "output_type": "execute_result",
          "data": {
            "text/html": [
              "<div>\n",
              "<style scoped>\n",
              "    .dataframe tbody tr th:only-of-type {\n",
              "        vertical-align: middle;\n",
              "    }\n",
              "\n",
              "    .dataframe tbody tr th {\n",
              "        vertical-align: top;\n",
              "    }\n",
              "\n",
              "    .dataframe thead th {\n",
              "        text-align: right;\n",
              "    }\n",
              "</style>\n",
              "<table border=\"1\" class=\"dataframe\">\n",
              "  <thead>\n",
              "    <tr style=\"text-align: right;\">\n",
              "      <th></th>\n",
              "      <th>Date</th>\n",
              "      <th>Close</th>\n",
              "      <th>Actual Price</th>\n",
              "      <th>Direction</th>\n",
              "      <th>Accuracy</th>\n",
              "      <th>Actual Direction</th>\n",
              "    </tr>\n",
              "  </thead>\n",
              "  <tbody>\n",
              "    <tr>\n",
              "      <th>0</th>\n",
              "      <td>2021-08-02</td>\n",
              "      <td>11033.022461</td>\n",
              "      <td>14681.070313</td>\n",
              "      <td>Down</td>\n",
              "      <td>0.751513</td>\n",
              "      <td>Up</td>\n",
              "    </tr>\n",
              "    <tr>\n",
              "      <th>1</th>\n",
              "      <td>2021-08-03</td>\n",
              "      <td>11044.124023</td>\n",
              "      <td>14761.290039</td>\n",
              "      <td>Up</td>\n",
              "      <td>0.748181</td>\n",
              "      <td>Up</td>\n",
              "    </tr>\n",
              "    <tr>\n",
              "      <th>2</th>\n",
              "      <td>2021-08-04</td>\n",
              "      <td>11054.997070</td>\n",
              "      <td>14780.530273</td>\n",
              "      <td>Up</td>\n",
              "      <td>0.747943</td>\n",
              "      <td>Up</td>\n",
              "    </tr>\n",
              "    <tr>\n",
              "      <th>3</th>\n",
              "      <td>2021-08-05</td>\n",
              "      <td>11067.173828</td>\n",
              "      <td>14895.120117</td>\n",
              "      <td>Up</td>\n",
              "      <td>0.743007</td>\n",
              "      <td>Up</td>\n",
              "    </tr>\n",
              "    <tr>\n",
              "      <th>4</th>\n",
              "      <td>2021-08-06</td>\n",
              "      <td>11057.377930</td>\n",
              "      <td>14835.759766</td>\n",
              "      <td>Down</td>\n",
              "      <td>0.745319</td>\n",
              "      <td>Down</td>\n",
              "    </tr>\n",
              "    <tr>\n",
              "      <th>5</th>\n",
              "      <td>2021-08-09</td>\n",
              "      <td>11058.800781</td>\n",
              "      <td>14860.179688</td>\n",
              "      <td>Up</td>\n",
              "      <td>0.744190</td>\n",
              "      <td>Up</td>\n",
              "    </tr>\n",
              "    <tr>\n",
              "      <th>6</th>\n",
              "      <td>2021-08-10</td>\n",
              "      <td>11074.895508</td>\n",
              "      <td>14788.089844</td>\n",
              "      <td>Up</td>\n",
              "      <td>0.748906</td>\n",
              "      <td>Down</td>\n",
              "    </tr>\n",
              "    <tr>\n",
              "      <th>7</th>\n",
              "      <td>2021-08-11</td>\n",
              "      <td>11082.909180</td>\n",
              "      <td>14765.139648</td>\n",
              "      <td>Up</td>\n",
              "      <td>0.750613</td>\n",
              "      <td>Down</td>\n",
              "    </tr>\n",
              "    <tr>\n",
              "      <th>8</th>\n",
              "      <td>2021-08-12</td>\n",
              "      <td>11087.193359</td>\n",
              "      <td>14816.259766</td>\n",
              "      <td>Up</td>\n",
              "      <td>0.748313</td>\n",
              "      <td>Up</td>\n",
              "    </tr>\n",
              "    <tr>\n",
              "      <th>9</th>\n",
              "      <td>2021-08-13</td>\n",
              "      <td>11077.110352</td>\n",
              "      <td>14822.900391</td>\n",
              "      <td>Down</td>\n",
              "      <td>0.747297</td>\n",
              "      <td>Up</td>\n",
              "    </tr>\n",
              "  </tbody>\n",
              "</table>\n",
              "</div>"
            ],
            "text/plain": [
              "        Date         Close  Actual Price Direction  Accuracy Actual Direction\n",
              "0 2021-08-02  11033.022461  14681.070313      Down  0.751513               Up\n",
              "1 2021-08-03  11044.124023  14761.290039        Up  0.748181               Up\n",
              "2 2021-08-04  11054.997070  14780.530273        Up  0.747943               Up\n",
              "3 2021-08-05  11067.173828  14895.120117        Up  0.743007               Up\n",
              "4 2021-08-06  11057.377930  14835.759766      Down  0.745319             Down\n",
              "5 2021-08-09  11058.800781  14860.179688        Up  0.744190               Up\n",
              "6 2021-08-10  11074.895508  14788.089844        Up  0.748906             Down\n",
              "7 2021-08-11  11082.909180  14765.139648        Up  0.750613             Down\n",
              "8 2021-08-12  11087.193359  14816.259766        Up  0.748313               Up\n",
              "9 2021-08-13  11077.110352  14822.900391      Down  0.747297               Up"
            ]
          },
          "metadata": {
            "tags": []
          },
          "execution_count": 184
        }
      ]
    },
    {
      "cell_type": "code",
      "metadata": {
        "id": "C0joJX0eVpFb"
      },
      "source": [
        ""
      ],
      "execution_count": null,
      "outputs": []
    },
    {
      "cell_type": "code",
      "metadata": {
        "id": "EfIQTW6xVoFr"
      },
      "source": [
        "import math"
      ],
      "execution_count": null,
      "outputs": []
    },
    {
      "cell_type": "code",
      "metadata": {
        "colab": {
          "base_uri": "https://localhost:8080/",
          "height": 238
        },
        "id": "G1xrVzrCLvrW",
        "outputId": "1b2bb0c4-b226-4871-8924-25d91da5bc7e"
      },
      "source": [
        "up_counter = 0\n",
        "down_counter = 0\n",
        "direction_start_point = 0\n",
        "direction_window = 5\n",
        "length = math.floor(len(df_forecast)/direction_window)\n",
        "\n",
        "#for i in range(0, length):\n",
        "for i in range(direction_start_point,length ):\n",
        "  if (df_forecast['Direction'][i] == 'Up'):\n",
        "    up_counter = up_counter +1\n",
        "    print('Up counts : ', up_counter)\n",
        "  else:\n",
        "    down_counter = down_counter + 1\n",
        "    print('Down counts : ', down_counter)\n",
        "if (len(df_forecast) - direction_start_point < direction_window):\n",
        "  direction_window = len(df_forecast) - direction_start_point\n",
        "  print('_______------------________________' , direction_window)\n",
        "else:\n",
        "  direction_start_point = direction_start_point + direction_window\n",
        "  print('++++++++++++++++++++++++++++++++++++++' , direction_start_point)"
      ],
      "execution_count": 185,
      "outputs": [
        {
          "output_type": "error",
          "ename": "NameError",
          "evalue": "ignored",
          "traceback": [
            "\u001b[0;31m---------------------------------------------------------------------------\u001b[0m",
            "\u001b[0;31mNameError\u001b[0m                                 Traceback (most recent call last)",
            "\u001b[0;32m<ipython-input-185-871ba2551dfc>\u001b[0m in \u001b[0;36m<module>\u001b[0;34m()\u001b[0m\n\u001b[1;32m      3\u001b[0m \u001b[0mdirection_start_point\u001b[0m \u001b[0;34m=\u001b[0m \u001b[0;36m0\u001b[0m\u001b[0;34m\u001b[0m\u001b[0;34m\u001b[0m\u001b[0m\n\u001b[1;32m      4\u001b[0m \u001b[0mdirection_window\u001b[0m \u001b[0;34m=\u001b[0m \u001b[0;36m5\u001b[0m\u001b[0;34m\u001b[0m\u001b[0;34m\u001b[0m\u001b[0m\n\u001b[0;32m----> 5\u001b[0;31m \u001b[0mlength\u001b[0m \u001b[0;34m=\u001b[0m \u001b[0mmath\u001b[0m\u001b[0;34m.\u001b[0m\u001b[0mfloor\u001b[0m\u001b[0;34m(\u001b[0m\u001b[0mlen\u001b[0m\u001b[0;34m(\u001b[0m\u001b[0mdf_forecast\u001b[0m\u001b[0;34m)\u001b[0m\u001b[0;34m/\u001b[0m\u001b[0mdirection_window\u001b[0m\u001b[0;34m)\u001b[0m\u001b[0;34m\u001b[0m\u001b[0;34m\u001b[0m\u001b[0m\n\u001b[0m\u001b[1;32m      6\u001b[0m \u001b[0;34m\u001b[0m\u001b[0m\n\u001b[1;32m      7\u001b[0m \u001b[0;31m#for i in range(0, length):\u001b[0m\u001b[0;34m\u001b[0m\u001b[0;34m\u001b[0m\u001b[0;34m\u001b[0m\u001b[0m\n",
            "\u001b[0;31mNameError\u001b[0m: name 'math' is not defined"
          ]
        }
      ]
    },
    {
      "cell_type": "markdown",
      "metadata": {
        "id": "_L_NmUWzLnt7"
      },
      "source": [
        "# Direction Accuracy:\n",
        "\n"
      ]
    },
    {
      "cell_type": "code",
      "metadata": {
        "colab": {
          "base_uri": "https://localhost:8080/"
        },
        "id": "WEJ1kgVsQxUa",
        "outputId": "ff1714dd-08c4-4b51-8c83-2569c39b0745"
      },
      "source": [
        "hits =0\n",
        "misses=0\n",
        "for i in range(1, len(df_forecast)):\n",
        "  if (df_forecast['Direction'][i] == df_forecast['Actual Direction'][i]):\n",
        "    hits = hits +1\n",
        "    print('Hit', hits)\n",
        "  else:\n",
        "    misses = misses +1\n",
        "    print('Miss', misses)\n",
        "accuracy_overall = hits/(hits+misses)\n",
        "print('Overall Accuracy :' , accuracy_overall)"
      ],
      "execution_count": 186,
      "outputs": [
        {
          "output_type": "stream",
          "text": [
            "Hit 1\n",
            "Hit 2\n",
            "Hit 3\n",
            "Hit 4\n",
            "Hit 5\n",
            "Miss 1\n",
            "Miss 2\n",
            "Hit 6\n",
            "Miss 3\n",
            "Overall Accuracy : 0.6666666666666666\n"
          ],
          "name": "stdout"
        }
      ]
    },
    {
      "cell_type": "code",
      "metadata": {
        "id": "EMgxse7ujvSK"
      },
      "source": [
        "a = 13618.640625/14771.50\n",
        "b = 13666.833/ 14652.719727\n",
        "c = 13674.233398/14330.459961"
      ],
      "execution_count": null,
      "outputs": []
    },
    {
      "cell_type": "code",
      "metadata": {
        "id": "eMU_qQ4jkm8N"
      },
      "source": [
        "a"
      ],
      "execution_count": null,
      "outputs": []
    },
    {
      "cell_type": "code",
      "metadata": {
        "id": "UCkCUqd9kptN"
      },
      "source": [
        "b"
      ],
      "execution_count": null,
      "outputs": []
    },
    {
      "cell_type": "code",
      "metadata": {
        "id": "G9_vs-7Nkp3l"
      },
      "source": [
        "c"
      ],
      "execution_count": null,
      "outputs": []
    },
    {
      "cell_type": "code",
      "metadata": {
        "id": "kwHzI9V25Ubv"
      },
      "source": [
        "#samples_to_predict = ['2021-07-21']\n",
        "# Convert into Numpy array\n",
        "#samples_to_predict = np.array(samples_to_predict)\n",
        "\n",
        "# Generate predictions for samples\n",
        "#predictions = model.predict(trainX[samples_to_predict:])\n",
        "#print(predictions)"
      ],
      "execution_count": null,
      "outputs": []
    }
  ]
}