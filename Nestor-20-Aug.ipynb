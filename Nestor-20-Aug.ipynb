{
  "nbformat": 4,
  "nbformat_minor": 0,
  "metadata": {
    "colab": {
      "name": "Untitled3.ipynb",
      "provenance": [],
      "collapsed_sections": [],
      "authorship_tag": "ABX9TyMeVm8HGtG+ADlyQiRU/5+g",
      "include_colab_link": true
    },
    "kernelspec": {
      "display_name": "Python 3",
      "name": "python3"
    },
    "language_info": {
      "name": "python"
    }
  },
  "cells": [
    {
      "cell_type": "markdown",
      "metadata": {
        "id": "view-in-github",
        "colab_type": "text"
      },
      "source": [
        "<a href=\"https://colab.research.google.com/github/Ali-Saud/ML-in-PE/blob/master/Nestor-20-Aug.ipynb\" target=\"_parent\"><img src=\"https://colab.research.google.com/assets/colab-badge.svg\" alt=\"Open In Colab\"/></a>"
      ]
    },
    {
      "cell_type": "code",
      "metadata": {
        "id": "UQqpYPd3XSZI"
      },
      "source": [
        "import numpy as np\n",
        "from tensorflow.keras.models import Sequential\n",
        "from tensorflow.keras.layers import LSTM\n",
        "from tensorflow.keras.layers import Dense, Dropout\n",
        "import pandas as pd\n",
        "from matplotlib import pyplot as plt\n",
        "from sklearn.preprocessing import StandardScaler\n",
        "import seaborn as sns"
      ],
      "execution_count": 101,
      "outputs": []
    },
    {
      "cell_type": "code",
      "metadata": {
        "colab": {
          "base_uri": "https://localhost:8080/"
        },
        "id": "Pr694L2RXdce",
        "outputId": "76eabaf7-2130-436c-fe5c-392eb5fcf66d"
      },
      "source": [
        "df = pd.read_csv('nasdaq-21-y.csv')\n",
        "print(df.head())"
      ],
      "execution_count": 102,
      "outputs": [
        {
          "output_type": "stream",
          "text": [
            "         Date         Open         High  ...        Close    Adj Close      Volume\n",
            "0  2000-08-16  3878.580078  3914.840088  ...  3861.199951  3861.199951  1401380000\n",
            "1  2000-08-17  3858.879883  3947.050049  ...  3940.870117  3940.870117  1440370000\n",
            "2  2000-08-18  3958.699951  3980.260010  ...  3930.340088  3930.340088  1447920000\n",
            "3  2000-08-21  3966.229980  3985.620117  ...  3953.149902  3953.149902  1269330000\n",
            "4  2000-08-22  3970.159912  4011.149902  ...  3958.209961  3958.209961  1413190000\n",
            "\n",
            "[5 rows x 7 columns]\n"
          ],
          "name": "stdout"
        }
      ]
    },
    {
      "cell_type": "code",
      "metadata": {
        "id": "T-0ltrX3YBVk",
        "colab": {
          "base_uri": "https://localhost:8080/"
        },
        "outputId": "0d73ddd8-7118-4ab3-8275-0d58bf38dbcc"
      },
      "source": [
        "print(df.tail(5))"
      ],
      "execution_count": 103,
      "outputs": [
        {
          "output_type": "stream",
          "text": [
            "            Date          Open  ...     Adj Close      Volume\n",
            "5277  2021-08-09  14855.759766  ...  14860.179688  4095760000\n",
            "5278  2021-08-10  14887.750000  ...  14788.089844  3978790000\n",
            "5279  2021-08-11  14834.379883  ...  14765.139648  3980530000\n",
            "5280  2021-08-12  14751.360352  ...  14816.259766  4020260000\n",
            "5281  2021-08-13  14825.070313  ...  14822.900391  4038130000\n",
            "\n",
            "[5 rows x 7 columns]\n"
          ],
          "name": "stdout"
        }
      ]
    },
    {
      "cell_type": "code",
      "metadata": {
        "colab": {
          "base_uri": "https://localhost:8080/"
        },
        "id": "yWGLsE9pYKcx",
        "outputId": "9530fd54-0e72-4c22-8402-60814da7c3c6"
      },
      "source": [
        "cols = list(df)[1:6]\n",
        "#Date and volume columns are not used in training. \n",
        "print(cols) #['Open', 'High', 'Low', 'Close', 'Adj Close']"
      ],
      "execution_count": 104,
      "outputs": [
        {
          "output_type": "stream",
          "text": [
            "['Open', 'High', 'Low', 'Close', 'Adj Close']\n"
          ],
          "name": "stdout"
        }
      ]
    },
    {
      "cell_type": "code",
      "metadata": {
        "colab": {
          "base_uri": "https://localhost:8080/",
          "height": 265
        },
        "id": "zG8IYcGqYPtp",
        "outputId": "41fb000e-c954-4f14-d28f-51249b0e903b"
      },
      "source": [
        "#New dataframe with only training data - 5 columns\n",
        "df_for_training = df[cols].astype(float)\n",
        "\n",
        "df_for_plot=df_for_training['Close'].tail(5000)\n",
        "df_for_plot.plot.line()\n",
        "\n",
        "#LSTM uses sigmoid and tanh that are sensitive to magnitude so values need to be normalized\n",
        "# normalize the dataset\n",
        "scaler = StandardScaler()\n",
        "scaler = scaler.fit(df_for_training)\n",
        "df_for_training_scaled = scaler.transform(df_for_training)"
      ],
      "execution_count": 105,
      "outputs": [
        {
          "output_type": "display_data",
          "data": {
            "image/png": "[encoded data removed]",
            "text/plain": [
              "<Figure size 432x288 with 1 Axes>"
            ]
          },
          "metadata": {
            "needs_background": "light"
          }
        }
      ]
    },
    {
      "cell_type": "markdown",
      "metadata": {
        "id": "UunnceqhXSoy"
      },
      "source": [
        "Prediction *Variables*:"
      ]
    },
    {
      "cell_type": "code",
      "metadata": {
        "id": "aoCixQCVXbp3"
      },
      "source": [
        "n_future = 1   # Number of days we want to look into the future based on the past days.\n",
        "n_past = 3  # Number of past days we want to use to predict the future."
      ],
      "execution_count": 106,
      "outputs": []
    },
    {
      "cell_type": "code",
      "metadata": {
        "colab": {
          "base_uri": "https://localhost:8080/"
        },
        "id": "yJgypICHYVP_",
        "outputId": "dc19d232-1092-4f7f-a8b3-1cd5ef16354b"
      },
      "source": [
        "#As required for LSTM networks, we require to reshape an input data into n_samples x timesteps x n_features. \n",
        "#In this example, the n_features is 5. We will make timesteps = 14 (past days data used for training). \n",
        "\n",
        "#Empty lists to be populated using formatted training data\n",
        "trainX = []\n",
        "trainY = []\n",
        "\n",
        "\n",
        "#Reformat input data into a shape: (n_samples x timesteps x n_features)\n",
        "#In my example, my df_for_training_scaled has a shape (12823, 5)\n",
        "#12823 refers to the number of data points and 5 refers to the columns (multi-variables).\n",
        "for i in range(n_past, len(df_for_training_scaled) - n_future +1):\n",
        "    trainX.append(df_for_training_scaled[i - n_past:i, 0:df_for_training.shape[1]])\n",
        "    trainY.append(df_for_training_scaled[i + n_future - 1:i + n_future, 0])\n",
        "\n",
        "trainX, trainY = np.array(trainX), np.array(trainY)\n",
        "\n",
        "print('trainX shape == {}.'.format(trainX.shape))\n",
        "print('trainY shape == {}.'.format(trainY.shape))"
      ],
      "execution_count": 107,
      "outputs": [
        {
          "output_type": "stream",
          "text": [
            "trainX shape == (5279, 3, 5).\n",
            "trainY shape == (5279, 1).\n"
          ],
          "name": "stdout"
        }
      ]
    },
    {
      "cell_type": "code",
      "metadata": {
        "colab": {
          "base_uri": "https://localhost:8080/"
        },
        "id": "HxjskrxtYcpk",
        "outputId": "107e548b-025c-4b10-9f5a-67022994276f"
      },
      "source": [
        "# define the Autoencoder model\n",
        "\n",
        "model = Sequential()\n",
        "model.add(LSTM(64, activation='relu', input_shape=(trainX.shape[1], trainX.shape[2]), return_sequences=True))\n",
        "model.add(LSTM(32, activation='relu', return_sequences=False))\n",
        "model.add(Dropout(0.2))\n",
        "model.add(Dense(trainY.shape[1]))\n",
        "\n",
        "model.compile(optimizer='adam', loss='mse')\n",
        "model.summary()"
      ],
      "execution_count": 108,
      "outputs": [
        {
          "output_type": "stream",
          "text": [
            "Model: \"sequential_2\"\n",
            "_________________________________________________________________\n",
            "Layer (type)                 Output Shape              Param #   \n",
            "=================================================================\n",
            "lstm_4 (LSTM)                (None, 3, 64)             17920     \n",
            "_________________________________________________________________\n",
            "lstm_5 (LSTM)                (None, 32)                12416     \n",
            "_________________________________________________________________\n",
            "dropout_2 (Dropout)          (None, 32)                0         \n",
            "_________________________________________________________________\n",
            "dense_2 (Dense)              (None, 1)                 33        \n",
            "=================================================================\n",
            "Total params: 30,369\n",
            "Trainable params: 30,369\n",
            "Non-trainable params: 0\n",
            "_________________________________________________________________\n"
          ],
          "name": "stdout"
        }
      ]
    },
    {
      "cell_type": "code",
      "metadata": {
        "colab": {
          "base_uri": "https://localhost:8080/",
          "height": 560
        },
        "id": "2DGT_lCgYklw",
        "outputId": "59374710-55ca-4230-a481-2065cc2acc21"
      },
      "source": [
        "# fit the model\n",
        "history = model.fit(trainX, trainY, epochs=8, batch_size=64, validation_split=0.1, verbose=1)\n",
        "\n",
        "plt.plot(history.history['loss'], label='Training loss')\n",
        "plt.plot(history.history['val_loss'], label='Validation loss')\n",
        "plt.legend()"
      ],
      "execution_count": 109,
      "outputs": [
        {
          "output_type": "stream",
          "text": [
            "Epoch 1/8\n",
            "75/75 [==============================] - 3s 11ms/step - loss: 0.1283 - val_loss: 8.4218\n",
            "Epoch 2/8\n",
            "75/75 [==============================] - 0s 6ms/step - loss: 0.0140 - val_loss: 2.1109\n",
            "Epoch 3/8\n",
            "75/75 [==============================] - 0s 7ms/step - loss: 0.0122 - val_loss: 1.0762\n",
            "Epoch 4/8\n",
            "75/75 [==============================] - 0s 6ms/step - loss: 0.0116 - val_loss: 0.5329\n",
            "Epoch 5/8\n",
            "75/75 [==============================] - 0s 6ms/step - loss: 0.0108 - val_loss: 0.1398\n",
            "Epoch 6/8\n",
            "75/75 [==============================] - 0s 6ms/step - loss: 0.0105 - val_loss: 0.3575\n",
            "Epoch 7/8\n",
            "75/75 [==============================] - 0s 6ms/step - loss: 0.0106 - val_loss: 0.5957\n",
            "Epoch 8/8\n",
            "75/75 [==============================] - 0s 6ms/step - loss: 0.0104 - val_loss: 0.1676\n"
          ],
          "name": "stdout"
        },
        {
          "output_type": "execute_result",
          "data": {
            "text/plain": [
              "<matplotlib.legend.Legend at 0x7f7e83e307d0>"
            ]
          },
          "metadata": {},
          "execution_count": 109
        },
        {
          "output_type": "display_data",
          "data": {
            "image/png": "[encoded data removed]",
            "text/plain": [
              "<Figure size 432x288 with 1 Axes>"
            ]
          },
          "metadata": {
            "needs_background": "light"
          }
        }
      ]
    },
    {
      "cell_type": "code",
      "metadata": {
        "colab": {
          "base_uri": "https://localhost:8080/"
        },
        "id": "1VVE4FePosp0",
        "outputId": "5558f443-c03e-4510-b548-ae6e4a89ae05"
      },
      "source": [
        "print(history.history['loss'])\n",
        "#print(history.history['acc'])"
      ],
      "execution_count": 110,
      "outputs": [
        {
          "output_type": "stream",
          "text": [
            "[0.12829557061195374, 0.014019371010363102, 0.01215782668441534, 0.011575077660381794, 0.010819408111274242, 0.010518078692257404, 0.010632108896970749, 0.010399539954960346]\n"
          ],
          "name": "stdout"
        }
      ]
    },
    {
      "cell_type": "markdown",
      "metadata": {
        "id": "azMtAcG-X-kG"
      },
      "source": [
        "## Define Days in the past used to predict how many days in future:"
      ]
    },
    {
      "cell_type": "code",
      "metadata": {
        "id": "f1SdmGRd0zzN"
      },
      "source": [
        "last_original_date = '2021-08-13'"
      ],
      "execution_count": 111,
      "outputs": []
    },
    {
      "cell_type": "code",
      "metadata": {
        "id": "RrHKAD0_X9ED"
      },
      "source": [
        "n_past = 10\n",
        "n_days_for_prediction=30 #let us predict past 15 days"
      ],
      "execution_count": 112,
      "outputs": []
    },
    {
      "cell_type": "code",
      "metadata": {
        "colab": {
          "base_uri": "https://localhost:8080/"
        },
        "id": "qtMRtONPYy68",
        "outputId": "047d63f0-fa91-435e-b417-eea3b5cf63f1"
      },
      "source": [
        "#Predicting...\n",
        "#Libraries that will help us extract only business days in the US.\n",
        "#Otherwise our dates would be wrong when we look back (or forward).  \n",
        "from pandas.tseries.holiday import USFederalHolidayCalendar\n",
        "from pandas.tseries.offsets import CustomBusinessDay\n",
        "us_bd = CustomBusinessDay(calendar=USFederalHolidayCalendar())\n",
        "train_dates = pd.to_datetime(df['Date'])\n",
        "#Remember that we can only predict one day in future as our model needs 5 variables\n",
        "#as inputs for prediction. We only have all 5 variables until the last day in our dataset.\n",
        "\n",
        "\n",
        "predict_period_dates = pd.date_range(list(train_dates)[-n_past], periods=n_days_for_prediction, freq=us_bd).tolist()\n",
        "print(predict_period_dates)"
      ],
      "execution_count": 113,
      "outputs": [
        {
          "output_type": "stream",
          "text": [
            "[Timestamp('2021-08-02 00:00:00', freq='C'), Timestamp('2021-08-03 00:00:00', freq='C'), Timestamp('2021-08-04 00:00:00', freq='C'), Timestamp('2021-08-05 00:00:00', freq='C'), Timestamp('2021-08-06 00:00:00', freq='C'), Timestamp('2021-08-09 00:00:00', freq='C'), Timestamp('2021-08-10 00:00:00', freq='C'), Timestamp('2021-08-11 00:00:00', freq='C'), Timestamp('2021-08-12 00:00:00', freq='C'), Timestamp('2021-08-13 00:00:00', freq='C'), Timestamp('2021-08-16 00:00:00', freq='C'), Timestamp('2021-08-17 00:00:00', freq='C'), Timestamp('2021-08-18 00:00:00', freq='C'), Timestamp('2021-08-19 00:00:00', freq='C'), Timestamp('2021-08-20 00:00:00', freq='C'), Timestamp('2021-08-23 00:00:00', freq='C'), Timestamp('2021-08-24 00:00:00', freq='C'), Timestamp('2021-08-25 00:00:00', freq='C'), Timestamp('2021-08-26 00:00:00', freq='C'), Timestamp('2021-08-27 00:00:00', freq='C'), Timestamp('2021-08-30 00:00:00', freq='C'), Timestamp('2021-08-31 00:00:00', freq='C'), Timestamp('2021-09-01 00:00:00', freq='C'), Timestamp('2021-09-02 00:00:00', freq='C'), Timestamp('2021-09-03 00:00:00', freq='C'), Timestamp('2021-09-07 00:00:00', freq='C'), Timestamp('2021-09-08 00:00:00', freq='C'), Timestamp('2021-09-09 00:00:00', freq='C'), Timestamp('2021-09-10 00:00:00', freq='C'), Timestamp('2021-09-13 00:00:00', freq='C')]\n"
          ],
          "name": "stdout"
        }
      ]
    },
    {
      "cell_type": "code",
      "metadata": {
        "colab": {
          "base_uri": "https://localhost:8080/"
        },
        "id": "y0rWsbT0LjKt",
        "outputId": "9142fe9e-f2e2-4145-8b46-b3934c27acd2"
      },
      "source": [
        "prediction_period = pd.to_datetime(predict_period_dates)\n",
        "prediction_period"
      ],
      "execution_count": 114,
      "outputs": [
        {
          "output_type": "execute_result",
          "data": {
            "text/plain": [
              "DatetimeIndex(['2021-08-02', '2021-08-03', '2021-08-04', '2021-08-05',\n",
              "               '2021-08-06', '2021-08-09', '2021-08-10', '2021-08-11',\n",
              "               '2021-08-12', '2021-08-13', '2021-08-16', '2021-08-17',\n",
              "               '2021-08-18', '2021-08-19', '2021-08-20', '2021-08-23',\n",
              "               '2021-08-24', '2021-08-25', '2021-08-26', '2021-08-27',\n",
              "               '2021-08-30', '2021-08-31', '2021-09-01', '2021-09-02',\n",
              "               '2021-09-03', '2021-09-07', '2021-09-08', '2021-09-09',\n",
              "               '2021-09-10', '2021-09-13'],\n",
              "              dtype='datetime64[ns]', freq=None)"
            ]
          },
          "metadata": {},
          "execution_count": 114
        }
      ]
    },
    {
      "cell_type": "code",
      "metadata": {
        "colab": {
          "base_uri": "https://localhost:8080/",
          "height": 35
        },
        "id": "bziiVJwPLxES",
        "outputId": "5e719f41-aea6-4907-9925-d1505dbde8e7"
      },
      "source": [
        "s =prediction_period[0]\n",
        "s = s.strftime('%Y-%m-%d')\n",
        "s"
      ],
      "execution_count": 115,
      "outputs": [
        {
          "output_type": "execute_result",
          "data": {
            "application/vnd.google.colaboratory.intrinsic+json": {
              "type": "string"
            },
            "text/plain": [
              "'2021-08-02'"
            ]
          },
          "metadata": {},
          "execution_count": 115
        }
      ]
    },
    {
      "cell_type": "code",
      "metadata": {
        "colab": {
          "base_uri": "https://localhost:8080/",
          "height": 35
        },
        "id": "mMwpdvSiw9ET",
        "outputId": "4ccbdc98-ef81-4134-85bf-3c4dee703845"
      },
      "source": [
        "e =prediction_period[-1]\n",
        "e = e.strftime('%Y-%m-%d')\n",
        "e"
      ],
      "execution_count": 116,
      "outputs": [
        {
          "output_type": "execute_result",
          "data": {
            "application/vnd.google.colaboratory.intrinsic+json": {
              "type": "string"
            },
            "text/plain": [
              "'2021-09-13'"
            ]
          },
          "metadata": {},
          "execution_count": 116
        }
      ]
    },
    {
      "cell_type": "code",
      "metadata": {
        "colab": {
          "base_uri": "https://localhost:8080/"
        },
        "id": "axuF3Av-ZtC5",
        "outputId": "e071ab15-6bee-4c9b-c0d8-f2e1429d2daf"
      },
      "source": [
        "pred_dates[-1]"
      ],
      "execution_count": 117,
      "outputs": [
        {
          "output_type": "execute_result",
          "data": {
            "text/plain": [
              "Timestamp('2021-08-27 00:00:00')"
            ]
          },
          "metadata": {},
          "execution_count": 117
        }
      ]
    },
    {
      "cell_type": "code",
      "metadata": {
        "colab": {
          "base_uri": "https://localhost:8080/",
          "height": 402
        },
        "id": "yFZglOELTh_h",
        "outputId": "5e67927e-5804-4cdf-a887-7cbeebb12084"
      },
      "source": [
        "#Make prediction\n",
        "prediction = model.predict(trainX[-n_days_for_prediction:]) #shape = (n, 1) where n is the n_days_for_prediction\n",
        "\n",
        "#Perform inverse transformation to rescale back to original range\n",
        "#Since we used 5 variables for transform, the inverse expects same dimensions\n",
        "#Therefore, let us copy our values 5 times and discard them after inverse transform\n",
        "prediction_copies = np.repeat(prediction, df_for_training.shape[1], axis=-1)\n",
        "y_pred_future = scaler.inverse_transform(prediction_copies)[:,0]\n",
        "\n",
        "\n",
        "# Convert timestamp to date\n",
        "forecast_dates = []\n",
        "for time_i in predict_period_dates:\n",
        "    forecast_dates.append(time_i.date())\n",
        "    \n",
        "df_forecast = pd.DataFrame({'Date':np.array(forecast_dates), 'Close':y_pred_future})\n",
        "df_forecast['Date']=pd.to_datetime(df_forecast['Date'])\n",
        "\n",
        "\n",
        "original = df[['Date', 'Close']]\n",
        "original['Date']=pd.to_datetime(original['Date'])\n",
        "original = original.loc[original['Date'] >= '2020-5-1']\n",
        "\n",
        "#sns.lineplot(original['Date'], original['Close'])\n",
        "#sns.lineplot(df_forecast['Date'], df_forecast['Close'])\n",
        "\n",
        "plt.plot(original['Date'], original['Close'], color = 'red', label = ' Stock Price')\n",
        "plt.plot(df_forecast['Date'], df_forecast['Close'] , color = 'green', label = 'Predicted  Stock Price')\n",
        "plt.title(' Stock Price Prediction')\n",
        "plt.xlabel('Time')\n",
        "plt.ylabel(' Stock Price')\n",
        "plt.legend()\n",
        "plt.show()"
      ],
      "execution_count": 118,
      "outputs": [
        {
          "output_type": "stream",
          "text": [
            "/usr/local/lib/python3.7/dist-packages/ipykernel_launcher.py:21: SettingWithCopyWarning: \n",
            "A value is trying to be set on a copy of a slice from a DataFrame.\n",
            "Try using .loc[row_indexer,col_indexer] = value instead\n",
            "\n",
            "See the caveats in the documentation: https://pandas.pydata.org/pandas-docs/stable/user_guide/indexing.html#returning-a-view-versus-a-copy\n"
          ],
          "name": "stderr"
        },
        {
          "output_type": "display_data",
          "data": {
            "image/png": "[encoded data removed]",
            "text/plain": [
              "<Figure size 432x288 with 1 Axes>"
            ]
          },
          "metadata": {
            "needs_background": "light"
          }
        }
      ]
    },
    {
      "cell_type": "code",
      "metadata": {
        "colab": {
          "base_uri": "https://localhost:8080/",
          "height": 363
        },
        "id": "dFrya6uGkGbx",
        "outputId": "e9187623-9bfc-453d-f1d4-ea107dad4d36"
      },
      "source": [
        "original.tail(10)"
      ],
      "execution_count": 119,
      "outputs": [
        {
          "output_type": "execute_result",
          "data": {
            "text/html": [
              "<div>\n",
              "<style scoped>\n",
              "    .dataframe tbody tr th:only-of-type {\n",
              "        vertical-align: middle;\n",
              "    }\n",
              "\n",
              "    .dataframe tbody tr th {\n",
              "        vertical-align: top;\n",
              "    }\n",
              "\n",
              "    .dataframe thead th {\n",
              "        text-align: right;\n",
              "    }\n",
              "</style>\n",
              "<table border=\"1\" class=\"dataframe\">\n",
              "  <thead>\n",
              "    <tr style=\"text-align: right;\">\n",
              "      <th></th>\n",
              "      <th>Date</th>\n",
              "      <th>Close</th>\n",
              "    </tr>\n",
              "  </thead>\n",
              "  <tbody>\n",
              "    <tr>\n",
              "      <th>5272</th>\n",
              "      <td>2021-08-02</td>\n",
              "      <td>14681.070313</td>\n",
              "    </tr>\n",
              "    <tr>\n",
              "      <th>5273</th>\n",
              "      <td>2021-08-03</td>\n",
              "      <td>14761.290039</td>\n",
              "    </tr>\n",
              "    <tr>\n",
              "      <th>5274</th>\n",
              "      <td>2021-08-04</td>\n",
              "      <td>14780.530273</td>\n",
              "    </tr>\n",
              "    <tr>\n",
              "      <th>5275</th>\n",
              "      <td>2021-08-05</td>\n",
              "      <td>14895.120117</td>\n",
              "    </tr>\n",
              "    <tr>\n",
              "      <th>5276</th>\n",
              "      <td>2021-08-06</td>\n",
              "      <td>14835.759766</td>\n",
              "    </tr>\n",
              "    <tr>\n",
              "      <th>5277</th>\n",
              "      <td>2021-08-09</td>\n",
              "      <td>14860.179688</td>\n",
              "    </tr>\n",
              "    <tr>\n",
              "      <th>5278</th>\n",
              "      <td>2021-08-10</td>\n",
              "      <td>14788.089844</td>\n",
              "    </tr>\n",
              "    <tr>\n",
              "      <th>5279</th>\n",
              "      <td>2021-08-11</td>\n",
              "      <td>14765.139648</td>\n",
              "    </tr>\n",
              "    <tr>\n",
              "      <th>5280</th>\n",
              "      <td>2021-08-12</td>\n",
              "      <td>14816.259766</td>\n",
              "    </tr>\n",
              "    <tr>\n",
              "      <th>5281</th>\n",
              "      <td>2021-08-13</td>\n",
              "      <td>14822.900391</td>\n",
              "    </tr>\n",
              "  </tbody>\n",
              "</table>\n",
              "</div>"
            ],
            "text/plain": [
              "           Date         Close\n",
              "5272 2021-08-02  14681.070313\n",
              "5273 2021-08-03  14761.290039\n",
              "5274 2021-08-04  14780.530273\n",
              "5275 2021-08-05  14895.120117\n",
              "5276 2021-08-06  14835.759766\n",
              "5277 2021-08-09  14860.179688\n",
              "5278 2021-08-10  14788.089844\n",
              "5279 2021-08-11  14765.139648\n",
              "5280 2021-08-12  14816.259766\n",
              "5281 2021-08-13  14822.900391"
            ]
          },
          "metadata": {},
          "execution_count": 119
        }
      ]
    },
    {
      "cell_type": "code",
      "metadata": {
        "colab": {
          "base_uri": "https://localhost:8080/",
          "height": 989
        },
        "id": "N-Dkg1hYTeHN",
        "outputId": "affabf38-1c77-4770-b137-9b3aa730fb21"
      },
      "source": [
        "df_forecast"
      ],
      "execution_count": 120,
      "outputs": [
        {
          "output_type": "execute_result",
          "data": {
            "text/html": [
              "<div>\n",
              "<style scoped>\n",
              "    .dataframe tbody tr th:only-of-type {\n",
              "        vertical-align: middle;\n",
              "    }\n",
              "\n",
              "    .dataframe tbody tr th {\n",
              "        vertical-align: top;\n",
              "    }\n",
              "\n",
              "    .dataframe thead th {\n",
              "        text-align: right;\n",
              "    }\n",
              "</style>\n",
              "<table border=\"1\" class=\"dataframe\">\n",
              "  <thead>\n",
              "    <tr style=\"text-align: right;\">\n",
              "      <th></th>\n",
              "      <th>Date</th>\n",
              "      <th>Close</th>\n",
              "    </tr>\n",
              "  </thead>\n",
              "  <tbody>\n",
              "    <tr>\n",
              "      <th>0</th>\n",
              "      <td>2021-08-02</td>\n",
              "      <td>16927.181641</td>\n",
              "    </tr>\n",
              "    <tr>\n",
              "      <th>1</th>\n",
              "      <td>2021-08-03</td>\n",
              "      <td>16959.031250</td>\n",
              "    </tr>\n",
              "    <tr>\n",
              "      <th>2</th>\n",
              "      <td>2021-08-04</td>\n",
              "      <td>17018.964844</td>\n",
              "    </tr>\n",
              "    <tr>\n",
              "      <th>3</th>\n",
              "      <td>2021-08-05</td>\n",
              "      <td>17116.912109</td>\n",
              "    </tr>\n",
              "    <tr>\n",
              "      <th>4</th>\n",
              "      <td>2021-08-06</td>\n",
              "      <td>17095.357422</td>\n",
              "    </tr>\n",
              "    <tr>\n",
              "      <th>5</th>\n",
              "      <td>2021-08-09</td>\n",
              "      <td>17101.562500</td>\n",
              "    </tr>\n",
              "    <tr>\n",
              "      <th>6</th>\n",
              "      <td>2021-08-10</td>\n",
              "      <td>17070.283203</td>\n",
              "    </tr>\n",
              "    <tr>\n",
              "      <th>7</th>\n",
              "      <td>2021-08-11</td>\n",
              "      <td>17193.044922</td>\n",
              "    </tr>\n",
              "    <tr>\n",
              "      <th>8</th>\n",
              "      <td>2021-08-12</td>\n",
              "      <td>17220.251953</td>\n",
              "    </tr>\n",
              "    <tr>\n",
              "      <th>9</th>\n",
              "      <td>2021-08-13</td>\n",
              "      <td>17148.414062</td>\n",
              "    </tr>\n",
              "    <tr>\n",
              "      <th>10</th>\n",
              "      <td>2021-08-16</td>\n",
              "      <td>17043.261719</td>\n",
              "    </tr>\n",
              "    <tr>\n",
              "      <th>11</th>\n",
              "      <td>2021-08-17</td>\n",
              "      <td>16843.220703</td>\n",
              "    </tr>\n",
              "    <tr>\n",
              "      <th>12</th>\n",
              "      <td>2021-08-18</td>\n",
              "      <td>16766.142578</td>\n",
              "    </tr>\n",
              "    <tr>\n",
              "      <th>13</th>\n",
              "      <td>2021-08-19</td>\n",
              "      <td>16739.421875</td>\n",
              "    </tr>\n",
              "    <tr>\n",
              "      <th>14</th>\n",
              "      <td>2021-08-20</td>\n",
              "      <td>16969.378906</td>\n",
              "    </tr>\n",
              "    <tr>\n",
              "      <th>15</th>\n",
              "      <td>2021-08-23</td>\n",
              "      <td>17164.398438</td>\n",
              "    </tr>\n",
              "    <tr>\n",
              "      <th>16</th>\n",
              "      <td>2021-08-24</td>\n",
              "      <td>17288.685547</td>\n",
              "    </tr>\n",
              "    <tr>\n",
              "      <th>17</th>\n",
              "      <td>2021-08-25</td>\n",
              "      <td>17338.289062</td>\n",
              "    </tr>\n",
              "    <tr>\n",
              "      <th>18</th>\n",
              "      <td>2021-08-26</td>\n",
              "      <td>17310.794922</td>\n",
              "    </tr>\n",
              "    <tr>\n",
              "      <th>19</th>\n",
              "      <td>2021-08-27</td>\n",
              "      <td>17236.847656</td>\n",
              "    </tr>\n",
              "    <tr>\n",
              "      <th>20</th>\n",
              "      <td>2021-08-30</td>\n",
              "      <td>17270.673828</td>\n",
              "    </tr>\n",
              "    <tr>\n",
              "      <th>21</th>\n",
              "      <td>2021-08-31</td>\n",
              "      <td>17259.750000</td>\n",
              "    </tr>\n",
              "    <tr>\n",
              "      <th>22</th>\n",
              "      <td>2021-09-01</td>\n",
              "      <td>17202.669922</td>\n",
              "    </tr>\n",
              "    <tr>\n",
              "      <th>23</th>\n",
              "      <td>2021-09-02</td>\n",
              "      <td>17253.683594</td>\n",
              "    </tr>\n",
              "    <tr>\n",
              "      <th>24</th>\n",
              "      <td>2021-09-03</td>\n",
              "      <td>17325.861328</td>\n",
              "    </tr>\n",
              "    <tr>\n",
              "      <th>25</th>\n",
              "      <td>2021-09-07</td>\n",
              "      <td>17393.191406</td>\n",
              "    </tr>\n",
              "    <tr>\n",
              "      <th>26</th>\n",
              "      <td>2021-09-08</td>\n",
              "      <td>17451.607422</td>\n",
              "    </tr>\n",
              "    <tr>\n",
              "      <th>27</th>\n",
              "      <td>2021-09-09</td>\n",
              "      <td>17423.593750</td>\n",
              "    </tr>\n",
              "    <tr>\n",
              "      <th>28</th>\n",
              "      <td>2021-09-10</td>\n",
              "      <td>17399.882812</td>\n",
              "    </tr>\n",
              "    <tr>\n",
              "      <th>29</th>\n",
              "      <td>2021-09-13</td>\n",
              "      <td>17362.539062</td>\n",
              "    </tr>\n",
              "  </tbody>\n",
              "</table>\n",
              "</div>"
            ],
            "text/plain": [
              "         Date         Close\n",
              "0  2021-08-02  16927.181641\n",
              "1  2021-08-03  16959.031250\n",
              "2  2021-08-04  17018.964844\n",
              "3  2021-08-05  17116.912109\n",
              "4  2021-08-06  17095.357422\n",
              "5  2021-08-09  17101.562500\n",
              "6  2021-08-10  17070.283203\n",
              "7  2021-08-11  17193.044922\n",
              "8  2021-08-12  17220.251953\n",
              "9  2021-08-13  17148.414062\n",
              "10 2021-08-16  17043.261719\n",
              "11 2021-08-17  16843.220703\n",
              "12 2021-08-18  16766.142578\n",
              "13 2021-08-19  16739.421875\n",
              "14 2021-08-20  16969.378906\n",
              "15 2021-08-23  17164.398438\n",
              "16 2021-08-24  17288.685547\n",
              "17 2021-08-25  17338.289062\n",
              "18 2021-08-26  17310.794922\n",
              "19 2021-08-27  17236.847656\n",
              "20 2021-08-30  17270.673828\n",
              "21 2021-08-31  17259.750000\n",
              "22 2021-09-01  17202.669922\n",
              "23 2021-09-02  17253.683594\n",
              "24 2021-09-03  17325.861328\n",
              "25 2021-09-07  17393.191406\n",
              "26 2021-09-08  17451.607422\n",
              "27 2021-09-09  17423.593750\n",
              "28 2021-09-10  17399.882812\n",
              "29 2021-09-13  17362.539062"
            ]
          },
          "metadata": {},
          "execution_count": 120
        }
      ]
    },
    {
      "cell_type": "code",
      "metadata": {
        "id": "P0n5cVq4SjdV"
      },
      "source": [
        "#p = df_forecast['Date']"
      ],
      "execution_count": 121,
      "outputs": []
    },
    {
      "cell_type": "code",
      "metadata": {
        "id": "lmDvN4BKThwl"
      },
      "source": [
        "#p = np.array(p)"
      ],
      "execution_count": 122,
      "outputs": []
    },
    {
      "cell_type": "code",
      "metadata": {
        "id": "c5SxPSuAUqFN"
      },
      "source": [
        "#p = pd.to_datetime(p)\n",
        "#p"
      ],
      "execution_count": 123,
      "outputs": []
    },
    {
      "cell_type": "code",
      "metadata": {
        "id": "tX59Jt6QU83F"
      },
      "source": [
        "#pred_start = p[0]\n",
        "#pred_start"
      ],
      "execution_count": 124,
      "outputs": []
    },
    {
      "cell_type": "code",
      "metadata": {
        "id": "TOxuqhtObh6F"
      },
      "source": [
        "#pred_end = p[-1]\n",
        "#pred_end"
      ],
      "execution_count": 125,
      "outputs": []
    },
    {
      "cell_type": "code",
      "metadata": {
        "colab": {
          "base_uri": "https://localhost:8080/",
          "height": 363
        },
        "id": "eHEHQ5c9V9M1",
        "outputId": "b4544b9d-e262-4f0d-adec-23b235986764"
      },
      "source": [
        "original_open = original.loc[original['Date'] >= s]\n",
        "\n",
        "original_open"
      ],
      "execution_count": 126,
      "outputs": [
        {
          "output_type": "execute_result",
          "data": {
            "text/html": [
              "<div>\n",
              "<style scoped>\n",
              "    .dataframe tbody tr th:only-of-type {\n",
              "        vertical-align: middle;\n",
              "    }\n",
              "\n",
              "    .dataframe tbody tr th {\n",
              "        vertical-align: top;\n",
              "    }\n",
              "\n",
              "    .dataframe thead th {\n",
              "        text-align: right;\n",
              "    }\n",
              "</style>\n",
              "<table border=\"1\" class=\"dataframe\">\n",
              "  <thead>\n",
              "    <tr style=\"text-align: right;\">\n",
              "      <th></th>\n",
              "      <th>Date</th>\n",
              "      <th>Close</th>\n",
              "    </tr>\n",
              "  </thead>\n",
              "  <tbody>\n",
              "    <tr>\n",
              "      <th>5272</th>\n",
              "      <td>2021-08-02</td>\n",
              "      <td>14681.070313</td>\n",
              "    </tr>\n",
              "    <tr>\n",
              "      <th>5273</th>\n",
              "      <td>2021-08-03</td>\n",
              "      <td>14761.290039</td>\n",
              "    </tr>\n",
              "    <tr>\n",
              "      <th>5274</th>\n",
              "      <td>2021-08-04</td>\n",
              "      <td>14780.530273</td>\n",
              "    </tr>\n",
              "    <tr>\n",
              "      <th>5275</th>\n",
              "      <td>2021-08-05</td>\n",
              "      <td>14895.120117</td>\n",
              "    </tr>\n",
              "    <tr>\n",
              "      <th>5276</th>\n",
              "      <td>2021-08-06</td>\n",
              "      <td>14835.759766</td>\n",
              "    </tr>\n",
              "    <tr>\n",
              "      <th>5277</th>\n",
              "      <td>2021-08-09</td>\n",
              "      <td>14860.179688</td>\n",
              "    </tr>\n",
              "    <tr>\n",
              "      <th>5278</th>\n",
              "      <td>2021-08-10</td>\n",
              "      <td>14788.089844</td>\n",
              "    </tr>\n",
              "    <tr>\n",
              "      <th>5279</th>\n",
              "      <td>2021-08-11</td>\n",
              "      <td>14765.139648</td>\n",
              "    </tr>\n",
              "    <tr>\n",
              "      <th>5280</th>\n",
              "      <td>2021-08-12</td>\n",
              "      <td>14816.259766</td>\n",
              "    </tr>\n",
              "    <tr>\n",
              "      <th>5281</th>\n",
              "      <td>2021-08-13</td>\n",
              "      <td>14822.900391</td>\n",
              "    </tr>\n",
              "  </tbody>\n",
              "</table>\n",
              "</div>"
            ],
            "text/plain": [
              "           Date         Close\n",
              "5272 2021-08-02  14681.070313\n",
              "5273 2021-08-03  14761.290039\n",
              "5274 2021-08-04  14780.530273\n",
              "5275 2021-08-05  14895.120117\n",
              "5276 2021-08-06  14835.759766\n",
              "5277 2021-08-09  14860.179688\n",
              "5278 2021-08-10  14788.089844\n",
              "5279 2021-08-11  14765.139648\n",
              "5280 2021-08-12  14816.259766\n",
              "5281 2021-08-13  14822.900391"
            ]
          },
          "metadata": {},
          "execution_count": 126
        }
      ]
    },
    {
      "cell_type": "code",
      "metadata": {
        "colab": {
          "base_uri": "https://localhost:8080/",
          "height": 363
        },
        "id": "aGjTiO-OHlmD",
        "outputId": "db8ff363-4763-4c65-ac38-cc8fc7af3fdb"
      },
      "source": [
        "original_open = original_open.loc[original_open['Date'] <= e]\n",
        "original_open"
      ],
      "execution_count": 127,
      "outputs": [
        {
          "output_type": "execute_result",
          "data": {
            "text/html": [
              "<div>\n",
              "<style scoped>\n",
              "    .dataframe tbody tr th:only-of-type {\n",
              "        vertical-align: middle;\n",
              "    }\n",
              "\n",
              "    .dataframe tbody tr th {\n",
              "        vertical-align: top;\n",
              "    }\n",
              "\n",
              "    .dataframe thead th {\n",
              "        text-align: right;\n",
              "    }\n",
              "</style>\n",
              "<table border=\"1\" class=\"dataframe\">\n",
              "  <thead>\n",
              "    <tr style=\"text-align: right;\">\n",
              "      <th></th>\n",
              "      <th>Date</th>\n",
              "      <th>Close</th>\n",
              "    </tr>\n",
              "  </thead>\n",
              "  <tbody>\n",
              "    <tr>\n",
              "      <th>5272</th>\n",
              "      <td>2021-08-02</td>\n",
              "      <td>14681.070313</td>\n",
              "    </tr>\n",
              "    <tr>\n",
              "      <th>5273</th>\n",
              "      <td>2021-08-03</td>\n",
              "      <td>14761.290039</td>\n",
              "    </tr>\n",
              "    <tr>\n",
              "      <th>5274</th>\n",
              "      <td>2021-08-04</td>\n",
              "      <td>14780.530273</td>\n",
              "    </tr>\n",
              "    <tr>\n",
              "      <th>5275</th>\n",
              "      <td>2021-08-05</td>\n",
              "      <td>14895.120117</td>\n",
              "    </tr>\n",
              "    <tr>\n",
              "      <th>5276</th>\n",
              "      <td>2021-08-06</td>\n",
              "      <td>14835.759766</td>\n",
              "    </tr>\n",
              "    <tr>\n",
              "      <th>5277</th>\n",
              "      <td>2021-08-09</td>\n",
              "      <td>14860.179688</td>\n",
              "    </tr>\n",
              "    <tr>\n",
              "      <th>5278</th>\n",
              "      <td>2021-08-10</td>\n",
              "      <td>14788.089844</td>\n",
              "    </tr>\n",
              "    <tr>\n",
              "      <th>5279</th>\n",
              "      <td>2021-08-11</td>\n",
              "      <td>14765.139648</td>\n",
              "    </tr>\n",
              "    <tr>\n",
              "      <th>5280</th>\n",
              "      <td>2021-08-12</td>\n",
              "      <td>14816.259766</td>\n",
              "    </tr>\n",
              "    <tr>\n",
              "      <th>5281</th>\n",
              "      <td>2021-08-13</td>\n",
              "      <td>14822.900391</td>\n",
              "    </tr>\n",
              "  </tbody>\n",
              "</table>\n",
              "</div>"
            ],
            "text/plain": [
              "           Date         Close\n",
              "5272 2021-08-02  14681.070313\n",
              "5273 2021-08-03  14761.290039\n",
              "5274 2021-08-04  14780.530273\n",
              "5275 2021-08-05  14895.120117\n",
              "5276 2021-08-06  14835.759766\n",
              "5277 2021-08-09  14860.179688\n",
              "5278 2021-08-10  14788.089844\n",
              "5279 2021-08-11  14765.139648\n",
              "5280 2021-08-12  14816.259766\n",
              "5281 2021-08-13  14822.900391"
            ]
          },
          "metadata": {},
          "execution_count": 127
        }
      ]
    },
    {
      "cell_type": "code",
      "metadata": {
        "colab": {
          "base_uri": "https://localhost:8080/",
          "height": 989
        },
        "id": "eGeNzLLqMrHk",
        "outputId": "4b38aa50-bb21-427d-cfb9-6b6a1e7dd0e5"
      },
      "source": [
        "\n",
        "df_forecast = df_forecast.loc[df_forecast['Date'] >= s]\n",
        "df_forecast"
      ],
      "execution_count": 128,
      "outputs": [
        {
          "output_type": "execute_result",
          "data": {
            "text/html": [
              "<div>\n",
              "<style scoped>\n",
              "    .dataframe tbody tr th:only-of-type {\n",
              "        vertical-align: middle;\n",
              "    }\n",
              "\n",
              "    .dataframe tbody tr th {\n",
              "        vertical-align: top;\n",
              "    }\n",
              "\n",
              "    .dataframe thead th {\n",
              "        text-align: right;\n",
              "    }\n",
              "</style>\n",
              "<table border=\"1\" class=\"dataframe\">\n",
              "  <thead>\n",
              "    <tr style=\"text-align: right;\">\n",
              "      <th></th>\n",
              "      <th>Date</th>\n",
              "      <th>Close</th>\n",
              "    </tr>\n",
              "  </thead>\n",
              "  <tbody>\n",
              "    <tr>\n",
              "      <th>0</th>\n",
              "      <td>2021-08-02</td>\n",
              "      <td>16927.181641</td>\n",
              "    </tr>\n",
              "    <tr>\n",
              "      <th>1</th>\n",
              "      <td>2021-08-03</td>\n",
              "      <td>16959.031250</td>\n",
              "    </tr>\n",
              "    <tr>\n",
              "      <th>2</th>\n",
              "      <td>2021-08-04</td>\n",
              "      <td>17018.964844</td>\n",
              "    </tr>\n",
              "    <tr>\n",
              "      <th>3</th>\n",
              "      <td>2021-08-05</td>\n",
              "      <td>17116.912109</td>\n",
              "    </tr>\n",
              "    <tr>\n",
              "      <th>4</th>\n",
              "      <td>2021-08-06</td>\n",
              "      <td>17095.357422</td>\n",
              "    </tr>\n",
              "    <tr>\n",
              "      <th>5</th>\n",
              "      <td>2021-08-09</td>\n",
              "      <td>17101.562500</td>\n",
              "    </tr>\n",
              "    <tr>\n",
              "      <th>6</th>\n",
              "      <td>2021-08-10</td>\n",
              "      <td>17070.283203</td>\n",
              "    </tr>\n",
              "    <tr>\n",
              "      <th>7</th>\n",
              "      <td>2021-08-11</td>\n",
              "      <td>17193.044922</td>\n",
              "    </tr>\n",
              "    <tr>\n",
              "      <th>8</th>\n",
              "      <td>2021-08-12</td>\n",
              "      <td>17220.251953</td>\n",
              "    </tr>\n",
              "    <tr>\n",
              "      <th>9</th>\n",
              "      <td>2021-08-13</td>\n",
              "      <td>17148.414062</td>\n",
              "    </tr>\n",
              "    <tr>\n",
              "      <th>10</th>\n",
              "      <td>2021-08-16</td>\n",
              "      <td>17043.261719</td>\n",
              "    </tr>\n",
              "    <tr>\n",
              "      <th>11</th>\n",
              "      <td>2021-08-17</td>\n",
              "      <td>16843.220703</td>\n",
              "    </tr>\n",
              "    <tr>\n",
              "      <th>12</th>\n",
              "      <td>2021-08-18</td>\n",
              "      <td>16766.142578</td>\n",
              "    </tr>\n",
              "    <tr>\n",
              "      <th>13</th>\n",
              "      <td>2021-08-19</td>\n",
              "      <td>16739.421875</td>\n",
              "    </tr>\n",
              "    <tr>\n",
              "      <th>14</th>\n",
              "      <td>2021-08-20</td>\n",
              "      <td>16969.378906</td>\n",
              "    </tr>\n",
              "    <tr>\n",
              "      <th>15</th>\n",
              "      <td>2021-08-23</td>\n",
              "      <td>17164.398438</td>\n",
              "    </tr>\n",
              "    <tr>\n",
              "      <th>16</th>\n",
              "      <td>2021-08-24</td>\n",
              "      <td>17288.685547</td>\n",
              "    </tr>\n",
              "    <tr>\n",
              "      <th>17</th>\n",
              "      <td>2021-08-25</td>\n",
              "      <td>17338.289062</td>\n",
              "    </tr>\n",
              "    <tr>\n",
              "      <th>18</th>\n",
              "      <td>2021-08-26</td>\n",
              "      <td>17310.794922</td>\n",
              "    </tr>\n",
              "    <tr>\n",
              "      <th>19</th>\n",
              "      <td>2021-08-27</td>\n",
              "      <td>17236.847656</td>\n",
              "    </tr>\n",
              "    <tr>\n",
              "      <th>20</th>\n",
              "      <td>2021-08-30</td>\n",
              "      <td>17270.673828</td>\n",
              "    </tr>\n",
              "    <tr>\n",
              "      <th>21</th>\n",
              "      <td>2021-08-31</td>\n",
              "      <td>17259.750000</td>\n",
              "    </tr>\n",
              "    <tr>\n",
              "      <th>22</th>\n",
              "      <td>2021-09-01</td>\n",
              "      <td>17202.669922</td>\n",
              "    </tr>\n",
              "    <tr>\n",
              "      <th>23</th>\n",
              "      <td>2021-09-02</td>\n",
              "      <td>17253.683594</td>\n",
              "    </tr>\n",
              "    <tr>\n",
              "      <th>24</th>\n",
              "      <td>2021-09-03</td>\n",
              "      <td>17325.861328</td>\n",
              "    </tr>\n",
              "    <tr>\n",
              "      <th>25</th>\n",
              "      <td>2021-09-07</td>\n",
              "      <td>17393.191406</td>\n",
              "    </tr>\n",
              "    <tr>\n",
              "      <th>26</th>\n",
              "      <td>2021-09-08</td>\n",
              "      <td>17451.607422</td>\n",
              "    </tr>\n",
              "    <tr>\n",
              "      <th>27</th>\n",
              "      <td>2021-09-09</td>\n",
              "      <td>17423.593750</td>\n",
              "    </tr>\n",
              "    <tr>\n",
              "      <th>28</th>\n",
              "      <td>2021-09-10</td>\n",
              "      <td>17399.882812</td>\n",
              "    </tr>\n",
              "    <tr>\n",
              "      <th>29</th>\n",
              "      <td>2021-09-13</td>\n",
              "      <td>17362.539062</td>\n",
              "    </tr>\n",
              "  </tbody>\n",
              "</table>\n",
              "</div>"
            ],
            "text/plain": [
              "         Date         Close\n",
              "0  2021-08-02  16927.181641\n",
              "1  2021-08-03  16959.031250\n",
              "2  2021-08-04  17018.964844\n",
              "3  2021-08-05  17116.912109\n",
              "4  2021-08-06  17095.357422\n",
              "5  2021-08-09  17101.562500\n",
              "6  2021-08-10  17070.283203\n",
              "7  2021-08-11  17193.044922\n",
              "8  2021-08-12  17220.251953\n",
              "9  2021-08-13  17148.414062\n",
              "10 2021-08-16  17043.261719\n",
              "11 2021-08-17  16843.220703\n",
              "12 2021-08-18  16766.142578\n",
              "13 2021-08-19  16739.421875\n",
              "14 2021-08-20  16969.378906\n",
              "15 2021-08-23  17164.398438\n",
              "16 2021-08-24  17288.685547\n",
              "17 2021-08-25  17338.289062\n",
              "18 2021-08-26  17310.794922\n",
              "19 2021-08-27  17236.847656\n",
              "20 2021-08-30  17270.673828\n",
              "21 2021-08-31  17259.750000\n",
              "22 2021-09-01  17202.669922\n",
              "23 2021-09-02  17253.683594\n",
              "24 2021-09-03  17325.861328\n",
              "25 2021-09-07  17393.191406\n",
              "26 2021-09-08  17451.607422\n",
              "27 2021-09-09  17423.593750\n",
              "28 2021-09-10  17399.882812\n",
              "29 2021-09-13  17362.539062"
            ]
          },
          "metadata": {},
          "execution_count": 128
        }
      ]
    },
    {
      "cell_type": "code",
      "metadata": {
        "id": "RKAjrXdyy0j5",
        "outputId": "3bdf1506-3135-4762-fa3b-94d46b570c5c",
        "colab": {
          "base_uri": "https://localhost:8080/",
          "height": 363
        }
      },
      "source": [
        "df_forecast = df_forecast.loc[df_forecast['Date'] <= last_original_date]\n",
        "df_forecast"
      ],
      "execution_count": 129,
      "outputs": [
        {
          "output_type": "execute_result",
          "data": {
            "text/html": [
              "<div>\n",
              "<style scoped>\n",
              "    .dataframe tbody tr th:only-of-type {\n",
              "        vertical-align: middle;\n",
              "    }\n",
              "\n",
              "    .dataframe tbody tr th {\n",
              "        vertical-align: top;\n",
              "    }\n",
              "\n",
              "    .dataframe thead th {\n",
              "        text-align: right;\n",
              "    }\n",
              "</style>\n",
              "<table border=\"1\" class=\"dataframe\">\n",
              "  <thead>\n",
              "    <tr style=\"text-align: right;\">\n",
              "      <th></th>\n",
              "      <th>Date</th>\n",
              "      <th>Close</th>\n",
              "    </tr>\n",
              "  </thead>\n",
              "  <tbody>\n",
              "    <tr>\n",
              "      <th>0</th>\n",
              "      <td>2021-08-02</td>\n",
              "      <td>16927.181641</td>\n",
              "    </tr>\n",
              "    <tr>\n",
              "      <th>1</th>\n",
              "      <td>2021-08-03</td>\n",
              "      <td>16959.031250</td>\n",
              "    </tr>\n",
              "    <tr>\n",
              "      <th>2</th>\n",
              "      <td>2021-08-04</td>\n",
              "      <td>17018.964844</td>\n",
              "    </tr>\n",
              "    <tr>\n",
              "      <th>3</th>\n",
              "      <td>2021-08-05</td>\n",
              "      <td>17116.912109</td>\n",
              "    </tr>\n",
              "    <tr>\n",
              "      <th>4</th>\n",
              "      <td>2021-08-06</td>\n",
              "      <td>17095.357422</td>\n",
              "    </tr>\n",
              "    <tr>\n",
              "      <th>5</th>\n",
              "      <td>2021-08-09</td>\n",
              "      <td>17101.562500</td>\n",
              "    </tr>\n",
              "    <tr>\n",
              "      <th>6</th>\n",
              "      <td>2021-08-10</td>\n",
              "      <td>17070.283203</td>\n",
              "    </tr>\n",
              "    <tr>\n",
              "      <th>7</th>\n",
              "      <td>2021-08-11</td>\n",
              "      <td>17193.044922</td>\n",
              "    </tr>\n",
              "    <tr>\n",
              "      <th>8</th>\n",
              "      <td>2021-08-12</td>\n",
              "      <td>17220.251953</td>\n",
              "    </tr>\n",
              "    <tr>\n",
              "      <th>9</th>\n",
              "      <td>2021-08-13</td>\n",
              "      <td>17148.414062</td>\n",
              "    </tr>\n",
              "  </tbody>\n",
              "</table>\n",
              "</div>"
            ],
            "text/plain": [
              "        Date         Close\n",
              "0 2021-08-02  16927.181641\n",
              "1 2021-08-03  16959.031250\n",
              "2 2021-08-04  17018.964844\n",
              "3 2021-08-05  17116.912109\n",
              "4 2021-08-06  17095.357422\n",
              "5 2021-08-09  17101.562500\n",
              "6 2021-08-10  17070.283203\n",
              "7 2021-08-11  17193.044922\n",
              "8 2021-08-12  17220.251953\n",
              "9 2021-08-13  17148.414062"
            ]
          },
          "metadata": {},
          "execution_count": 129
        }
      ]
    },
    {
      "cell_type": "code",
      "metadata": {
        "colab": {
          "base_uri": "https://localhost:8080/"
        },
        "id": "cfc8Uw5IGIZ3",
        "outputId": "68409e87-3d65-4bc6-c256-eaec9bd5163f"
      },
      "source": [
        "13618.640625/14771.50"
      ],
      "execution_count": 130,
      "outputs": [
        {
          "output_type": "execute_result",
          "data": {
            "text/plain": [
              "0.9219538046237687"
            ]
          },
          "metadata": {},
          "execution_count": 130
        }
      ]
    },
    {
      "cell_type": "code",
      "metadata": {
        "colab": {
          "base_uri": "https://localhost:8080/"
        },
        "id": "x5mjPCdpGIlA",
        "outputId": "89704c8e-57ad-4474-dd58-95768cce42c0"
      },
      "source": [
        "13574.999023/14715.129883"
      ],
      "execution_count": 131,
      "outputs": [
        {
          "output_type": "execute_result",
          "data": {
            "text/plain": [
              "0.9225198235377343"
            ]
          },
          "metadata": {},
          "execution_count": 131
        }
      ]
    },
    {
      "cell_type": "code",
      "metadata": {
        "id": "C56uwu4WAcxs"
      },
      "source": [
        "direction = []\n",
        "a = 14821.030273\n",
        "for i in df_forecast['Close']:\n",
        "  if (i==a):\n",
        "    dir = 'Neutral'\n",
        "    #print(dir)\n",
        "  if (i< a):\n",
        "    dir = 'Down'\n",
        "    #print(dir)\n",
        "  else:\n",
        "    dir = 'Up'\n",
        "    #print(dir)\n",
        "  a = i\n",
        "  direction.append(dir)\n",
        "#direction\n",
        "  "
      ],
      "execution_count": 132,
      "outputs": []
    },
    {
      "cell_type": "code",
      "metadata": {
        "id": "pJBn1MWL1b2S",
        "outputId": "3bdedb42-23bb-4e52-bfdb-1f2e722f2c38",
        "colab": {
          "base_uri": "https://localhost:8080/"
        }
      },
      "source": [
        "original_open = original_open['Close']\n",
        "original_open = np.array(original_open)\n",
        "original_open"
      ],
      "execution_count": 133,
      "outputs": [
        {
          "output_type": "execute_result",
          "data": {
            "text/plain": [
              "array([14681.070313, 14761.290039, 14780.530273, 14895.120117,\n",
              "       14835.759766, 14860.179688, 14788.089844, 14765.139648,\n",
              "       14816.259766, 14822.900391])"
            ]
          },
          "metadata": {},
          "execution_count": 133
        }
      ]
    },
    {
      "cell_type": "code",
      "metadata": {
        "colab": {
          "base_uri": "https://localhost:8080/",
          "height": 487
        },
        "id": "z6QOHTpjUEmQ",
        "outputId": "5cb8e3ca-0c7a-4ad4-c582-20be9932aed3"
      },
      "source": [
        "df_forecast['Actual Price'] = original_open\n",
        "df_forecast"
      ],
      "execution_count": 134,
      "outputs": [
        {
          "output_type": "stream",
          "text": [
            "/usr/local/lib/python3.7/dist-packages/ipykernel_launcher.py:1: SettingWithCopyWarning: \n",
            "A value is trying to be set on a copy of a slice from a DataFrame.\n",
            "Try using .loc[row_indexer,col_indexer] = value instead\n",
            "\n",
            "See the caveats in the documentation: https://pandas.pydata.org/pandas-docs/stable/user_guide/indexing.html#returning-a-view-versus-a-copy\n",
            "  \"\"\"Entry point for launching an IPython kernel.\n"
          ],
          "name": "stderr"
        },
        {
          "output_type": "execute_result",
          "data": {
            "text/html": [
              "<div>\n",
              "<style scoped>\n",
              "    .dataframe tbody tr th:only-of-type {\n",
              "        vertical-align: middle;\n",
              "    }\n",
              "\n",
              "    .dataframe tbody tr th {\n",
              "        vertical-align: top;\n",
              "    }\n",
              "\n",
              "    .dataframe thead th {\n",
              "        text-align: right;\n",
              "    }\n",
              "</style>\n",
              "<table border=\"1\" class=\"dataframe\">\n",
              "  <thead>\n",
              "    <tr style=\"text-align: right;\">\n",
              "      <th></th>\n",
              "      <th>Date</th>\n",
              "      <th>Close</th>\n",
              "      <th>Actual Price</th>\n",
              "    </tr>\n",
              "  </thead>\n",
              "  <tbody>\n",
              "    <tr>\n",
              "      <th>0</th>\n",
              "      <td>2021-08-02</td>\n",
              "      <td>16927.181641</td>\n",
              "      <td>14681.070313</td>\n",
              "    </tr>\n",
              "    <tr>\n",
              "      <th>1</th>\n",
              "      <td>2021-08-03</td>\n",
              "      <td>16959.031250</td>\n",
              "      <td>14761.290039</td>\n",
              "    </tr>\n",
              "    <tr>\n",
              "      <th>2</th>\n",
              "      <td>2021-08-04</td>\n",
              "      <td>17018.964844</td>\n",
              "      <td>14780.530273</td>\n",
              "    </tr>\n",
              "    <tr>\n",
              "      <th>3</th>\n",
              "      <td>2021-08-05</td>\n",
              "      <td>17116.912109</td>\n",
              "      <td>14895.120117</td>\n",
              "    </tr>\n",
              "    <tr>\n",
              "      <th>4</th>\n",
              "      <td>2021-08-06</td>\n",
              "      <td>17095.357422</td>\n",
              "      <td>14835.759766</td>\n",
              "    </tr>\n",
              "    <tr>\n",
              "      <th>5</th>\n",
              "      <td>2021-08-09</td>\n",
              "      <td>17101.562500</td>\n",
              "      <td>14860.179688</td>\n",
              "    </tr>\n",
              "    <tr>\n",
              "      <th>6</th>\n",
              "      <td>2021-08-10</td>\n",
              "      <td>17070.283203</td>\n",
              "      <td>14788.089844</td>\n",
              "    </tr>\n",
              "    <tr>\n",
              "      <th>7</th>\n",
              "      <td>2021-08-11</td>\n",
              "      <td>17193.044922</td>\n",
              "      <td>14765.139648</td>\n",
              "    </tr>\n",
              "    <tr>\n",
              "      <th>8</th>\n",
              "      <td>2021-08-12</td>\n",
              "      <td>17220.251953</td>\n",
              "      <td>14816.259766</td>\n",
              "    </tr>\n",
              "    <tr>\n",
              "      <th>9</th>\n",
              "      <td>2021-08-13</td>\n",
              "      <td>17148.414062</td>\n",
              "      <td>14822.900391</td>\n",
              "    </tr>\n",
              "  </tbody>\n",
              "</table>\n",
              "</div>"
            ],
            "text/plain": [
              "        Date         Close  Actual Price\n",
              "0 2021-08-02  16927.181641  14681.070313\n",
              "1 2021-08-03  16959.031250  14761.290039\n",
              "2 2021-08-04  17018.964844  14780.530273\n",
              "3 2021-08-05  17116.912109  14895.120117\n",
              "4 2021-08-06  17095.357422  14835.759766\n",
              "5 2021-08-09  17101.562500  14860.179688\n",
              "6 2021-08-10  17070.283203  14788.089844\n",
              "7 2021-08-11  17193.044922  14765.139648\n",
              "8 2021-08-12  17220.251953  14816.259766\n",
              "9 2021-08-13  17148.414062  14822.900391"
            ]
          },
          "metadata": {},
          "execution_count": 134
        }
      ]
    },
    {
      "cell_type": "code",
      "metadata": {
        "colab": {
          "base_uri": "https://localhost:8080/",
          "height": 487
        },
        "id": "Ivfq003rG3jI",
        "outputId": "0a890966-b32e-4f6b-912b-e7c71227dcb6"
      },
      "source": [
        "df_forecast['Direction']= direction\n",
        "df_forecast"
      ],
      "execution_count": 135,
      "outputs": [
        {
          "output_type": "stream",
          "text": [
            "/usr/local/lib/python3.7/dist-packages/ipykernel_launcher.py:1: SettingWithCopyWarning: \n",
            "A value is trying to be set on a copy of a slice from a DataFrame.\n",
            "Try using .loc[row_indexer,col_indexer] = value instead\n",
            "\n",
            "See the caveats in the documentation: https://pandas.pydata.org/pandas-docs/stable/user_guide/indexing.html#returning-a-view-versus-a-copy\n",
            "  \"\"\"Entry point for launching an IPython kernel.\n"
          ],
          "name": "stderr"
        },
        {
          "output_type": "execute_result",
          "data": {
            "text/html": [
              "<div>\n",
              "<style scoped>\n",
              "    .dataframe tbody tr th:only-of-type {\n",
              "        vertical-align: middle;\n",
              "    }\n",
              "\n",
              "    .dataframe tbody tr th {\n",
              "        vertical-align: top;\n",
              "    }\n",
              "\n",
              "    .dataframe thead th {\n",
              "        text-align: right;\n",
              "    }\n",
              "</style>\n",
              "<table border=\"1\" class=\"dataframe\">\n",
              "  <thead>\n",
              "    <tr style=\"text-align: right;\">\n",
              "      <th></th>\n",
              "      <th>Date</th>\n",
              "      <th>Close</th>\n",
              "      <th>Actual Price</th>\n",
              "      <th>Direction</th>\n",
              "    </tr>\n",
              "  </thead>\n",
              "  <tbody>\n",
              "    <tr>\n",
              "      <th>0</th>\n",
              "      <td>2021-08-02</td>\n",
              "      <td>16927.181641</td>\n",
              "      <td>14681.070313</td>\n",
              "      <td>Up</td>\n",
              "    </tr>\n",
              "    <tr>\n",
              "      <th>1</th>\n",
              "      <td>2021-08-03</td>\n",
              "      <td>16959.031250</td>\n",
              "      <td>14761.290039</td>\n",
              "      <td>Up</td>\n",
              "    </tr>\n",
              "    <tr>\n",
              "      <th>2</th>\n",
              "      <td>2021-08-04</td>\n",
              "      <td>17018.964844</td>\n",
              "      <td>14780.530273</td>\n",
              "      <td>Up</td>\n",
              "    </tr>\n",
              "    <tr>\n",
              "      <th>3</th>\n",
              "      <td>2021-08-05</td>\n",
              "      <td>17116.912109</td>\n",
              "      <td>14895.120117</td>\n",
              "      <td>Up</td>\n",
              "    </tr>\n",
              "    <tr>\n",
              "      <th>4</th>\n",
              "      <td>2021-08-06</td>\n",
              "      <td>17095.357422</td>\n",
              "      <td>14835.759766</td>\n",
              "      <td>Down</td>\n",
              "    </tr>\n",
              "    <tr>\n",
              "      <th>5</th>\n",
              "      <td>2021-08-09</td>\n",
              "      <td>17101.562500</td>\n",
              "      <td>14860.179688</td>\n",
              "      <td>Up</td>\n",
              "    </tr>\n",
              "    <tr>\n",
              "      <th>6</th>\n",
              "      <td>2021-08-10</td>\n",
              "      <td>17070.283203</td>\n",
              "      <td>14788.089844</td>\n",
              "      <td>Down</td>\n",
              "    </tr>\n",
              "    <tr>\n",
              "      <th>7</th>\n",
              "      <td>2021-08-11</td>\n",
              "      <td>17193.044922</td>\n",
              "      <td>14765.139648</td>\n",
              "      <td>Up</td>\n",
              "    </tr>\n",
              "    <tr>\n",
              "      <th>8</th>\n",
              "      <td>2021-08-12</td>\n",
              "      <td>17220.251953</td>\n",
              "      <td>14816.259766</td>\n",
              "      <td>Up</td>\n",
              "    </tr>\n",
              "    <tr>\n",
              "      <th>9</th>\n",
              "      <td>2021-08-13</td>\n",
              "      <td>17148.414062</td>\n",
              "      <td>14822.900391</td>\n",
              "      <td>Down</td>\n",
              "    </tr>\n",
              "  </tbody>\n",
              "</table>\n",
              "</div>"
            ],
            "text/plain": [
              "        Date         Close  Actual Price Direction\n",
              "0 2021-08-02  16927.181641  14681.070313        Up\n",
              "1 2021-08-03  16959.031250  14761.290039        Up\n",
              "2 2021-08-04  17018.964844  14780.530273        Up\n",
              "3 2021-08-05  17116.912109  14895.120117        Up\n",
              "4 2021-08-06  17095.357422  14835.759766      Down\n",
              "5 2021-08-09  17101.562500  14860.179688        Up\n",
              "6 2021-08-10  17070.283203  14788.089844      Down\n",
              "7 2021-08-11  17193.044922  14765.139648        Up\n",
              "8 2021-08-12  17220.251953  14816.259766        Up\n",
              "9 2021-08-13  17148.414062  14822.900391      Down"
            ]
          },
          "metadata": {},
          "execution_count": 135
        }
      ]
    },
    {
      "cell_type": "code",
      "metadata": {
        "colab": {
          "base_uri": "https://localhost:8080/"
        },
        "id": "V-OsgMO9HzHw",
        "outputId": "2af63f06-af48-4028-ceb8-3f4bd7115579"
      },
      "source": [
        "Accuracy = df_forecast['Close']/df_forecast['Actual Price']\n",
        "Accuracy=np.array(Accuracy)\n",
        "Accuracy"
      ],
      "execution_count": 136,
      "outputs": [
        {
          "output_type": "execute_result",
          "data": {
            "text/plain": [
              "array([1.1529937 , 1.14888544, 1.15144481, 1.14916241, 1.15230751,\n",
              "       1.15083147, 1.15432645, 1.16443497, 1.16225365, 1.15688655])"
            ]
          },
          "metadata": {},
          "execution_count": 136
        }
      ]
    },
    {
      "cell_type": "code",
      "metadata": {
        "id": "qqas86LcfMg8",
        "colab": {
          "base_uri": "https://localhost:8080/"
        },
        "outputId": "da3efd90-91e5-4e99-8c41-d84d48b9a54f"
      },
      "source": [
        "df_forecast['Accuracy'] = Accuracy"
      ],
      "execution_count": 137,
      "outputs": [
        {
          "output_type": "stream",
          "text": [
            "/usr/local/lib/python3.7/dist-packages/ipykernel_launcher.py:1: SettingWithCopyWarning: \n",
            "A value is trying to be set on a copy of a slice from a DataFrame.\n",
            "Try using .loc[row_indexer,col_indexer] = value instead\n",
            "\n",
            "See the caveats in the documentation: https://pandas.pydata.org/pandas-docs/stable/user_guide/indexing.html#returning-a-view-versus-a-copy\n",
            "  \"\"\"Entry point for launching an IPython kernel.\n"
          ],
          "name": "stderr"
        }
      ]
    },
    {
      "cell_type": "code",
      "metadata": {
        "id": "aO4y0wRHVar9",
        "colab": {
          "base_uri": "https://localhost:8080/"
        },
        "outputId": "177d6abe-7fdd-4093-eeeb-a0e2184ebb37"
      },
      "source": [
        "pred_first_dates = pd.to_datetime(predict_period_dates)\n",
        "pred_first_dates"
      ],
      "execution_count": 138,
      "outputs": [
        {
          "output_type": "execute_result",
          "data": {
            "text/plain": [
              "DatetimeIndex(['2021-08-02', '2021-08-03', '2021-08-04', '2021-08-05',\n",
              "               '2021-08-06', '2021-08-09', '2021-08-10', '2021-08-11',\n",
              "               '2021-08-12', '2021-08-13', '2021-08-16', '2021-08-17',\n",
              "               '2021-08-18', '2021-08-19', '2021-08-20', '2021-08-23',\n",
              "               '2021-08-24', '2021-08-25', '2021-08-26', '2021-08-27',\n",
              "               '2021-08-30', '2021-08-31', '2021-09-01', '2021-09-02',\n",
              "               '2021-09-03', '2021-09-07', '2021-09-08', '2021-09-09',\n",
              "               '2021-09-10', '2021-09-13'],\n",
              "              dtype='datetime64[ns]', freq=None)"
            ]
          },
          "metadata": {},
          "execution_count": 138
        }
      ]
    },
    {
      "cell_type": "code",
      "metadata": {
        "id": "JS_YpExMXfyN",
        "colab": {
          "base_uri": "https://localhost:8080/"
        },
        "outputId": "2f60059a-b609-4d64-e121-c9fbc7c47a7f"
      },
      "source": [
        "original_open"
      ],
      "execution_count": 139,
      "outputs": [
        {
          "output_type": "execute_result",
          "data": {
            "text/plain": [
              "array([14681.070313, 14761.290039, 14780.530273, 14895.120117,\n",
              "       14835.759766, 14860.179688, 14788.089844, 14765.139648,\n",
              "       14816.259766, 14822.900391])"
            ]
          },
          "metadata": {},
          "execution_count": 139
        }
      ]
    },
    {
      "cell_type": "code",
      "metadata": {
        "id": "QEhS1DMSQTuT",
        "colab": {
          "base_uri": "https://localhost:8080/"
        },
        "outputId": "ee63855c-a9aa-45ff-a0b6-1cf131d2161d"
      },
      "source": [
        "df_forecast['Close'][0]"
      ],
      "execution_count": 140,
      "outputs": [
        {
          "output_type": "execute_result",
          "data": {
            "text/plain": [
              "16927.182"
            ]
          },
          "metadata": {},
          "execution_count": 140
        }
      ]
    },
    {
      "cell_type": "code",
      "metadata": {
        "id": "mo92r6OJJfWa"
      },
      "source": [
        "actual_direction = []\n",
        "#a = predict_period_dates[0]#14821.030273\n",
        "a = df_forecast['Close'][0]\n",
        "b = original_open[0]\n",
        "for i in original_open:\n",
        "  #print(i,a)\n",
        "  if (i==bin):\n",
        "    dir = 'Neutral'\n",
        "    #print(dir)\n",
        "  if (i< b):\n",
        "    dir = 'Down'\n",
        "    #print(dir)\n",
        "  else:\n",
        "    dir = 'Up'\n",
        "    #print(dir)\n",
        "  b = i\n",
        "  actual_direction.append(dir)\n",
        "#actual_direction"
      ],
      "execution_count": 141,
      "outputs": []
    },
    {
      "cell_type": "code",
      "metadata": {
        "id": "8RuYEGxrLG2i",
        "colab": {
          "base_uri": "https://localhost:8080/",
          "height": 487
        },
        "outputId": "6f07873e-dc59-4bd1-b70d-0b0551f5019d"
      },
      "source": [
        "df_forecast['Actual Direction'] = actual_direction\n",
        "df_forecast"
      ],
      "execution_count": 142,
      "outputs": [
        {
          "output_type": "stream",
          "text": [
            "/usr/local/lib/python3.7/dist-packages/ipykernel_launcher.py:1: SettingWithCopyWarning: \n",
            "A value is trying to be set on a copy of a slice from a DataFrame.\n",
            "Try using .loc[row_indexer,col_indexer] = value instead\n",
            "\n",
            "See the caveats in the documentation: https://pandas.pydata.org/pandas-docs/stable/user_guide/indexing.html#returning-a-view-versus-a-copy\n",
            "  \"\"\"Entry point for launching an IPython kernel.\n"
          ],
          "name": "stderr"
        },
        {
          "output_type": "execute_result",
          "data": {
            "text/html": [
              "<div>\n",
              "<style scoped>\n",
              "    .dataframe tbody tr th:only-of-type {\n",
              "        vertical-align: middle;\n",
              "    }\n",
              "\n",
              "    .dataframe tbody tr th {\n",
              "        vertical-align: top;\n",
              "    }\n",
              "\n",
              "    .dataframe thead th {\n",
              "        text-align: right;\n",
              "    }\n",
              "</style>\n",
              "<table border=\"1\" class=\"dataframe\">\n",
              "  <thead>\n",
              "    <tr style=\"text-align: right;\">\n",
              "      <th></th>\n",
              "      <th>Date</th>\n",
              "      <th>Close</th>\n",
              "      <th>Actual Price</th>\n",
              "      <th>Direction</th>\n",
              "      <th>Accuracy</th>\n",
              "      <th>Actual Direction</th>\n",
              "    </tr>\n",
              "  </thead>\n",
              "  <tbody>\n",
              "    <tr>\n",
              "      <th>0</th>\n",
              "      <td>2021-08-02</td>\n",
              "      <td>16927.181641</td>\n",
              "      <td>14681.070313</td>\n",
              "      <td>Up</td>\n",
              "      <td>1.152994</td>\n",
              "      <td>Up</td>\n",
              "    </tr>\n",
              "    <tr>\n",
              "      <th>1</th>\n",
              "      <td>2021-08-03</td>\n",
              "      <td>16959.031250</td>\n",
              "      <td>14761.290039</td>\n",
              "      <td>Up</td>\n",
              "      <td>1.148885</td>\n",
              "      <td>Up</td>\n",
              "    </tr>\n",
              "    <tr>\n",
              "      <th>2</th>\n",
              "      <td>2021-08-04</td>\n",
              "      <td>17018.964844</td>\n",
              "      <td>14780.530273</td>\n",
              "      <td>Up</td>\n",
              "      <td>1.151445</td>\n",
              "      <td>Up</td>\n",
              "    </tr>\n",
              "    <tr>\n",
              "      <th>3</th>\n",
              "      <td>2021-08-05</td>\n",
              "      <td>17116.912109</td>\n",
              "      <td>14895.120117</td>\n",
              "      <td>Up</td>\n",
              "      <td>1.149162</td>\n",
              "      <td>Up</td>\n",
              "    </tr>\n",
              "    <tr>\n",
              "      <th>4</th>\n",
              "      <td>2021-08-06</td>\n",
              "      <td>17095.357422</td>\n",
              "      <td>14835.759766</td>\n",
              "      <td>Down</td>\n",
              "      <td>1.152308</td>\n",
              "      <td>Down</td>\n",
              "    </tr>\n",
              "    <tr>\n",
              "      <th>5</th>\n",
              "      <td>2021-08-09</td>\n",
              "      <td>17101.562500</td>\n",
              "      <td>14860.179688</td>\n",
              "      <td>Up</td>\n",
              "      <td>1.150831</td>\n",
              "      <td>Up</td>\n",
              "    </tr>\n",
              "    <tr>\n",
              "      <th>6</th>\n",
              "      <td>2021-08-10</td>\n",
              "      <td>17070.283203</td>\n",
              "      <td>14788.089844</td>\n",
              "      <td>Down</td>\n",
              "      <td>1.154326</td>\n",
              "      <td>Down</td>\n",
              "    </tr>\n",
              "    <tr>\n",
              "      <th>7</th>\n",
              "      <td>2021-08-11</td>\n",
              "      <td>17193.044922</td>\n",
              "      <td>14765.139648</td>\n",
              "      <td>Up</td>\n",
              "      <td>1.164435</td>\n",
              "      <td>Down</td>\n",
              "    </tr>\n",
              "    <tr>\n",
              "      <th>8</th>\n",
              "      <td>2021-08-12</td>\n",
              "      <td>17220.251953</td>\n",
              "      <td>14816.259766</td>\n",
              "      <td>Up</td>\n",
              "      <td>1.162254</td>\n",
              "      <td>Up</td>\n",
              "    </tr>\n",
              "    <tr>\n",
              "      <th>9</th>\n",
              "      <td>2021-08-13</td>\n",
              "      <td>17148.414062</td>\n",
              "      <td>14822.900391</td>\n",
              "      <td>Down</td>\n",
              "      <td>1.156887</td>\n",
              "      <td>Up</td>\n",
              "    </tr>\n",
              "  </tbody>\n",
              "</table>\n",
              "</div>"
            ],
            "text/plain": [
              "        Date         Close  Actual Price Direction  Accuracy Actual Direction\n",
              "0 2021-08-02  16927.181641  14681.070313        Up  1.152994               Up\n",
              "1 2021-08-03  16959.031250  14761.290039        Up  1.148885               Up\n",
              "2 2021-08-04  17018.964844  14780.530273        Up  1.151445               Up\n",
              "3 2021-08-05  17116.912109  14895.120117        Up  1.149162               Up\n",
              "4 2021-08-06  17095.357422  14835.759766      Down  1.152308             Down\n",
              "5 2021-08-09  17101.562500  14860.179688        Up  1.150831               Up\n",
              "6 2021-08-10  17070.283203  14788.089844      Down  1.154326             Down\n",
              "7 2021-08-11  17193.044922  14765.139648        Up  1.164435             Down\n",
              "8 2021-08-12  17220.251953  14816.259766        Up  1.162254               Up\n",
              "9 2021-08-13  17148.414062  14822.900391      Down  1.156887               Up"
            ]
          },
          "metadata": {},
          "execution_count": 142
        }
      ]
    },
    {
      "cell_type": "code",
      "metadata": {
        "id": "C0joJX0eVpFb"
      },
      "source": [
        ""
      ],
      "execution_count": 142,
      "outputs": []
    },
    {
      "cell_type": "code",
      "metadata": {
        "id": "EfIQTW6xVoFr"
      },
      "source": [
        "import math"
      ],
      "execution_count": 143,
      "outputs": []
    },
    {
      "cell_type": "markdown",
      "metadata": {
        "id": "_L_NmUWzLnt7"
      },
      "source": [
        "# Direction Accuracy:\n",
        "\n"
      ]
    },
    {
      "cell_type": "code",
      "metadata": {
        "id": "WEJ1kgVsQxUa",
        "colab": {
          "base_uri": "https://localhost:8080/"
        },
        "outputId": "41b375da-61f8-41d7-9beb-da56cb8d2785"
      },
      "source": [
        "hits =0\n",
        "misses=0\n",
        "for i in range(1, len(df_forecast)):\n",
        "  if (df_forecast['Direction'][i] == df_forecast['Actual Direction'][i]):\n",
        "    hits = hits +1\n",
        "    #print('Hit', hits)\n",
        "  else:\n",
        "    misses = misses +1\n",
        "    #print('Miss', misses)\n",
        "accuracy_overall = hits/(hits+misses)\n",
        "print('Overall Accuracy :' , accuracy_overall)"
      ],
      "execution_count": 144,
      "outputs": [
        {
          "output_type": "stream",
          "text": [
            "Overall Accuracy : 0.7777777777777778\n"
          ],
          "name": "stdout"
        }
      ]
    }
  ]
}